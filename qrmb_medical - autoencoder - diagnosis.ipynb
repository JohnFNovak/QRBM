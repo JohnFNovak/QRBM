{
 "cells": [
  {
   "cell_type": "markdown",
   "metadata": {},
   "source": [
    "# Restricted Boltzmann Machine using quantum annealing on D-wave's QPU"
   ]
  },
  {
   "cell_type": "markdown",
   "metadata": {},
   "source": [
    "## Imports"
   ]
  },
  {
   "cell_type": "code",
   "execution_count": 1,
   "metadata": {},
   "outputs": [
    {
     "name": "stderr",
     "output_type": "stream",
     "text": [
      "/usr/lib/python3/dist-packages/scipy/__init__.py:146: UserWarning: A NumPy version >=1.17.3 and <1.25.0 is required for this version of SciPy (detected version 1.25.2\n",
      "  warnings.warn(f\"A NumPy version >={np_minversion} and <{np_maxversion}\"\n"
     ]
    }
   ],
   "source": [
    "import numpy as np\n",
    "import timeit\n",
    "import matplotlib.pyplot as plt\n",
    "from tqdm import tqdm_notebook as tqdm\n",
    "\n",
    "from qrbm.EncodedQRBM import QRBM\n",
    "\n",
    "import matplotlib.pyplot as plt\n",
    "%matplotlib inline\n",
    "plt.rcParams['image.cmap'] = 'gray'\n",
    "\n",
    "import pandas as pd\n",
    "\n",
    "from skimage import data, color\n",
    "from skimage.transform import rescale, resize, downscale_local_mean\n",
    "from skimage import img_as_bool\n",
    "\n",
    "import cv2 as cv\n",
    "\n",
    "import random"
   ]
  },
  {
   "cell_type": "markdown",
   "metadata": {},
   "source": [
    "## Presets\n",
    "\n",
    "Here you can set hyperparameters for learning:\n",
    "\n",
    " - digits: list of digits to train on\n",
    " - THRESHOLD: how bright parts of image become 1 (darker become 0)\n",
    " - n_hidden: number of neurons in hidden layer\n",
    " - qpu: whether to use real D-wave's qpu (requires [setup](https://docs.ocean.dwavesys.com/en/stable/overview/sapi.html)) or a local simulator\n",
    " - epochs: number of epochs\n",
    " - lr: learning rate\n"
   ]
  },
  {
   "cell_type": "code",
   "execution_count": 2,
   "metadata": {},
   "outputs": [],
   "source": [
    "n_hidden = 300\n",
    "qpu = False\n",
    "epochs = 300\n",
    "lr = 0.1"
   ]
  },
  {
   "cell_type": "markdown",
   "metadata": {},
   "source": [
    "## reading dataset"
   ]
  },
  {
   "cell_type": "code",
   "execution_count": 3,
   "metadata": {
    "scrolled": false
   },
   "outputs": [],
   "source": [
    "data = pd.read_csv('encoded_data.csv')"
   ]
  },
  {
   "cell_type": "markdown",
   "metadata": {},
   "source": [
    "## prepare train and test set"
   ]
  },
  {
   "cell_type": "code",
   "execution_count": 4,
   "metadata": {},
   "outputs": [],
   "source": [
    "cols = data.columns"
   ]
  },
  {
   "cell_type": "code",
   "execution_count": 5,
   "metadata": {},
   "outputs": [],
   "source": [
    "cols = [x for x in cols if not x.startswith('Disease')]"
   ]
  },
  {
   "cell_type": "code",
   "execution_count": 6,
   "metadata": {},
   "outputs": [],
   "source": [
    "cols = [x for x in cols if not '?' in x]"
   ]
  },
  {
   "cell_type": "code",
   "execution_count": 7,
   "metadata": {},
   "outputs": [],
   "source": [
    "cols = [x for x in cols if not 'Treatment' in x]"
   ]
  },
  {
   "cell_type": "code",
   "execution_count": 8,
   "metadata": {},
   "outputs": [
    {
     "data": {
      "text/plain": [
       "['Sex',\n",
       " 'Stoke Risk (ABCD2 > 4)',\n",
       " 'Dizziness Type',\n",
       " 'SG Vertical N-None',\n",
       " 'SG Vertical N-Down-beating_vs_Up-beating',\n",
       " 'SG Horizintal N-None',\n",
       " 'SG Horizintal N-Left-beating_vs_Right-beating',\n",
       " 'SG Torsional N-None',\n",
       " 'SG Torsional N-Top-pole-to-L-ear torsional_vs_Top-pole-to-R-ear torsional',\n",
       " 'Right Gaze Vertical N',\n",
       " 'Right G Horizintal N',\n",
       " 'Right G Torsional N-None',\n",
       " 'Right G Torsional N-Top-pole-to-L-ear torsional_vs_Top-pole-to-R-ear torsional',\n",
       " 'Left Gaze \"Induced\" Vertical Nystagmus',\n",
       " 'Left Gaze \"Induced\" Horizintal Nystagmus',\n",
       " 'Left Gaze \"Induced\" Torsional Nystagmus-None',\n",
       " 'Left Gaze \"Induced\" Torsional Nystagmus-Top-pole-to-L-ear torsional_vs_Top-pole-to-R-ear torsional',\n",
       " 'Up Gaze \"Induced\" Vertical Nystagmus',\n",
       " 'Up Gaze \"Induced\" Horizintal Nystagmus-None',\n",
       " 'Up Gaze \"Induced\" Horizintal Nystagmus-Left-beating_vs_Right-beating',\n",
       " 'Up Gaze \"Induced\" Torsional Nystagmus-None',\n",
       " 'Up Gaze \"Induced\" Torsional Nystagmus-Top pole to right ear torsional nystamgus_vs_Top-pole-to-L-ear torsional',\n",
       " 'Down Gaze \"Induced\" Vertical Nystagmus',\n",
       " 'Down Gaze \"Induced\" Horizintal Nystagmus-None',\n",
       " 'Down Gaze \"Induced\" Horizintal Nystagmus-Left-beating_vs_Right-beating',\n",
       " 'Down Gaze \"Induced\" Torsional Nystagmus',\n",
       " 'Right Dix-Hallpike Induced Vertical Nystagmus-None',\n",
       " 'Right Dix-Hallpike Induced Vertical Nystagmus-Down-beating_vs_Up-beating',\n",
       " 'Right Dix-Hallpike Induced Horizontal Nystagmus-None',\n",
       " 'Right Dix-Hallpike Induced Horizontal Nystagmus-Left-beating_vs_Right-beating',\n",
       " 'Right Dix-Hallpike Induced Torsional Nystagmus-None',\n",
       " 'Right Dix-Hallpike Induced Torsional Nystagmus-Top-pole-to-L-ear torsional_vs_Top-pole-to-R-ear torsional',\n",
       " 'Left Dix-Hallpike Induced Vertical Nystagmus-None',\n",
       " 'Left Dix-Hallpike Induced Vertical Nystagmus-Down-beating_vs_Up-beating',\n",
       " 'Left Dix-Hallpike Induced Horizontal Nystagmus-None',\n",
       " 'Left Dix-Hallpike Induced Horizontal Nystagmus-Left-beating_vs_Right-beating',\n",
       " 'Left Dix-Hallpike Induced Torsional Nystagmus-None',\n",
       " 'Left Dix-Hallpike Induced Torsional Nystagmus-Top-pole-to-L-ear torsional_vs_Top-pole-to-R-ear torsional',\n",
       " 'Right Roll Induced Vertical Nystagmus-None',\n",
       " 'Right Roll Induced Vertical Nystagmus-Down-beating_vs_Up-beating',\n",
       " 'Right Roll Induced Horizontal Nystagmus-None',\n",
       " 'Right Roll Induced Horizontal Nystagmus-Left-beating_vs_Right-beating',\n",
       " 'Right Roll Induced Torsional Nystagmus-None',\n",
       " 'Right Roll Induced Torsional Nystagmus-Top-pole-to-L-ear torsional_vs_Top-pole-to-R-ear torsional',\n",
       " 'Left Roll Induced Vertical Nystagmus-None',\n",
       " 'Left Roll Induced Vertical Nystagmus-Down-beating_vs_Up-beating',\n",
       " 'Left Roll Induced Horizontal Nystagmus-None',\n",
       " 'Left Roll Induced Horizontal Nystagmus-Left-beating_vs_Right-beating',\n",
       " 'Left Roll Induced Torsional Nystagmus-None',\n",
       " 'Left Roll Induced Torsional Nystagmus-Top-pole-to-L-ear torsional_vs_Top-pole-to-R-ear torsional',\n",
       " 'Bow Induced Vertical Nystagmus-None',\n",
       " 'Bow Induced Vertical Nystagmus-Down-beating_vs_Up-beating',\n",
       " 'Bow Induced Horizontal Nystagmus-None',\n",
       " 'Bow Induced Horizontal Nystagmus-Left-beating_vs_Right-beating',\n",
       " 'Bow Induced Torsional Nystagmus-None',\n",
       " 'Bow Induced Torsional Nystagmus-Torsional Top-Pole-to-the-Left-Ear_vs_Torsional Top-Pole-to-the-Right-Ear',\n",
       " 'Lean Induced Vertical Nystagmus-None',\n",
       " 'Lean Induced Vertical Nystagmus-Down-beating_vs_Up-beating',\n",
       " 'Lean Induced Horizontal Nystagmus-None',\n",
       " 'Lean Induced Horizontal Nystagmus-Left-beating_vs_Right-beating',\n",
       " 'Lean Induced Torsional Nystagmus-None',\n",
       " 'Lean Induced Torsional Nystagmus-Torsional Top-Pole-to-the-Left-Ear_vs_Torsional Top-Pole-to-the-Right-Ear',\n",
       " 'Alternate Cover (Moving from Left Eye Occluded to Right Eye Occluded) caused vertical-No eye motion',\n",
       " 'Alternate Cover (Moving from Left Eye Occluded to Right Eye Occluded) caused vertical-Left eye moves down (L hyper)_vs_Left eye moves up (R hyper)',\n",
       " 'Alternate Cover (Moving from Left Eye Occluded to Right Eye Occluded) caused horizontal-No eye motion',\n",
       " 'Alternate Cover (Moving from Left Eye Occluded to Right Eye Occluded) caused horizontal-L eye moves up (L hyper)_vs_R eye moves down (R hyper)',\n",
       " 'Head impulse test to the left showed',\n",
       " 'Head impulse test to the right showed',\n",
       " 'Gait',\n",
       " 'Finger-nose-finger left hand-Abnormal',\n",
       " 'Finger-nose-finger left hand-None_vs_Normal',\n",
       " 'Finger-nose-finger right hand-Abnormal',\n",
       " 'Finger-nose-finger right hand-None_vs_Normal',\n",
       " 'Hearing loss right ear',\n",
       " 'Hearing loss left ear']"
      ]
     },
     "execution_count": 8,
     "metadata": {},
     "output_type": "execute_result"
    }
   ],
   "source": [
    "cols"
   ]
  },
  {
   "cell_type": "code",
   "execution_count": 9,
   "metadata": {},
   "outputs": [],
   "source": [
    "data = data[cols]"
   ]
  },
  {
   "cell_type": "code",
   "execution_count": 10,
   "metadata": {},
   "outputs": [
    {
     "data": {
      "text/html": [
       "<div>\n",
       "<style scoped>\n",
       "    .dataframe tbody tr th:only-of-type {\n",
       "        vertical-align: middle;\n",
       "    }\n",
       "\n",
       "    .dataframe tbody tr th {\n",
       "        vertical-align: top;\n",
       "    }\n",
       "\n",
       "    .dataframe thead th {\n",
       "        text-align: right;\n",
       "    }\n",
       "</style>\n",
       "<table border=\"1\" class=\"dataframe\">\n",
       "  <thead>\n",
       "    <tr style=\"text-align: right;\">\n",
       "      <th></th>\n",
       "      <th>Sex</th>\n",
       "      <th>Stoke Risk (ABCD2 &gt; 4)</th>\n",
       "      <th>Dizziness Type</th>\n",
       "      <th>SG Vertical N-None</th>\n",
       "      <th>SG Vertical N-Down-beating_vs_Up-beating</th>\n",
       "      <th>SG Horizintal N-None</th>\n",
       "      <th>SG Horizintal N-Left-beating_vs_Right-beating</th>\n",
       "      <th>SG Torsional N-None</th>\n",
       "      <th>SG Torsional N-Top-pole-to-L-ear torsional_vs_Top-pole-to-R-ear torsional</th>\n",
       "      <th>Right Gaze Vertical N</th>\n",
       "      <th>...</th>\n",
       "      <th>Alternate Cover (Moving from Left Eye Occluded to Right Eye Occluded) caused horizontal-L eye moves up (L hyper)_vs_R eye moves down (R hyper)</th>\n",
       "      <th>Head impulse test to the left showed</th>\n",
       "      <th>Head impulse test to the right showed</th>\n",
       "      <th>Gait</th>\n",
       "      <th>Finger-nose-finger left hand-Abnormal</th>\n",
       "      <th>Finger-nose-finger left hand-None_vs_Normal</th>\n",
       "      <th>Finger-nose-finger right hand-Abnormal</th>\n",
       "      <th>Finger-nose-finger right hand-None_vs_Normal</th>\n",
       "      <th>Hearing loss right ear</th>\n",
       "      <th>Hearing loss left ear</th>\n",
       "    </tr>\n",
       "  </thead>\n",
       "  <tbody>\n",
       "    <tr>\n",
       "      <th>0</th>\n",
       "      <td>0</td>\n",
       "      <td>1</td>\n",
       "      <td>0</td>\n",
       "      <td>0</td>\n",
       "      <td>0</td>\n",
       "      <td>0</td>\n",
       "      <td>0</td>\n",
       "      <td>0</td>\n",
       "      <td>0</td>\n",
       "      <td>0</td>\n",
       "      <td>...</td>\n",
       "      <td>0</td>\n",
       "      <td>0</td>\n",
       "      <td>0</td>\n",
       "      <td>0</td>\n",
       "      <td>1</td>\n",
       "      <td>-1</td>\n",
       "      <td>1</td>\n",
       "      <td>-1</td>\n",
       "      <td>1</td>\n",
       "      <td>1</td>\n",
       "    </tr>\n",
       "    <tr>\n",
       "      <th>1</th>\n",
       "      <td>1</td>\n",
       "      <td>1</td>\n",
       "      <td>0</td>\n",
       "      <td>0</td>\n",
       "      <td>0</td>\n",
       "      <td>0</td>\n",
       "      <td>0</td>\n",
       "      <td>0</td>\n",
       "      <td>0</td>\n",
       "      <td>0</td>\n",
       "      <td>...</td>\n",
       "      <td>0</td>\n",
       "      <td>0</td>\n",
       "      <td>0</td>\n",
       "      <td>0</td>\n",
       "      <td>1</td>\n",
       "      <td>-1</td>\n",
       "      <td>1</td>\n",
       "      <td>-1</td>\n",
       "      <td>1</td>\n",
       "      <td>1</td>\n",
       "    </tr>\n",
       "    <tr>\n",
       "      <th>2</th>\n",
       "      <td>1</td>\n",
       "      <td>1</td>\n",
       "      <td>0</td>\n",
       "      <td>0</td>\n",
       "      <td>0</td>\n",
       "      <td>0</td>\n",
       "      <td>0</td>\n",
       "      <td>0</td>\n",
       "      <td>0</td>\n",
       "      <td>0</td>\n",
       "      <td>...</td>\n",
       "      <td>0</td>\n",
       "      <td>0</td>\n",
       "      <td>0</td>\n",
       "      <td>0</td>\n",
       "      <td>1</td>\n",
       "      <td>-1</td>\n",
       "      <td>1</td>\n",
       "      <td>-1</td>\n",
       "      <td>1</td>\n",
       "      <td>1</td>\n",
       "    </tr>\n",
       "    <tr>\n",
       "      <th>3</th>\n",
       "      <td>1</td>\n",
       "      <td>0</td>\n",
       "      <td>0</td>\n",
       "      <td>0</td>\n",
       "      <td>0</td>\n",
       "      <td>0</td>\n",
       "      <td>0</td>\n",
       "      <td>0</td>\n",
       "      <td>0</td>\n",
       "      <td>0</td>\n",
       "      <td>...</td>\n",
       "      <td>0</td>\n",
       "      <td>0</td>\n",
       "      <td>0</td>\n",
       "      <td>0</td>\n",
       "      <td>1</td>\n",
       "      <td>-1</td>\n",
       "      <td>1</td>\n",
       "      <td>-1</td>\n",
       "      <td>1</td>\n",
       "      <td>1</td>\n",
       "    </tr>\n",
       "    <tr>\n",
       "      <th>4</th>\n",
       "      <td>0</td>\n",
       "      <td>0</td>\n",
       "      <td>0</td>\n",
       "      <td>0</td>\n",
       "      <td>0</td>\n",
       "      <td>0</td>\n",
       "      <td>0</td>\n",
       "      <td>0</td>\n",
       "      <td>0</td>\n",
       "      <td>0</td>\n",
       "      <td>...</td>\n",
       "      <td>0</td>\n",
       "      <td>0</td>\n",
       "      <td>0</td>\n",
       "      <td>0</td>\n",
       "      <td>1</td>\n",
       "      <td>-1</td>\n",
       "      <td>1</td>\n",
       "      <td>-1</td>\n",
       "      <td>1</td>\n",
       "      <td>1</td>\n",
       "    </tr>\n",
       "    <tr>\n",
       "      <th>5</th>\n",
       "      <td>1</td>\n",
       "      <td>1</td>\n",
       "      <td>0</td>\n",
       "      <td>0</td>\n",
       "      <td>0</td>\n",
       "      <td>0</td>\n",
       "      <td>0</td>\n",
       "      <td>0</td>\n",
       "      <td>0</td>\n",
       "      <td>0</td>\n",
       "      <td>...</td>\n",
       "      <td>0</td>\n",
       "      <td>0</td>\n",
       "      <td>0</td>\n",
       "      <td>0</td>\n",
       "      <td>1</td>\n",
       "      <td>-1</td>\n",
       "      <td>1</td>\n",
       "      <td>-1</td>\n",
       "      <td>1</td>\n",
       "      <td>1</td>\n",
       "    </tr>\n",
       "    <tr>\n",
       "      <th>6</th>\n",
       "      <td>1</td>\n",
       "      <td>1</td>\n",
       "      <td>0</td>\n",
       "      <td>0</td>\n",
       "      <td>0</td>\n",
       "      <td>0</td>\n",
       "      <td>0</td>\n",
       "      <td>0</td>\n",
       "      <td>0</td>\n",
       "      <td>0</td>\n",
       "      <td>...</td>\n",
       "      <td>0</td>\n",
       "      <td>0</td>\n",
       "      <td>0</td>\n",
       "      <td>0</td>\n",
       "      <td>1</td>\n",
       "      <td>-1</td>\n",
       "      <td>1</td>\n",
       "      <td>-1</td>\n",
       "      <td>1</td>\n",
       "      <td>1</td>\n",
       "    </tr>\n",
       "    <tr>\n",
       "      <th>7</th>\n",
       "      <td>0</td>\n",
       "      <td>1</td>\n",
       "      <td>0</td>\n",
       "      <td>0</td>\n",
       "      <td>0</td>\n",
       "      <td>0</td>\n",
       "      <td>0</td>\n",
       "      <td>0</td>\n",
       "      <td>0</td>\n",
       "      <td>0</td>\n",
       "      <td>...</td>\n",
       "      <td>0</td>\n",
       "      <td>0</td>\n",
       "      <td>0</td>\n",
       "      <td>0</td>\n",
       "      <td>1</td>\n",
       "      <td>-1</td>\n",
       "      <td>1</td>\n",
       "      <td>-1</td>\n",
       "      <td>1</td>\n",
       "      <td>1</td>\n",
       "    </tr>\n",
       "    <tr>\n",
       "      <th>8</th>\n",
       "      <td>1</td>\n",
       "      <td>0</td>\n",
       "      <td>0</td>\n",
       "      <td>0</td>\n",
       "      <td>0</td>\n",
       "      <td>0</td>\n",
       "      <td>0</td>\n",
       "      <td>0</td>\n",
       "      <td>0</td>\n",
       "      <td>0</td>\n",
       "      <td>...</td>\n",
       "      <td>0</td>\n",
       "      <td>0</td>\n",
       "      <td>0</td>\n",
       "      <td>0</td>\n",
       "      <td>1</td>\n",
       "      <td>-1</td>\n",
       "      <td>1</td>\n",
       "      <td>-1</td>\n",
       "      <td>1</td>\n",
       "      <td>1</td>\n",
       "    </tr>\n",
       "    <tr>\n",
       "      <th>9</th>\n",
       "      <td>1</td>\n",
       "      <td>1</td>\n",
       "      <td>0</td>\n",
       "      <td>0</td>\n",
       "      <td>0</td>\n",
       "      <td>0</td>\n",
       "      <td>0</td>\n",
       "      <td>0</td>\n",
       "      <td>0</td>\n",
       "      <td>0</td>\n",
       "      <td>...</td>\n",
       "      <td>0</td>\n",
       "      <td>0</td>\n",
       "      <td>0</td>\n",
       "      <td>0</td>\n",
       "      <td>1</td>\n",
       "      <td>-1</td>\n",
       "      <td>1</td>\n",
       "      <td>-1</td>\n",
       "      <td>1</td>\n",
       "      <td>1</td>\n",
       "    </tr>\n",
       "  </tbody>\n",
       "</table>\n",
       "<p>10 rows × 75 columns</p>\n",
       "</div>"
      ],
      "text/plain": [
       "   Sex  Stoke Risk (ABCD2 > 4)  Dizziness Type  SG Vertical N-None  \\\n",
       "0    0                       1               0                   0   \n",
       "1    1                       1               0                   0   \n",
       "2    1                       1               0                   0   \n",
       "3    1                       0               0                   0   \n",
       "4    0                       0               0                   0   \n",
       "5    1                       1               0                   0   \n",
       "6    1                       1               0                   0   \n",
       "7    0                       1               0                   0   \n",
       "8    1                       0               0                   0   \n",
       "9    1                       1               0                   0   \n",
       "\n",
       "   SG Vertical N-Down-beating_vs_Up-beating  SG Horizintal N-None  \\\n",
       "0                                         0                     0   \n",
       "1                                         0                     0   \n",
       "2                                         0                     0   \n",
       "3                                         0                     0   \n",
       "4                                         0                     0   \n",
       "5                                         0                     0   \n",
       "6                                         0                     0   \n",
       "7                                         0                     0   \n",
       "8                                         0                     0   \n",
       "9                                         0                     0   \n",
       "\n",
       "   SG Horizintal N-Left-beating_vs_Right-beating  SG Torsional N-None  \\\n",
       "0                                              0                    0   \n",
       "1                                              0                    0   \n",
       "2                                              0                    0   \n",
       "3                                              0                    0   \n",
       "4                                              0                    0   \n",
       "5                                              0                    0   \n",
       "6                                              0                    0   \n",
       "7                                              0                    0   \n",
       "8                                              0                    0   \n",
       "9                                              0                    0   \n",
       "\n",
       "   SG Torsional N-Top-pole-to-L-ear torsional_vs_Top-pole-to-R-ear torsional  \\\n",
       "0                                                  0                           \n",
       "1                                                  0                           \n",
       "2                                                  0                           \n",
       "3                                                  0                           \n",
       "4                                                  0                           \n",
       "5                                                  0                           \n",
       "6                                                  0                           \n",
       "7                                                  0                           \n",
       "8                                                  0                           \n",
       "9                                                  0                           \n",
       "\n",
       "   Right Gaze Vertical N  ...  \\\n",
       "0                      0  ...   \n",
       "1                      0  ...   \n",
       "2                      0  ...   \n",
       "3                      0  ...   \n",
       "4                      0  ...   \n",
       "5                      0  ...   \n",
       "6                      0  ...   \n",
       "7                      0  ...   \n",
       "8                      0  ...   \n",
       "9                      0  ...   \n",
       "\n",
       "   Alternate Cover (Moving from Left Eye Occluded to Right Eye Occluded) caused horizontal-L eye moves up (L hyper)_vs_R eye moves down (R hyper)  \\\n",
       "0                                                  0                                                                                                \n",
       "1                                                  0                                                                                                \n",
       "2                                                  0                                                                                                \n",
       "3                                                  0                                                                                                \n",
       "4                                                  0                                                                                                \n",
       "5                                                  0                                                                                                \n",
       "6                                                  0                                                                                                \n",
       "7                                                  0                                                                                                \n",
       "8                                                  0                                                                                                \n",
       "9                                                  0                                                                                                \n",
       "\n",
       "   Head impulse test to the left showed  \\\n",
       "0                                     0   \n",
       "1                                     0   \n",
       "2                                     0   \n",
       "3                                     0   \n",
       "4                                     0   \n",
       "5                                     0   \n",
       "6                                     0   \n",
       "7                                     0   \n",
       "8                                     0   \n",
       "9                                     0   \n",
       "\n",
       "   Head impulse test to the right showed  Gait  \\\n",
       "0                                      0     0   \n",
       "1                                      0     0   \n",
       "2                                      0     0   \n",
       "3                                      0     0   \n",
       "4                                      0     0   \n",
       "5                                      0     0   \n",
       "6                                      0     0   \n",
       "7                                      0     0   \n",
       "8                                      0     0   \n",
       "9                                      0     0   \n",
       "\n",
       "   Finger-nose-finger left hand-Abnormal  \\\n",
       "0                                      1   \n",
       "1                                      1   \n",
       "2                                      1   \n",
       "3                                      1   \n",
       "4                                      1   \n",
       "5                                      1   \n",
       "6                                      1   \n",
       "7                                      1   \n",
       "8                                      1   \n",
       "9                                      1   \n",
       "\n",
       "   Finger-nose-finger left hand-None_vs_Normal  \\\n",
       "0                                           -1   \n",
       "1                                           -1   \n",
       "2                                           -1   \n",
       "3                                           -1   \n",
       "4                                           -1   \n",
       "5                                           -1   \n",
       "6                                           -1   \n",
       "7                                           -1   \n",
       "8                                           -1   \n",
       "9                                           -1   \n",
       "\n",
       "   Finger-nose-finger right hand-Abnormal  \\\n",
       "0                                       1   \n",
       "1                                       1   \n",
       "2                                       1   \n",
       "3                                       1   \n",
       "4                                       1   \n",
       "5                                       1   \n",
       "6                                       1   \n",
       "7                                       1   \n",
       "8                                       1   \n",
       "9                                       1   \n",
       "\n",
       "   Finger-nose-finger right hand-None_vs_Normal  Hearing loss right ear  \\\n",
       "0                                            -1                       1   \n",
       "1                                            -1                       1   \n",
       "2                                            -1                       1   \n",
       "3                                            -1                       1   \n",
       "4                                            -1                       1   \n",
       "5                                            -1                       1   \n",
       "6                                            -1                       1   \n",
       "7                                            -1                       1   \n",
       "8                                            -1                       1   \n",
       "9                                            -1                       1   \n",
       "\n",
       "   Hearing loss left ear  \n",
       "0                      1  \n",
       "1                      1  \n",
       "2                      1  \n",
       "3                      1  \n",
       "4                      1  \n",
       "5                      1  \n",
       "6                      1  \n",
       "7                      1  \n",
       "8                      1  \n",
       "9                      1  \n",
       "\n",
       "[10 rows x 75 columns]"
      ]
     },
     "execution_count": 10,
     "metadata": {},
     "output_type": "execute_result"
    }
   ],
   "source": [
    "data[:10]"
   ]
  },
  {
   "cell_type": "code",
   "execution_count": 11,
   "metadata": {},
   "outputs": [
    {
     "data": {
      "text/plain": [
       "(95, 75)"
      ]
     },
     "execution_count": 11,
     "metadata": {},
     "output_type": "execute_result"
    }
   ],
   "source": [
    "data.shape"
   ]
  },
  {
   "cell_type": "code",
   "execution_count": 12,
   "metadata": {},
   "outputs": [],
   "source": [
    "indices = list(range(len(data)))\n",
    "random.shuffle(indices)"
   ]
  },
  {
   "cell_type": "code",
   "execution_count": 13,
   "metadata": {},
   "outputs": [
    {
     "data": {
      "text/plain": [
       "95"
      ]
     },
     "execution_count": 13,
     "metadata": {},
     "output_type": "execute_result"
    }
   ],
   "source": [
    "len(indices)"
   ]
  },
  {
   "cell_type": "code",
   "execution_count": 14,
   "metadata": {},
   "outputs": [
    {
     "name": "stdout",
     "output_type": "stream",
     "text": [
      "85 10\n"
     ]
    }
   ],
   "source": [
    "num_train = int(len(data) * .9)\n",
    "train = indices[:num_train]\n",
    "test = indices[num_train:]\n",
    "print(len(train), len(test))"
   ]
  },
  {
   "cell_type": "code",
   "execution_count": 15,
   "metadata": {},
   "outputs": [],
   "source": [
    "X_train = data.values[train]\n",
    "X_test = data.values[test]"
   ]
  },
  {
   "cell_type": "code",
   "execution_count": 16,
   "metadata": {},
   "outputs": [
    {
     "data": {
      "text/plain": [
       "(85, 75)"
      ]
     },
     "execution_count": 16,
     "metadata": {},
     "output_type": "execute_result"
    }
   ],
   "source": [
    "X_train.shape"
   ]
  },
  {
   "cell_type": "markdown",
   "metadata": {},
   "source": [
    "## training"
   ]
  },
  {
   "cell_type": "code",
   "execution_count": 17,
   "metadata": {},
   "outputs": [],
   "source": [
    "# import tracemalloc \n",
    "  \n",
    "# tracemalloc.start() \n",
    "\n",
    "bm = QRBM(X_train[0], n_hidden=n_hidden, qpu=qpu)\n",
    "bm.tqdm = tqdm"
   ]
  },
  {
   "cell_type": "code",
   "execution_count": 18,
   "metadata": {
    "scrolled": false
   },
   "outputs": [
    {
     "data": {
      "application/vnd.jupyter.widget-view+json": {
       "model_id": "eaa98b031bc84a2e91265ac7601a07c6",
       "version_major": 2,
       "version_minor": 0
      },
      "text/plain": [
       "  0%|          | 0/300 [00:00<?, ?it/s]"
      ]
     },
     "metadata": {},
     "output_type": "display_data"
    },
    {
     "name": "stdout",
     "output_type": "stream",
     "text": [
      "0\n",
      "71\n"
     ]
    },
    {
     "data": {
      "image/png": "[encoded data removed]",
      "text/plain": [
       "<Figure size 432x288 with 1 Axes>"
      ]
     },
     "metadata": {
      "needs_background": "light"
     },
     "output_type": "display_data"
    }
   ],
   "source": [
    "bm.train(X_train, epochs = 300, lr = lr, lr_decay = 0.1)\n",
    "\n",
    "# snapshot = tracemalloc.take_snapshot() \n",
    "# top_stats = snapshot.statistics('lineno') \n",
    "  \n",
    "# for stat in top_stats[:10]: \n",
    "#    print(stat)"
   ]
  },
  {
   "cell_type": "code",
   "execution_count": 24,
   "metadata": {
    "scrolled": true
   },
   "outputs": [
    {
     "name": "stdout",
     "output_type": "stream",
     "text": [
      "cs:2, lr:0.5\n"
     ]
    },
    {
     "data": {
      "application/vnd.jupyter.widget-view+json": {
       "model_id": "7befe30bd50b40878b680eb8f5ece812",
       "version_major": 2,
       "version_minor": 0
      },
      "text/plain": [
       "  0%|          | 0/300 [00:00<?, ?it/s]"
      ]
     },
     "metadata": {},
     "output_type": "display_data"
    },
    {
     "name": "stdout",
     "output_type": "stream",
     "text": [
      "0\n",
      "16\n"
     ]
    },
    {
     "data": {
      "image/png": "[encoded data removed]",
      "text/plain": [
       "<Figure size 432x288 with 1 Axes>"
      ]
     },
     "metadata": {
      "needs_background": "light"
     },
     "output_type": "display_data"
    },
    {
     "name": "stdout",
     "output_type": "stream",
     "text": [
      "cs:2, lr:0.1\n"
     ]
    },
    {
     "data": {
      "application/vnd.jupyter.widget-view+json": {
       "model_id": "f23f22096ff8420c935b5bf8ab7e05e1",
       "version_major": 2,
       "version_minor": 0
      },
      "text/plain": [
       "  0%|          | 0/300 [00:00<?, ?it/s]"
      ]
     },
     "metadata": {},
     "output_type": "display_data"
    },
    {
     "name": "stdout",
     "output_type": "stream",
     "text": [
      "0\n",
      "56\n"
     ]
    },
    {
     "data": {
      "image/png": "[encoded data removed]",
      "text/plain": [
       "<Figure size 432x288 with 1 Axes>"
      ]
     },
     "metadata": {
      "needs_background": "light"
     },
     "output_type": "display_data"
    },
    {
     "name": "stdout",
     "output_type": "stream",
     "text": [
      "cs:2, lr:0.05\n"
     ]
    },
    {
     "data": {
      "application/vnd.jupyter.widget-view+json": {
       "model_id": "6eade72c581149ba8c835585dfe052a2",
       "version_major": 2,
       "version_minor": 0
      },
      "text/plain": [
       "  0%|          | 0/300 [00:00<?, ?it/s]"
      ]
     },
     "metadata": {},
     "output_type": "display_data"
    },
    {
     "name": "stdout",
     "output_type": "stream",
     "text": [
      "0\n",
      "70\n"
     ]
    },
    {
     "data": {
      "image/png": "[encoded data removed]",
      "text/plain": [
       "<Figure size 432x288 with 1 Axes>"
      ]
     },
     "metadata": {
      "needs_background": "light"
     },
     "output_type": "display_data"
    },
    {
     "name": "stdout",
     "output_type": "stream",
     "text": [
      "cs:2, lr:0.01\n"
     ]
    },
    {
     "data": {
      "application/vnd.jupyter.widget-view+json": {
       "model_id": "0acfa916f4f74da8ae9fdb20f2157131",
       "version_major": 2,
       "version_minor": 0
      },
      "text/plain": [
       "  0%|          | 0/300 [00:00<?, ?it/s]"
      ]
     },
     "metadata": {},
     "output_type": "display_data"
    },
    {
     "name": "stdout",
     "output_type": "stream",
     "text": [
      "0\n",
      "50\n"
     ]
    },
    {
     "ename": "KeyboardInterrupt",
     "evalue": "",
     "output_type": "error",
     "traceback": [
      "\u001b[0;31m---------------------------------------------------------------------------\u001b[0m",
      "\u001b[0;31mKeyboardInterrupt\u001b[0m                         Traceback (most recent call last)",
      "\u001b[0;32m/tmp/ipykernel_25913/4115735907.py\u001b[0m in \u001b[0;36m<module>\u001b[0;34m\u001b[0m\n\u001b[1;32m      3\u001b[0m         \u001b[0mprint\u001b[0m\u001b[0;34m(\u001b[0m\u001b[0;34mf'cs:{cs}, lr:{lr}'\u001b[0m\u001b[0;34m)\u001b[0m\u001b[0;34m\u001b[0m\u001b[0;34m\u001b[0m\u001b[0m\n\u001b[1;32m      4\u001b[0m         \u001b[0mbm\u001b[0m\u001b[0;34m.\u001b[0m\u001b[0mcs\u001b[0m \u001b[0;34m=\u001b[0m \u001b[0mcs\u001b[0m\u001b[0;34m\u001b[0m\u001b[0;34m\u001b[0m\u001b[0m\n\u001b[0;32m----> 5\u001b[0;31m         \u001b[0mbm\u001b[0m\u001b[0;34m.\u001b[0m\u001b[0mtrain\u001b[0m\u001b[0;34m(\u001b[0m\u001b[0mX_train\u001b[0m\u001b[0;34m,\u001b[0m \u001b[0mepochs\u001b[0m \u001b[0;34m=\u001b[0m \u001b[0;36m300\u001b[0m\u001b[0;34m,\u001b[0m \u001b[0mlr\u001b[0m \u001b[0;34m=\u001b[0m \u001b[0mlr\u001b[0m\u001b[0;34m,\u001b[0m \u001b[0mepoch_drop\u001b[0m\u001b[0;34m=\u001b[0m\u001b[0;36m100\u001b[0m\u001b[0;34m)\u001b[0m\u001b[0;34m\u001b[0m\u001b[0;34m\u001b[0m\u001b[0m\n\u001b[0m",
      "\u001b[0;32m~/QRBM/qrbm/EncodedQRBM.py\u001b[0m in \u001b[0;36mtrain\u001b[0;34m(self, training_data, epochs, lr, lr_decay, epoch_drop, momentum, batch_size)\u001b[0m\n\u001b[1;32m    122\u001b[0m             \u001b[0;31m# 1.2 Compute the probabilites of the hidden units\u001b[0m\u001b[0;34m\u001b[0m\u001b[0;34m\u001b[0m\u001b[0m\n\u001b[1;32m    123\u001b[0m             \u001b[0;31m# persisntent CD takes v from previous iterations\u001b[0m\u001b[0;34m\u001b[0m\u001b[0;34m\u001b[0m\u001b[0m\n\u001b[0;32m--> 124\u001b[0;31m             h = self.sampler.sample_hidden(old_v,\n\u001b[0m\u001b[1;32m    125\u001b[0m                                            \u001b[0mself\u001b[0m\u001b[0;34m.\u001b[0m\u001b[0mhidden_bias\u001b[0m\u001b[0;34m,\u001b[0m\u001b[0;34m\u001b[0m\u001b[0;34m\u001b[0m\u001b[0m\n\u001b[1;32m    126\u001b[0m                                            \u001b[0mself\u001b[0m\u001b[0;34m.\u001b[0m\u001b[0mw\u001b[0m\u001b[0;34m,\u001b[0m\u001b[0;34m\u001b[0m\u001b[0;34m\u001b[0m\u001b[0m\n",
      "\u001b[0;32m~/QRBM/qrbm/persistent_sampler.py\u001b[0m in \u001b[0;36msample_hidden\u001b[0;34m(self, v_states, h_biases, weights, chain_strength, num_reads, mask)\u001b[0m\n\u001b[1;32m     83\u001b[0m             \u001b[0mfeed_dict\u001b[0m\u001b[0;34m[\u001b[0m\u001b[0;34mf'bh{j}'\u001b[0m\u001b[0;34m]\u001b[0m \u001b[0;34m=\u001b[0m \u001b[0mh_biases\u001b[0m\u001b[0;34m[\u001b[0m\u001b[0mj\u001b[0m\u001b[0;34m]\u001b[0m\u001b[0;34m\u001b[0m\u001b[0;34m\u001b[0m\u001b[0m\n\u001b[1;32m     84\u001b[0m \u001b[0;34m\u001b[0m\u001b[0m\n\u001b[0;32m---> 85\u001b[0;31m         \u001b[0mbqm\u001b[0m \u001b[0;34m=\u001b[0m \u001b[0mself\u001b[0m\u001b[0;34m.\u001b[0m\u001b[0mvhH_model\u001b[0m\u001b[0;34m.\u001b[0m\u001b[0mto_bqm\u001b[0m\u001b[0;34m(\u001b[0m\u001b[0mfeed_dict\u001b[0m\u001b[0;34m=\u001b[0m\u001b[0mfeed_dict\u001b[0m\u001b[0;34m)\u001b[0m\u001b[0;34m\u001b[0m\u001b[0;34m\u001b[0m\u001b[0m\n\u001b[0m\u001b[1;32m     86\u001b[0m         \u001b[0msampleset\u001b[0m \u001b[0;34m=\u001b[0m \u001b[0mself\u001b[0m\u001b[0;34m.\u001b[0m\u001b[0msampler\u001b[0m\u001b[0;34m.\u001b[0m\u001b[0msample\u001b[0m\u001b[0;34m(\u001b[0m\u001b[0mbqm\u001b[0m\u001b[0;34m,\u001b[0m \u001b[0mchain_strength\u001b[0m\u001b[0;34m=\u001b[0m\u001b[0mchain_strength\u001b[0m\u001b[0;34m,\u001b[0m \u001b[0mnum_reads\u001b[0m\u001b[0;34m=\u001b[0m\u001b[0mnum_reads\u001b[0m\u001b[0;34m)\u001b[0m\u001b[0;34m\u001b[0m\u001b[0;34m\u001b[0m\u001b[0m\n\u001b[1;32m     87\u001b[0m         \u001b[0msolution1\u001b[0m \u001b[0;34m=\u001b[0m \u001b[0msampleset\u001b[0m\u001b[0;34m.\u001b[0m\u001b[0mfirst\u001b[0m\u001b[0;34m.\u001b[0m\u001b[0msample\u001b[0m\u001b[0;34m\u001b[0m\u001b[0;34m\u001b[0m\u001b[0m\n",
      "\u001b[0;32m~/.local/lib/python3.10/site-packages/dimod/binary/binary_quadratic_model.py\u001b[0m in \u001b[0;36m__init__\u001b[0;34m(self, offset, vartype, dtype, *args)\u001b[0m\n\u001b[1;32m    155\u001b[0m     \u001b[0;34m\"\"\"The default dtype used to construct the class.\"\"\"\u001b[0m\u001b[0;34m\u001b[0m\u001b[0;34m\u001b[0m\u001b[0m\n\u001b[1;32m    156\u001b[0m \u001b[0;34m\u001b[0m\u001b[0m\n\u001b[0;32m--> 157\u001b[0;31m     def __init__(self, *args,\n\u001b[0m\u001b[1;32m    158\u001b[0m                  \u001b[0moffset\u001b[0m\u001b[0;34m:\u001b[0m \u001b[0mOptional\u001b[0m\u001b[0;34m[\u001b[0m\u001b[0mBias\u001b[0m\u001b[0;34m]\u001b[0m \u001b[0;34m=\u001b[0m \u001b[0;32mNone\u001b[0m\u001b[0;34m,\u001b[0m\u001b[0;34m\u001b[0m\u001b[0;34m\u001b[0m\u001b[0m\n\u001b[1;32m    159\u001b[0m                  \u001b[0mvartype\u001b[0m\u001b[0;34m:\u001b[0m \u001b[0mOptional\u001b[0m\u001b[0;34m[\u001b[0m\u001b[0mVartypeLike\u001b[0m\u001b[0;34m]\u001b[0m \u001b[0;34m=\u001b[0m \u001b[0;32mNone\u001b[0m\u001b[0;34m,\u001b[0m\u001b[0;34m\u001b[0m\u001b[0;34m\u001b[0m\u001b[0m\n",
      "\u001b[0;31mKeyboardInterrupt\u001b[0m: "
     ]
    }
   ],
   "source": [
    "for cs in [2, 3, 4, 5, 6, 10]:\n",
    "    for lr in [0.5, 0.1, 0.05, 0.01, 0.005]:\n",
    "        print(f'cs:{cs}, lr:{lr}')\n",
    "        bm.cs = cs\n",
    "        bm.train(X_train, epochs = 300, lr = lr, epoch_drop=100)\n"
   ]
  },
  {
   "cell_type": "code",
   "execution_count": null,
   "metadata": {},
   "outputs": [],
   "source": [
    "bm.hidden_bias"
   ]
  },
  {
   "cell_type": "code",
   "execution_count": null,
   "metadata": {},
   "outputs": [],
   "source": [
    "bm.visible_bias"
   ]
  },
  {
   "cell_type": "code",
   "execution_count": 19,
   "metadata": {},
   "outputs": [],
   "source": [
    "bm.save('test_model')"
   ]
  },
  {
   "cell_type": "code",
   "execution_count": null,
   "metadata": {},
   "outputs": [],
   "source": [
    "bm.load('test_model')"
   ]
  },
  {
   "cell_type": "markdown",
   "metadata": {},
   "source": [
    "# Load raw dat"
   ]
  },
  {
   "cell_type": "code",
   "execution_count": 20,
   "metadata": {},
   "outputs": [
    {
     "name": "stdout",
     "output_type": "stream",
     "text": [
      "Data has 95 rows and 54 columns.\n",
      "Creating mask to determine which rows can be dropped\n",
      "Currently 0 rows are being dropped\n",
      "=====================\n",
      "Checking for entries that are droppable by being rare...\n",
      "0 rows are being dropped\n",
      "=======================\n",
      "Checking for unknown values that require warnings...\n",
      "=======================\n",
      "Checking for columns that lack signal...\n",
      "=======================\n",
      "Data has 95 rows and 54 columns.\n"
     ]
    }
   ],
   "source": [
    "from parsing_data import load_data, clean_data, load_config\n",
    "\n",
    "config_file = 'config.json'\n",
    "data_file = 'Simplified Dataset.xlsx'\n",
    "sheet = 'Copy of Cases-Use'\n",
    "\n",
    "config = load_config(config_file)\n",
    "raw_data = load_data(data_file, sheet)\n",
    "df = clean_data(raw_data, config)"
   ]
  },
  {
   "cell_type": "code",
   "execution_count": 21,
   "metadata": {},
   "outputs": [
    {
     "data": {
      "text/plain": [
       "0     BPPV (PC) R\n",
       "1     BPPV (PC) L\n",
       "2     BPPV (PC) L\n",
       "3     BPPV (PC) R\n",
       "4     BPPV (PC) R\n",
       "         ...     \n",
       "90         Stroke\n",
       "91         Stroke\n",
       "92         Stroke\n",
       "93         Stroke\n",
       "94         Stroke\n",
       "Name: Disease, Length: 95, dtype: object"
      ]
     },
     "execution_count": 21,
     "metadata": {},
     "output_type": "execute_result"
    }
   ],
   "source": [
    "df['Disease']"
   ]
  },
  {
   "cell_type": "markdown",
   "metadata": {},
   "source": [
    "## Encoder"
   ]
  },
  {
   "cell_type": "code",
   "execution_count": 22,
   "metadata": {},
   "outputs": [],
   "source": [
    "from sklearn.preprocessing import OneHotEncoder, OrdinalEncoder, TargetEncoder\n",
    "\n",
    "encoder = OrdinalEncoder().fit(df[['Disease']])"
   ]
  },
  {
   "cell_type": "code",
   "execution_count": 23,
   "metadata": {},
   "outputs": [],
   "source": [
    "y = encoder.transform(df[['Disease']])"
   ]
  },
  {
   "cell_type": "code",
   "execution_count": 24,
   "metadata": {},
   "outputs": [],
   "source": [
    "y_train = y.ravel()[train]\n",
    "y_test = y.ravel()[test]"
   ]
  },
  {
   "cell_type": "code",
   "execution_count": 25,
   "metadata": {},
   "outputs": [
    {
     "data": {
      "text/plain": [
       "array([6., 4., 6., 4., 4., 4., 5., 0., 6., 4.])"
      ]
     },
     "execution_count": 25,
     "metadata": {},
     "output_type": "execute_result"
    }
   ],
   "source": [
    "y_test"
   ]
  },
  {
   "cell_type": "markdown",
   "metadata": {},
   "source": [
    "# Train a multi-class classifier"
   ]
  },
  {
   "cell_type": "markdown",
   "metadata": {},
   "source": [
    "## Compile the training data"
   ]
  },
  {
   "cell_type": "code",
   "execution_count": 26,
   "metadata": {},
   "outputs": [
    {
     "data": {
      "text/plain": [
       "(10, 75)"
      ]
     },
     "execution_count": 26,
     "metadata": {},
     "output_type": "execute_result"
    }
   ],
   "source": [
    "X_test.shape"
   ]
  },
  {
   "cell_type": "code",
   "execution_count": 27,
   "metadata": {},
   "outputs": [
    {
     "data": {
      "text/plain": [
       "array([ 0,  0,  1,  1,  0,  0,  0,  1, -1,  0,  0,  0,  0,  0,  1,  0,  0,\n",
       "        1,  0,  0,  0,  0,  0,  0,  0,  1,  1,  0,  0,  0,  1, -1,  1,  0,\n",
       "        0,  0,  1, -1,  1,  0,  0,  0,  1, -1,  1,  0,  0,  0,  1, -1,  0,\n",
       "        0,  0,  0,  0,  0,  0,  0,  0,  0,  0,  0,  1, -1,  1, -1,  0,  0,\n",
       "        0,  1, -1,  1, -1,  1,  1])"
      ]
     },
     "execution_count": 27,
     "metadata": {},
     "output_type": "execute_result"
    }
   ],
   "source": [
    "X_train[0]"
   ]
  },
  {
   "cell_type": "code",
   "execution_count": 30,
   "metadata": {
    "scrolled": true
   },
   "outputs": [
    {
     "data": {
      "text/plain": [
       "300"
      ]
     },
     "execution_count": 30,
     "metadata": {},
     "output_type": "execute_result"
    }
   ],
   "source": [
    "len(bm.sample_hidden(X_train[0]))"
   ]
  },
  {
   "cell_type": "code",
   "execution_count": 37,
   "metadata": {},
   "outputs": [
    {
     "data": {
      "text/plain": [
       "True"
      ]
     },
     "execution_count": 37,
     "metadata": {},
     "output_type": "execute_result"
    }
   ],
   "source": [
    "a = bm.sample_hidden(X_train[0])\n",
    "b = bm.sample_hidden(X_train[0])\n",
    "a == b"
   ]
  },
  {
   "cell_type": "code",
   "execution_count": 39,
   "metadata": {},
   "outputs": [],
   "source": [
    "encoded_train = np.array([bm.sample_hidden(x) for x in X_train])\n",
    "encoded_test = np.array([bm.sample_hidden(x) for x in X_test])"
   ]
  },
  {
   "cell_type": "code",
   "execution_count": 41,
   "metadata": {},
   "outputs": [
    {
     "data": {
      "text/plain": [
       "(85, 300)"
      ]
     },
     "execution_count": 41,
     "metadata": {},
     "output_type": "execute_result"
    }
   ],
   "source": [
    "encoded_train.shape"
   ]
  },
  {
   "cell_type": "code",
   "execution_count": 42,
   "metadata": {},
   "outputs": [
    {
     "data": {
      "text/plain": [
       "(85,)"
      ]
     },
     "execution_count": 42,
     "metadata": {},
     "output_type": "execute_result"
    }
   ],
   "source": [
    "y_train.shape"
   ]
  },
  {
   "cell_type": "markdown",
   "metadata": {},
   "source": [
    "## Train a model"
   ]
  },
  {
   "cell_type": "code",
   "execution_count": 48,
   "metadata": {},
   "outputs": [
    {
     "name": "stdout",
     "output_type": "stream",
     "text": [
      "1.0\n",
      "1.0\n",
      "1.0\n",
      "1.0\n",
      "1.0\n",
      "1.0\n",
      "1.0\n",
      "0.0\n",
      "1.0\n",
      "1.0\n"
     ]
    }
   ],
   "source": [
    "from sklearn.linear_model import LogisticRegression\n",
    "clf = LogisticRegression(random_state=0)\n",
    "\n",
    "clf = clf.fit(X_train, y_train)\n",
    "\n",
    "for x, y in zip(X_test, y_test.tolist()):\n",
    "#     clf.predict(x)\n",
    "#     clf.predict_proba(x)\n",
    "    print(clf.score(x.reshape(1, -1), np.array([[y]])))"
   ]
  },
  {
   "cell_type": "code",
   "execution_count": 54,
   "metadata": {},
   "outputs": [
    {
     "data": {
      "text/plain": [
       "array([['Vestibular Neuritis R']], dtype=object)"
      ]
     },
     "execution_count": 54,
     "metadata": {},
     "output_type": "execute_result"
    }
   ],
   "source": [
    "encoder.inverse_transform(np.array([[6.]]))"
   ]
  },
  {
   "cell_type": "code",
   "execution_count": 58,
   "metadata": {
    "scrolled": true
   },
   "outputs": [
    {
     "name": "stdout",
     "output_type": "stream",
     "text": [
      "[['Vestibular Neuritis R']]\n",
      "[['Vestibular Neuritis R']] [6.]\n",
      "[[0.02311655 0.02212796 0.00787394 0.00636714 0.07126834 0.01595393\n",
      "  0.85329213]]\n",
      "1.0\n",
      "===\n",
      "[['Stroke']]\n",
      "[['Stroke']] [4.]\n",
      "[[2.83961917e-04 4.14678324e-04 1.02885721e-03 3.97838899e-03\n",
      "  9.94016880e-01 8.95867734e-05 1.87646868e-04]]\n",
      "1.0\n",
      "===\n",
      "[['Vestibular Neuritis R']]\n",
      "[['Vestibular Neuritis R']] [6.]\n",
      "[[0.02188312 0.01611102 0.00594242 0.00617972 0.10826823 0.0151894\n",
      "  0.82642608]]\n",
      "1.0\n",
      "===\n",
      "[['Stroke']]\n",
      "[['Stroke']] [4.]\n",
      "[[7.75046278e-04 1.17963250e-03 5.46304073e-04 6.92185865e-04\n",
      "  9.87372043e-01 8.86596945e-03 5.68818762e-04]]\n",
      "1.0\n",
      "===\n",
      "[['Stroke']]\n",
      "[['Stroke']] [4.]\n",
      "[[1.98341210e-04 2.71313193e-04 1.69635006e-03 3.04096735e-03\n",
      "  9.94404024e-01 1.89759809e-04 1.99244871e-04]]\n",
      "1.0\n",
      "===\n",
      "[['Stroke']]\n",
      "[['Stroke']] [4.]\n",
      "[[0.0046927  0.00814194 0.01523446 0.02331391 0.94424137 0.00138518\n",
      "  0.00299044]]\n",
      "1.0\n",
      "===\n",
      "[['Vestibular Neuritis L']]\n",
      "[['Vestibular Neuritis L']] [5.]\n",
      "[[0.01699542 0.01440763 0.00220321 0.00165414 0.02457082 0.9264417\n",
      "  0.01372708]]\n",
      "1.0\n",
      "===\n",
      "[['BPPV (HC) L']]\n",
      "[['BPPV (HC) R']] [1.]\n",
      "[[0.08726378 0.74279306 0.01201359 0.02158469 0.09349499 0.02369562\n",
      "  0.01915428]]\n",
      "0.0\n",
      "===\n",
      "[['Vestibular Neuritis R']]\n",
      "[['Vestibular Neuritis R']] [6.]\n",
      "[[0.02311655 0.02212796 0.00787394 0.00636714 0.07126834 0.01595393\n",
      "  0.85329213]]\n",
      "1.0\n",
      "===\n",
      "[['Stroke']]\n",
      "[['Stroke']] [4.]\n",
      "[[0.02920526 0.07560131 0.00354641 0.00407745 0.78729999 0.08601516\n",
      "  0.01425442]]\n",
      "1.0\n",
      "===\n",
      "9 1 0.9\n"
     ]
    }
   ],
   "source": [
    "g = 0\n",
    "b = 0\n",
    "for x, y in zip(X_test, y_test.tolist()):\n",
    "    x = x.reshape(1, -1)\n",
    "    y = np.array([[y]])\n",
    "    print(encoder.inverse_transform(y))\n",
    "    pred_indx = clf.predict(x)\n",
    "    y_est = pred_indx.reshape((1, 1))\n",
    "    print(encoder.inverse_transform(y_est), pred_indx)\n",
    "    if y == y_est:\n",
    "        g += 1\n",
    "    else:\n",
    "        b += 1\n",
    "    print(clf.predict_proba(x))\n",
    "    print(clf.score(x, y))\n",
    "    print('===')\n",
    "print(g, b, g/(g+b))"
   ]
  },
  {
   "cell_type": "code",
   "execution_count": 57,
   "metadata": {
    "scrolled": true
   },
   "outputs": [
    {
     "name": "stdout",
     "output_type": "stream",
     "text": [
      "[['Stroke']]\n",
      "[['Stroke']] [4.]\n",
      "[[9.57100100e-05 1.25274666e-04 5.83775940e-04 2.66365645e-03\n",
      "  9.96379139e-01 4.61484919e-05 1.06295633e-04]]\n",
      "1.0\n",
      "===\n",
      "[['Stroke']]\n",
      "[['Stroke']] [4.]\n",
      "[[4.65595146e-04 8.50125247e-04 4.37752682e-03 5.53030142e-03\n",
      "  9.88017682e-01 2.54799848e-04 5.03969140e-04]]\n",
      "1.0\n",
      "===\n",
      "[['BPPV (PC) R']]\n",
      "[['BPPV (PC) R']] [3.]\n",
      "[[0.00653473 0.00356675 0.01635476 0.95902652 0.0106578  0.00103313\n",
      "  0.0028263 ]]\n",
      "1.0\n",
      "===\n",
      "[['Vestibular Neuritis L']]\n",
      "[['Vestibular Neuritis L']] [5.]\n",
      "[[0.00795338 0.0209903  0.00159172 0.00184103 0.04054244 0.91818399\n",
      "  0.00889713]]\n",
      "1.0\n",
      "===\n",
      "[['Stroke']]\n",
      "[['Stroke']] [4.]\n",
      "[[0.00100785 0.0015111  0.00494046 0.00789343 0.97676024 0.00223358\n",
      "  0.00565334]]\n",
      "1.0\n",
      "===\n",
      "[['BPPV (HC) R']]\n",
      "[['BPPV (HC) R']] [1.]\n",
      "[[0.31469077 0.58978346 0.01666231 0.01495517 0.02418069 0.01824202\n",
      "  0.02148557]]\n",
      "1.0\n",
      "===\n",
      "[['Stroke']]\n",
      "[['Stroke']] [4.]\n",
      "[[8.95254412e-04 1.35154566e-03 3.46871818e-03 5.42517164e-03\n",
      "  9.85428696e-01 1.07738828e-03 2.35322544e-03]]\n",
      "1.0\n",
      "===\n",
      "[['Vestibular Neuritis R']]\n",
      "[['Vestibular Neuritis R']] [6.]\n",
      "[[0.02311655 0.02212796 0.00787394 0.00636714 0.07126834 0.01595393\n",
      "  0.85329213]]\n",
      "1.0\n",
      "===\n",
      "[['Stroke']]\n",
      "[['Stroke']] [4.]\n",
      "[[2.57882144e-04 3.71523332e-04 1.90654721e-03 3.40904692e-03\n",
      "  9.93316044e-01 1.39849435e-04 5.99107237e-04]]\n",
      "1.0\n",
      "===\n",
      "[['BPPV (HC) L']]\n",
      "[['BPPV (HC) L']] [0.]\n",
      "[[0.67371596 0.22571895 0.01252602 0.0144755  0.03581505 0.01723615\n",
      "  0.02051236]]\n",
      "1.0\n",
      "===\n",
      "[['Stroke']]\n",
      "[['Stroke']] [4.]\n",
      "[[2.57882144e-04 3.71523332e-04 1.90654721e-03 3.40904692e-03\n",
      "  9.93316044e-01 1.39849435e-04 5.99107237e-04]]\n",
      "1.0\n",
      "===\n",
      "[['Vestibular Neuritis R']]\n",
      "[['Vestibular Neuritis R']] [6.]\n",
      "[[0.02188312 0.01611102 0.00594242 0.00617972 0.10826823 0.0151894\n",
      "  0.82642608]]\n",
      "1.0\n",
      "===\n",
      "[['Stroke']]\n",
      "[['Stroke']] [4.]\n",
      "[[4.15515171e-04 6.06003927e-04 3.44143258e-03 6.62147690e-03\n",
      "  9.87709242e-01 2.23761699e-04 9.82567923e-04]]\n",
      "1.0\n",
      "===\n",
      "[['Stroke']]\n",
      "[['Stroke']] [4.]\n",
      "[[6.69474969e-04 1.16562093e-03 6.40877647e-04 8.88201958e-04\n",
      "  9.91434219e-01 1.39789364e-03 3.80371192e-03]]\n",
      "1.0\n",
      "===\n",
      "[['Vestibular Neuritis L']]\n",
      "[['Vestibular Neuritis L']] [5.]\n",
      "[[0.00776034 0.01575226 0.00123818 0.00184174 0.06348294 0.90104278\n",
      "  0.00888175]]\n",
      "1.0\n",
      "===\n",
      "[['BPPV (PC) L']]\n",
      "[['BPPV (PC) L']] [2.]\n",
      "[[0.00722209 0.00584058 0.94378874 0.02436101 0.01428171 0.00127487\n",
      "  0.003231  ]]\n",
      "1.0\n",
      "===\n",
      "[['Stroke']]\n",
      "[['Stroke']] [4.]\n",
      "[[0.00185473 0.0028778  0.0011083  0.00159593 0.9767587  0.00232413\n",
      "  0.01348041]]\n",
      "1.0\n",
      "===\n",
      "[['Stroke']]\n",
      "[['Stroke']] [4.]\n",
      "[[6.51326230e-05 8.43179254e-05 3.64990708e-04 1.58570159e-03\n",
      "  9.97798218e-01 3.13243077e-05 7.03149313e-05]]\n",
      "1.0\n",
      "===\n",
      "[['Vestibular Neuritis L']]\n",
      "[['Vestibular Neuritis L']] [5.]\n",
      "[[0.01671518 0.0108985  0.00172751 0.00166798 0.0387808  0.91639737\n",
      "  0.01381266]]\n",
      "1.0\n",
      "===\n",
      "[['Stroke']]\n",
      "[['Stroke']] [4.]\n",
      "[[2.72669136e-04 3.85016295e-04 4.74262174e-03 7.28116388e-03\n",
      "  9.86987155e-01 1.17522262e-04 2.13851329e-04]]\n",
      "1.0\n",
      "===\n",
      "[['Stroke']]\n",
      "[['Stroke']] [4.]\n",
      "[[1.61073830e-03 3.29514500e-03 9.22711086e-03 1.04371174e-02\n",
      "  9.73813315e-01 5.78972381e-04 1.03760080e-03]]\n",
      "1.0\n",
      "===\n",
      "[['BPPV (HC) R']]\n",
      "[['BPPV (HC) L']] [0.]\n",
      "[[0.47050969 0.38876572 0.02318085 0.02104669 0.03840786 0.02632157\n",
      "  0.03176761]]\n",
      "0.0\n",
      "===\n",
      "[['BPPV (PC) R']]\n",
      "[['BPPV (PC) R']] [3.]\n",
      "[[0.00737852 0.01646181 0.04013106 0.91068756 0.01925459 0.00212253\n",
      "  0.00396393]]\n",
      "1.0\n",
      "===\n",
      "[['Stroke']]\n",
      "[['Stroke']] [4.]\n",
      "[[0.00185473 0.0028778  0.0011083  0.00159593 0.9767587  0.00232413\n",
      "  0.01348041]]\n",
      "1.0\n",
      "===\n",
      "[['Stroke']]\n",
      "[['Stroke']] [4.]\n",
      "[[0.00416104 0.00828429 0.00328466 0.00498161 0.91067742 0.00298939\n",
      "  0.0656216 ]]\n",
      "1.0\n",
      "===\n",
      "[['Stroke']]\n",
      "[['Stroke']] [4.]\n",
      "[[8.87923852e-04 1.23992517e-03 3.34776944e-04 4.40115330e-04\n",
      "  9.93892960e-01 2.56312165e-03 6.41177009e-04]]\n",
      "1.0\n",
      "===\n",
      "[['Stroke']]\n",
      "[['Stroke']] [4.]\n",
      "[[0.00432142 0.00866789 0.0015929  0.00225071 0.94702196 0.00954252\n",
      "  0.0266026 ]]\n",
      "1.0\n",
      "===\n",
      "[['Stroke']]\n",
      "[['Stroke']] [4.]\n",
      "[[0.00781882 0.01984671 0.01113029 0.01501966 0.93513239 0.0038764\n",
      "  0.00717572]]\n",
      "1.0\n",
      "===\n",
      "[['Stroke']]\n",
      "[['Stroke']] [4.]\n",
      "[[1.98341210e-04 2.71313193e-04 1.69635006e-03 3.04096735e-03\n",
      "  9.94404024e-01 1.89759809e-04 1.99244871e-04]]\n",
      "1.0\n",
      "===\n",
      "[['Stroke']]\n",
      "[['Stroke']] [4.]\n",
      "[[1.01520647e-03 1.59734714e-03 4.63639304e-03 6.74447893e-03\n",
      "  9.84970485e-01 3.67006648e-04 6.69082566e-04]]\n",
      "1.0\n",
      "===\n",
      "[['Stroke']]\n",
      "[['Stroke']] [4.]\n",
      "[[1.26386049e-04 1.67966832e-04 3.23357382e-03 2.44222591e-03\n",
      "  9.93731341e-01 1.53028219e-04 1.45477887e-04]]\n",
      "1.0\n",
      "===\n",
      "[['Vestibular Neuritis L']]\n",
      "[['Vestibular Neuritis L']] [5.]\n",
      "[[0.01671518 0.0108985  0.00172751 0.00166798 0.0387808  0.91639737\n",
      "  0.01381266]]\n",
      "1.0\n",
      "===\n",
      "[['BPPV (PC) L']]\n",
      "[['BPPV (PC) L']] [2.]\n",
      "[[0.0130193  0.01075125 0.92706662 0.02296767 0.01912618 0.00188824\n",
      "  0.00518075]]\n",
      "1.0\n",
      "===\n",
      "[['Stroke']]\n",
      "[['Stroke']] [4.]\n",
      "[[0.00334041 0.00764334 0.00115657 0.00128603 0.98127463 0.00428069\n",
      "  0.00101833]]\n",
      "1.0\n",
      "===\n",
      "[['Stroke']]\n",
      "[['Stroke']] [4.]\n",
      "[[1.22718531e-04 1.65822849e-04 9.36885632e-04 1.56081946e-03\n",
      "  9.96974406e-01 1.18233897e-04 1.21113328e-04]]\n",
      "1.0\n",
      "===\n",
      "[['BPPV (PC) R']]\n",
      "[['BPPV (PC) R']] [3.]\n",
      "[[0.00729627 0.01569185 0.01522426 0.91173856 0.04451906 0.00193227\n",
      "  0.00359773]]\n",
      "1.0\n",
      "===\n",
      "[['BPPV (PC) R']]\n",
      "[['BPPV (PC) R']] [3.]\n",
      "[[0.00653473 0.00356675 0.01635476 0.95902652 0.0106578  0.00103313\n",
      "  0.0028263 ]]\n",
      "1.0\n",
      "===\n",
      "[['BPPV (PC) R']]\n",
      "[['BPPV (PC) R']] [3.]\n",
      "[[0.01701464 0.00954467 0.01011909 0.92265963 0.03282234 0.00194321\n",
      "  0.00589642]]\n",
      "1.0\n",
      "===\n",
      "[['BPPV (PC) R']]\n",
      "[['BPPV (PC) R']] [3.]\n",
      "[[0.00721387 0.01237861 0.03127985 0.91286552 0.03021005 0.00208708\n",
      "  0.00396502]]\n",
      "1.0\n",
      "===\n",
      "[['Vestibular Neuritis L']]\n",
      "[['Vestibular Neuritis L']] [5.]\n",
      "[[0.00776034 0.01575226 0.00123818 0.00184174 0.06348294 0.90104278\n",
      "  0.00888175]]\n",
      "1.0\n",
      "===\n",
      "[['Stroke']]\n",
      "[['Stroke']] [4.]\n",
      "[[0.00100785 0.0015111  0.00494046 0.00789343 0.97676024 0.00223358\n",
      "  0.00565334]]\n",
      "1.0\n",
      "===\n",
      "[['Stroke']]\n",
      "[['Stroke']] [4.]\n",
      "[[0.00109041 0.00165383 0.00443739 0.00715486 0.98148397 0.0013041\n",
      "  0.00287545]]\n",
      "1.0\n",
      "===\n",
      "[['Stroke']]\n",
      "[['Stroke']] [4.]\n",
      "[[1.03032709e-02 6.59352253e-03 8.72369108e-04 7.08593243e-04\n",
      "  9.12666746e-01 6.38493601e-02 5.00613794e-03]]\n",
      "1.0\n",
      "===\n",
      "[['Stroke']]\n",
      "[['Stroke']] [4.]\n",
      "[[5.34873617e-04 1.12098100e-03 7.57327253e-04 7.44229260e-04\n",
      "  9.95674664e-01 4.35748175e-04 7.32176294e-04]]\n",
      "1.0\n",
      "===\n",
      "[['Vestibular Neuritis R']]\n",
      "[['Vestibular Neuritis R']] [6.]\n",
      "[[0.02311655 0.02212796 0.00787394 0.00636714 0.07126834 0.01595393\n",
      "  0.85329213]]\n",
      "1.0\n",
      "===\n",
      "[['Vestibular Neuritis L']]\n",
      "[['Vestibular Neuritis L']] [5.]\n",
      "[[0.00795338 0.0209903  0.00159172 0.00184103 0.04054244 0.91818399\n",
      "  0.00889713]]\n",
      "1.0\n",
      "===\n",
      "[['BPPV (HC) R']]\n",
      "[['BPPV (HC) R']] [1.]\n",
      "[[0.13301985 0.77612435 0.01087327 0.01503464 0.03603891 0.01633041\n",
      "  0.01257856]]\n",
      "1.0\n",
      "===\n",
      "[['BPPV (PC) R']]\n",
      "[['BPPV (PC) R']] [3.]\n",
      "[[0.01854751 0.04252914 0.02397171 0.84586585 0.05724762 0.00385424\n",
      "  0.00798393]]\n",
      "1.0\n",
      "===\n",
      "[['BPPV (HC) R']]\n",
      "[['BPPV (HC) R']] [1.]\n",
      "[[0.13301985 0.77612435 0.01087327 0.01503464 0.03603891 0.01633041\n",
      "  0.01257856]]\n",
      "1.0\n",
      "===\n",
      "[['Vestibular Neuritis R']]\n",
      "[['Vestibular Neuritis R']] [6.]\n",
      "[[0.02188312 0.01611102 0.00594242 0.00617972 0.10826823 0.0151894\n",
      "  0.82642608]]\n",
      "1.0\n",
      "===\n",
      "[['BPPV (PC) L']]\n",
      "[['BPPV (PC) L']] [2.]\n",
      "[[0.02285961 0.01972044 0.87843529 0.04255079 0.02472553 0.00302142\n",
      "  0.00868693]]\n",
      "1.0\n",
      "===\n",
      "[['Stroke']]\n",
      "[['Stroke']] [4.]\n",
      "[[0.00901309 0.01746116 0.00211498 0.00298069 0.95363573 0.01318993\n",
      "  0.00160442]]\n",
      "1.0\n",
      "===\n",
      "[['BPPV (HC) L']]\n",
      "[['BPPV (HC) L']] [0.]\n",
      "[[0.63767033 0.27777427 0.01487124 0.01336333 0.02112355 0.01622082\n",
      "  0.01897645]]\n",
      "1.0\n",
      "===\n",
      "[['Stroke']]\n",
      "[['Stroke']] [4.]\n",
      "[[0.00109041 0.00165383 0.00443739 0.00715486 0.98148397 0.0013041\n",
      "  0.00287545]]\n",
      "1.0\n",
      "===\n",
      "[['Stroke']]\n",
      "[['Stroke']] [4.]\n",
      "[[0.02143435 0.01363802 0.00473498 0.00485287 0.89145024 0.00739132\n",
      "  0.05649822]]\n",
      "1.0\n",
      "===\n",
      "[['Stroke']]\n",
      "[['Stroke']] [4.]\n",
      "[[0.00133786 0.00243121 0.00119995 0.00175404 0.97411333 0.00172996\n",
      "  0.01743366]]\n",
      "1.0\n",
      "===\n",
      "[['Stroke']]\n",
      "[['Stroke']] [4.]\n",
      "[[0.00471421 0.00316345 0.0011212  0.00095796 0.9478749  0.00179716\n",
      "  0.04037112]]\n",
      "1.0\n",
      "===\n",
      "[['Stroke']]\n",
      "[['Stroke']] [4.]\n",
      "[[0.00106815 0.00241802 0.00128259 0.0013822  0.98569961 0.00221762\n",
      "  0.0059318 ]]\n",
      "1.0\n",
      "===\n",
      "[['BPPV (PC) L']]\n",
      "[['BPPV (PC) L']] [2.]\n",
      "[[0.00438729 0.01113454 0.9406967  0.01691783 0.02285002 0.00146148\n",
      "  0.00255213]]\n",
      "1.0\n",
      "===\n",
      "[['Stroke']]\n",
      "[['Stroke']] [4.]\n",
      "[[1.34672708e-03 2.16866027e-03 3.46859337e-03 1.41099500e-02\n",
      "  9.77698658e-01 3.46917497e-04 8.60493956e-04]]\n",
      "1.0\n",
      "===\n",
      "[['BPPV (HC) R']]\n",
      "[['BPPV (HC) R']] [1.]\n",
      "[[0.23504085 0.60460121 0.01787709 0.02500506 0.06764963 0.027847\n",
      "  0.02197916]]\n",
      "1.0\n",
      "===\n",
      "[['Stroke']]\n",
      "[['Stroke']] [4.]\n",
      "[[1.53229923e-04 2.60767878e-04 1.17232304e-03 4.15935503e-03\n",
      "  9.94014529e-01 7.34610351e-05 1.66334227e-04]]\n",
      "1.0\n",
      "===\n",
      "[['Vestibular Neuritis L']]\n",
      "[['Vestibular Neuritis L']] [5.]\n",
      "[[0.01671518 0.0108985  0.00172751 0.00166798 0.0387808  0.91639737\n",
      "  0.01381266]]\n",
      "1.0\n",
      "===\n",
      "[['Stroke']]\n",
      "[['Stroke']] [4.]\n",
      "[[1.34672708e-03 2.16866027e-03 3.46859337e-03 1.41099500e-02\n",
      "  9.77698658e-01 3.46917497e-04 8.60493956e-04]]\n",
      "1.0\n",
      "===\n",
      "[['BPPV (PC) R']]\n",
      "[['BPPV (PC) R']] [3.]\n",
      "[[0.00288923 0.00631441 0.02148537 0.95609099 0.01044847 0.00101676\n",
      "  0.00175476]]\n",
      "1.0\n",
      "===\n",
      "[['BPPV (PC) L']]\n",
      "[['BPPV (PC) L']] [2.]\n",
      "[[0.00692628 0.00564637 0.96196782 0.01122998 0.01023103 0.00108944\n",
      "  0.00290907]]\n",
      "1.0\n",
      "===\n",
      "[['Vestibular Neuritis L']]\n",
      "[['Vestibular Neuritis L']] [5.]\n",
      "[[0.01699542 0.01440763 0.00220321 0.00165414 0.02457082 0.9264417\n",
      "  0.01372708]]\n",
      "1.0\n",
      "===\n",
      "[['Stroke']]\n",
      "[['Stroke']] [4.]\n",
      "[[0.02001864 0.03985641 0.00193797 0.0028655  0.86602776 0.05929733\n",
      "  0.00999639]]\n",
      "1.0\n",
      "===\n",
      "[['BPPV (PC) L']]\n",
      "[['BPPV (PC) L']] [2.]\n",
      "[[0.02285961 0.01972044 0.87843529 0.04255079 0.02472553 0.00302142\n",
      "  0.00868693]]\n",
      "1.0\n",
      "===\n",
      "[['BPPV (HC) L']]\n",
      "[['BPPV (HC) L']] [0.]\n",
      "[[0.67371596 0.22571895 0.01252602 0.0144755  0.03581505 0.01723615\n",
      "  0.02051236]]\n",
      "1.0\n",
      "===\n",
      "[['Stroke']]\n",
      "[['Stroke']] [4.]\n",
      "[[2.72669136e-04 3.85016295e-04 4.74262174e-03 7.28116388e-03\n",
      "  9.86987155e-01 1.17522262e-04 2.13851329e-04]]\n",
      "1.0\n",
      "===\n",
      "[['Stroke']]\n",
      "[['Stroke']] [4.]\n",
      "[[0.02143435 0.01363802 0.00473498 0.00485287 0.89145024 0.00739132\n",
      "  0.05649822]]\n",
      "1.0\n",
      "===\n",
      "[['Stroke']]\n",
      "[['Stroke']] [4.]\n",
      "[[0.02210174 0.05933255 0.00792608 0.01035002 0.85220855 0.00879289\n",
      "  0.03928818]]\n",
      "1.0\n",
      "===\n",
      "[['BPPV (HC) R']]\n",
      "[['BPPV (HC) R']] [1.]\n",
      "[[0.35921272 0.5177924  0.0151631  0.01750239 0.04429499 0.02094245\n",
      "  0.02509196]]\n",
      "1.0\n",
      "===\n",
      "[['Stroke']]\n",
      "[['Stroke']] [4.]\n",
      "[[2.91614489e-04 4.09523618e-04 2.18582095e-03 3.55130438e-03\n",
      "  9.93078290e-01 1.60504241e-04 3.22942067e-04]]\n",
      "1.0\n",
      "===\n",
      "[['BPPV (HC) L']]\n",
      "[['BPPV (HC) L']] [0.]\n",
      "[[0.63767033 0.27777427 0.01487124 0.01336333 0.02112355 0.01622082\n",
      "  0.01897645]]\n",
      "1.0\n",
      "===\n",
      "[['BPPV (PC) L']]\n",
      "[['BPPV (PC) L']] [2.]\n",
      "[[0.01247732 0.01062592 0.93518811 0.02134564 0.0135699  0.00178854\n",
      "  0.00500459]]\n",
      "1.0\n",
      "===\n",
      "[['Stroke']]\n",
      "[['Stroke']] [4.]\n",
      "[[4.20202034e-04 7.74136881e-04 1.30588984e-02 8.23143575e-03\n",
      "  9.76117733e-01 2.84741938e-04 1.11285218e-03]]\n",
      "1.0\n",
      "===\n",
      "[['BPPV (HC) L']]\n",
      "[['BPPV (HC) R']] [1.]\n",
      "[[0.19084073 0.67842717 0.02134677 0.01935865 0.03613573 0.02432913\n",
      "  0.02956182]]\n",
      "0.0\n",
      "===\n",
      "[['Stroke']]\n",
      "[['Stroke']] [4.]\n",
      "[[8.95254412e-04 1.35154566e-03 3.46871818e-03 5.42517164e-03\n",
      "  9.85428696e-01 1.07738828e-03 2.35322544e-03]]\n",
      "1.0\n",
      "===\n",
      "[['Stroke']]\n",
      "[['Stroke']] [4.]\n",
      "[[9.81382250e-03 6.33859076e-03 8.68698080e-04 6.92625282e-04\n",
      "  9.09544484e-01 6.24883387e-02 1.02534403e-02]]\n",
      "1.0\n",
      "===\n",
      "[['Stroke']]\n",
      "[['Stroke']] [4.]\n",
      "[[0.00522414 0.00935962 0.00091147 0.00131817 0.88447957 0.08874148\n",
      "  0.00996556]]\n",
      "1.0\n",
      "===\n",
      "[['Vestibular Neuritis R']]\n",
      "[['Vestibular Neuritis R']] [6.]\n",
      "[[0.02188312 0.01611102 0.00594242 0.00617972 0.10826823 0.0151894\n",
      "  0.82642608]]\n",
      "1.0\n",
      "===\n",
      "[['Stroke']]\n",
      "[['Stroke']] [4.]\n",
      "[[4.70170505e-04 6.99471799e-04 3.11109865e-04 1.12492455e-03\n",
      "  9.90718751e-01 4.88132667e-03 1.79424516e-03]]\n",
      "1.0\n",
      "===\n",
      "[['Stroke']]\n",
      "[['Stroke']] [4.]\n",
      "[[1.98694013e-04 2.75975219e-04 1.36831055e-03 2.11673077e-03\n",
      "  9.95717319e-01 1.09079956e-04 2.13890368e-04]]\n",
      "1.0\n",
      "===\n",
      "83 2 0.9764705882352941\n"
     ]
    }
   ],
   "source": [
    "g = 0\n",
    "b = 0\n",
    "for x, y in zip(X_train, y_train.tolist()):\n",
    "    x = x.reshape(1, -1)\n",
    "    y = np.array([[y]])\n",
    "    print(encoder.inverse_transform(y))\n",
    "    pred_indx = clf.predict(x)\n",
    "    y_est = pred_indx.reshape((1, 1))\n",
    "    print(encoder.inverse_transform(y_est), pred_indx)\n",
    "    if y == y_est:\n",
    "        g += 1\n",
    "    else:\n",
    "        b += 1\n",
    "    print(clf.predict_proba(x))\n",
    "    print(clf.score(x, y))\n",
    "    print('===')\n",
    "print(g, b, g/(g+b))"
   ]
  },
  {
   "cell_type": "code",
   "execution_count": 68,
   "metadata": {},
   "outputs": [
    {
     "data": {
      "text/plain": [
       "0.9473684210526315"
      ]
     },
     "execution_count": 68,
     "metadata": {},
     "output_type": "execute_result"
    }
   ],
   "source": [
    "clf.score(X_test, y_test)"
   ]
  },
  {
   "cell_type": "code",
   "execution_count": 69,
   "metadata": {},
   "outputs": [
    {
     "data": {
      "text/plain": [
       "0.9868421052631579"
      ]
     },
     "execution_count": 69,
     "metadata": {},
     "output_type": "execute_result"
    }
   ],
   "source": [
    "clf.score(X_train, y_train)"
   ]
  },
  {
   "cell_type": "markdown",
   "metadata": {},
   "source": [
    "# All in one"
   ]
  },
  {
   "cell_type": "code",
   "execution_count": 67,
   "metadata": {
    "scrolled": false
   },
   "outputs": [
    {
     "name": "stdout",
     "output_type": "stream",
     "text": [
      "Data has 95 rows and 54 columns.\n",
      "Creating mask to determine which rows can be dropped\n",
      "Currently 0 rows are being dropped\n",
      "=====================\n",
      "Checking for entries that are droppable by being rare...\n",
      "0 rows are being dropped\n",
      "=======================\n",
      "Checking for unknown values that require warnings...\n",
      "=======================\n",
      "Checking for columns that lack signal...\n",
      "=======================\n",
      "Data has 95 rows and 54 columns.\n"
     ]
    },
    {
     "data": {
      "application/vnd.jupyter.widget-view+json": {
       "model_id": "671858cee8a643fcbb476a2756beff0c",
       "version_major": 2,
       "version_minor": 0
      },
      "text/plain": [
       "  0%|          | 0/100 [00:00<?, ?it/s]"
      ]
     },
     "metadata": {},
     "output_type": "display_data"
    },
    {
     "name": "stdout",
     "output_type": "stream",
     "text": [
      "0\n",
      "45\n"
     ]
    },
    {
     "data": {
      "image/png": "[encoded data removed]",
      "text/plain": [
       "<Figure size 432x288 with 1 Axes>"
      ]
     },
     "metadata": {
      "needs_background": "light"
     },
     "output_type": "display_data"
    },
    {
     "name": "stdout",
     "output_type": "stream",
     "text": [
      "[['BPPV (HC) L']] [['BPPV (HC) R']]\n",
      "18 1 0.9473684210526315\n"
     ]
    },
    {
     "data": {
      "application/vnd.jupyter.widget-view+json": {
       "model_id": "d0cf0b33c27646579e8dd699d4a85306",
       "version_major": 2,
       "version_minor": 0
      },
      "text/plain": [
       "  0%|          | 0/100 [00:00<?, ?it/s]"
      ]
     },
     "metadata": {},
     "output_type": "display_data"
    },
    {
     "name": "stdout",
     "output_type": "stream",
     "text": [
      "0\n",
      "41\n"
     ]
    },
    {
     "data": {
      "image/png": "[encoded data removed]",
      "text/plain": [
       "<Figure size 432x288 with 1 Axes>"
      ]
     },
     "metadata": {
      "needs_background": "light"
     },
     "output_type": "display_data"
    },
    {
     "name": "stdout",
     "output_type": "stream",
     "text": [
      "[['BPPV (HC) L']] [['BPPV (HC) R']]\n",
      "18 1 0.9473684210526315\n"
     ]
    },
    {
     "data": {
      "application/vnd.jupyter.widget-view+json": {
       "model_id": "d8ed91ce0e674894951ee0a7b5aebc31",
       "version_major": 2,
       "version_minor": 0
      },
      "text/plain": [
       "  0%|          | 0/100 [00:00<?, ?it/s]"
      ]
     },
     "metadata": {},
     "output_type": "display_data"
    },
    {
     "name": "stdout",
     "output_type": "stream",
     "text": [
      "0\n",
      "58\n"
     ]
    },
    {
     "data": {
      "image/png": "[encoded data removed]",
      "text/plain": [
       "<Figure size 432x288 with 1 Axes>"
      ]
     },
     "metadata": {
      "needs_background": "light"
     },
     "output_type": "display_data"
    },
    {
     "name": "stdout",
     "output_type": "stream",
     "text": [
      "19 0 1.0\n"
     ]
    },
    {
     "data": {
      "application/vnd.jupyter.widget-view+json": {
       "model_id": "5fe8a832a9394847a0a39ce3122fc604",
       "version_major": 2,
       "version_minor": 0
      },
      "text/plain": [
       "  0%|          | 0/100 [00:00<?, ?it/s]"
      ]
     },
     "metadata": {},
     "output_type": "display_data"
    },
    {
     "name": "stdout",
     "output_type": "stream",
     "text": [
      "0\n",
      "18\n"
     ]
    },
    {
     "data": {
      "image/png": "[encoded data removed]",
      "text/plain": [
       "<Figure size 432x288 with 1 Axes>"
      ]
     },
     "metadata": {
      "needs_background": "light"
     },
     "output_type": "display_data"
    },
    {
     "name": "stdout",
     "output_type": "stream",
     "text": [
      "[['BPPV (HC) R']] [['BPPV (HC) L']]\n",
      "[['BPPV (HC) R']] [['BPPV (HC) L']]\n",
      "17 2 0.8947368421052632\n"
     ]
    },
    {
     "data": {
      "application/vnd.jupyter.widget-view+json": {
       "model_id": "1167194d6611426687d0f3e5e7df8fde",
       "version_major": 2,
       "version_minor": 0
      },
      "text/plain": [
       "  0%|          | 0/100 [00:00<?, ?it/s]"
      ]
     },
     "metadata": {},
     "output_type": "display_data"
    },
    {
     "name": "stdout",
     "output_type": "stream",
     "text": [
      "0\n",
      "34\n"
     ]
    },
    {
     "data": {
      "image/png": "[encoded data removed]",
      "text/plain": [
       "<Figure size 432x288 with 1 Axes>"
      ]
     },
     "metadata": {
      "needs_background": "light"
     },
     "output_type": "display_data"
    },
    {
     "name": "stdout",
     "output_type": "stream",
     "text": [
      "[['BPPV (HC) R']] [['BPPV (HC) L']]\n",
      "18 1 0.9473684210526315\n",
      "0.9473684210526315\n"
     ]
    },
    {
     "data": {
      "text/plain": [
       "<Figure size 432x288 with 0 Axes>"
      ]
     },
     "metadata": {},
     "output_type": "display_data"
    }
   ],
   "source": [
    "%run model_training.py"
   ]
  },
  {
   "cell_type": "code",
   "execution_count": 71,
   "metadata": {},
   "outputs": [
    {
     "data": {
      "text/plain": [
       "{'C': 1.0,\n",
       " 'class_weight': None,\n",
       " 'dual': False,\n",
       " 'fit_intercept': True,\n",
       " 'intercept_scaling': 1,\n",
       " 'l1_ratio': None,\n",
       " 'max_iter': 100,\n",
       " 'multi_class': 'auto',\n",
       " 'n_jobs': None,\n",
       " 'penalty': 'l2',\n",
       " 'random_state': 0,\n",
       " 'solver': 'lbfgs',\n",
       " 'tol': 0.0001,\n",
       " 'verbose': 0,\n",
       " 'warm_start': False}"
      ]
     },
     "execution_count": 71,
     "metadata": {},
     "output_type": "execute_result"
    }
   ],
   "source": [
    "clf.get_params()"
   ]
  },
  {
   "cell_type": "code",
   "execution_count": 79,
   "metadata": {
    "scrolled": true
   },
   "outputs": [
    {
     "data": {
      "text/plain": [
       "(7, 75)"
      ]
     },
     "execution_count": 79,
     "metadata": {},
     "output_type": "execute_result"
    }
   ],
   "source": [
    "clf.coef_.shape"
   ]
  },
  {
   "cell_type": "code",
   "execution_count": null,
   "metadata": {},
   "outputs": [],
   "source": []
  }
 ],
 "metadata": {
  "kernelspec": {
   "display_name": "Python 3 (ipykernel)",
   "language": "python",
   "name": "python3"
  },
  "language_info": {
   "codemirror_mode": {
    "name": "ipython",
    "version": 3
   },
   "file_extension": ".py",
   "mimetype": "text/x-python",
   "name": "python",
   "nbconvert_exporter": "python",
   "pygments_lexer": "ipython3",
   "version": "3.10.12"
  }
 },
 "nbformat": 4,
 "nbformat_minor": 2
}
