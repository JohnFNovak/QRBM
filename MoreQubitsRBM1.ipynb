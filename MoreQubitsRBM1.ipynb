{
 "cells": [
  {
   "cell_type": "code",
   "execution_count": 30,
   "metadata": {},
   "outputs": [],
   "source": [
    "from qiskit import IBMQ\n",
    "# IBMQ.save_account(MY_API_TOKEN)\n",
    "import qiskit \n",
    "qiskit.__version__\n",
    "\n",
    "import numpy as np\n",
    "import random\n",
    "from qiskit import QuantumCircuit, QuantumRegister\n",
    "from qiskit.quantum_info.operators import Operator\n",
    "from qiskit import(QuantumCircuit, execute, Aer)\n",
    "from qiskit.visualization import plot_histogram\n",
    "from qiskit.extensions import Initialize # Import the Inititialize function\n",
    "from qiskit.aqua.circuits.gates import multi_control_toffoli_gate"
   ]
  },
  {
   "cell_type": "code",
   "execution_count": 100,
   "metadata": {},
   "outputs": [],
   "source": [
    "visible = 2\n",
    "hidden = 2\n",
    "\n",
    "x = np.array([random.uniform(0, 1) for n in range(visible)])\n",
    "theta = np.random.rand(visible, hidden) * np.pi\n",
    "# [[np.pi/6, np.pi/4], [np.pi / 2, np.pi]]\n"
   ]
  },
  {
   "cell_type": "code",
   "execution_count": 102,
   "metadata": {},
   "outputs": [
    {
     "name": "stdout",
     "output_type": "stream",
     "text": [
      "[0, 1, 2]\n",
      "[0, 1, 3]\n"
     ]
    },
    {
     "data": {
      "text/plain": [
       "<qiskit.circuit.instructionset.InstructionSet at 0x2373ebb8b00>"
      ]
     },
     "execution_count": 102,
     "metadata": {},
     "output_type": "execute_result"
    }
   ],
   "source": [
    "qc = QuantumCircuit(visible + hidden, visible)\n",
    "initial_state = [[np.sqrt(x[i]), np.sqrt(1-x[i])] for i in range(len(x))]\n",
    "for i in range(visible):\n",
    "    initialize_qubit = Initialize(initial_state[i])\n",
    "    qc.append(initialize_qubit, [i])\n",
    "    qc.h(i)\n",
    "for i in range(hidden):\n",
    "#     for j in range(visible):\n",
    "#         qc.rz(theta[j][i], j)\n",
    "    print(list(range(visible)) + [visible + i])\n",
    "    multi_control_toffoli_gate._multicx(qc, list(range(visible)) + [visible + i])\n",
    "for i in range(hidden):\n",
    "    qc.h(visible + i)\n",
    "# Map the quantum measurement to the classical bits\n",
    "qc.measure(list(range(visible)), list(range(visible)))"
   ]
  },
  {
   "cell_type": "code",
   "execution_count": 103,
   "metadata": {},
   "outputs": [
    {
     "name": "stdout",
     "output_type": "stream",
     "text": [
      "\n",
      "Total count for 0 and 1 are: {'00': 986, '10': 14}\n"
     ]
    },
    {
     "data": {
      "text/html": [
       "<pre style=\"word-wrap: normal;white-space: pre;background: #fff0;line-height: 1.1;font-family: &quot;Courier New&quot;,Courier,monospace\">        ┌─────────────────────────────┐┌───┐               ┌─┐   \n",
       "q_0: |0>┤ Initialize(0.68654,0.72709) ├┤ H ├──■────■───────┤M├───\n",
       "        └┬────────────────────────────┤├───┤  │    │       └╥┘┌─┐\n",
       "q_1: |0>─┤ Initialize(0.61772,0.7864) ├┤ H ├──■────■────────╫─┤M├\n",
       "         └────────────────────────────┘└───┘┌─┴─┐  │  ┌───┐ ║ └╥┘\n",
       "q_2: |0>────────────────────────────────────┤ X ├──┼──┤ H ├─╫──╫─\n",
       "                                            └───┘┌─┴─┐├───┤ ║  ║ \n",
       "q_3: |0>─────────────────────────────────────────┤ X ├┤ H ├─╫──╫─\n",
       "                                                 └───┘└───┘ ║  ║ \n",
       " c_0: 0 ════════════════════════════════════════════════════╩══╬═\n",
       "                                                               ║ \n",
       " c_1: 0 ═══════════════════════════════════════════════════════╩═\n",
       "                                                                 </pre>"
      ],
      "text/plain": [
       "        ┌─────────────────────────────┐┌───┐               ┌─┐   \n",
       "q_0: |0>┤ Initialize(0.68654,0.72709) ├┤ H ├──■────■───────┤M├───\n",
       "        └┬────────────────────────────┤├───┤  │    │       └╥┘┌─┐\n",
       "q_1: |0>─┤ Initialize(0.61772,0.7864) ├┤ H ├──■────■────────╫─┤M├\n",
       "         └────────────────────────────┘└───┘┌─┴─┐  │  ┌───┐ ║ └╥┘\n",
       "q_2: |0>────────────────────────────────────┤ X ├──┼──┤ H ├─╫──╫─\n",
       "                                            └───┘┌─┴─┐├───┤ ║  ║ \n",
       "q_3: |0>─────────────────────────────────────────┤ X ├┤ H ├─╫──╫─\n",
       "                                                 └───┘└───┘ ║  ║ \n",
       " c_0: 0 ════════════════════════════════════════════════════╩══╬═\n",
       "                                                               ║ \n",
       " c_1: 0 ═══════════════════════════════════════════════════════╩═\n",
       "                                                                 "
      ]
     },
     "execution_count": 103,
     "metadata": {},
     "output_type": "execute_result"
    }
   ],
   "source": [
    "# Use Aer's qasm_simulator\n",
    "simulator = Aer.get_backend('qasm_simulator')\n",
    "\n",
    "# Execute the circuit on the qasm simulator\n",
    "job = execute(qc, simulator, shots=1000)\n",
    "\n",
    "# Grab results from the job\n",
    "result = job.result()\n",
    "\n",
    "# Returns counts\n",
    "counts = result.get_counts(qc)\n",
    "print(\"\\nTotal count for 0 and 1 are:\",counts)\n",
    "qc.draw()"
   ]
  },
  {
   "cell_type": "code",
   "execution_count": 127,
   "metadata": {},
   "outputs": [
    {
     "name": "stdout",
     "output_type": "stream",
     "text": [
      "[0, 1, 2]\n",
      "[0, 1, 3]\n"
     ]
    },
    {
     "data": {
      "text/html": [
       "<pre style=\"word-wrap: normal;white-space: pre;background: #fff0;line-height: 1.1;font-family: &quot;Courier New&quot;,Courier,monospace\">                  \n",
       "q_0: |0>──■────■──\n",
       "          │    │  \n",
       "q_1: |0>──■────■──\n",
       "        ┌─┴─┐  │  \n",
       "q_2: |0>┤ X ├──┼──\n",
       "        └───┘┌─┴─┐\n",
       "q_3: |0>─────┤ X ├\n",
       "             └───┘\n",
       " c_0: 0 ══════════\n",
       "                  \n",
       " c_1: 0 ══════════\n",
       "                  </pre>"
      ],
      "text/plain": [
       "                  \n",
       "q_0: |0>──■────■──\n",
       "          │    │  \n",
       "q_1: |0>──■────■──\n",
       "        ┌─┴─┐  │  \n",
       "q_2: |0>┤ X ├──┼──\n",
       "        └───┘┌─┴─┐\n",
       "q_3: |0>─────┤ X ├\n",
       "             └───┘\n",
       " c_0: 0 ══════════\n",
       "                  \n",
       " c_1: 0 ══════════\n",
       "                  "
      ]
     },
     "execution_count": 127,
     "metadata": {},
     "output_type": "execute_result"
    }
   ],
   "source": [
    "visible = 2\n",
    "hidden = 2\n",
    "qc = QuantumCircuit(visible+hidden, visible)\n",
    "for i in range(hidden):\n",
    "#     for j in range(visible):\n",
    "#         qc.rz(theta[j][i], j)\n",
    "    print(list(range(visible)) + [visible + i])\n",
    "    multi_control_toffoli_gate.mct(qc, list(range(visible)), visible + i, None)\n",
    "    \n",
    "qc.draw()"
   ]
  },
  {
   "cell_type": "code",
   "execution_count": null,
   "metadata": {},
   "outputs": [],
   "source": []
  },
  {
   "cell_type": "code",
   "execution_count": null,
   "metadata": {},
   "outputs": [],
   "source": []
  }
 ],
 "metadata": {
  "kernelspec": {
   "display_name": "Python 3",
   "language": "python",
   "name": "python3"
  },
  "language_info": {
   "codemirror_mode": {
    "name": "ipython",
    "version": 3
   },
   "file_extension": ".py",
   "mimetype": "text/x-python",
   "name": "python",
   "nbconvert_exporter": "python",
   "pygments_lexer": "ipython3",
   "version": "3.7.3"
  }
 },
 "nbformat": 4,
 "nbformat_minor": 2
}
