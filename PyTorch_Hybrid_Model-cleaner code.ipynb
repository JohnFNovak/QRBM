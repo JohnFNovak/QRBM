{
 "cells": [
  {
   "cell_type": "code",
   "execution_count": 3,
   "metadata": {},
   "outputs": [],
   "source": [
    "from qiskit import IBMQ\n",
    "# IBMQ.save_account(MY_API_TOKEN)\n",
    "import qiskit\n",
    "qiskit.__version__\n",
    "\n",
    "\n",
    "import scipy\n",
    "import numpy as np\n",
    "import random\n",
    "\n",
    "from sklearn import preprocessing\n",
    "from qiskit import QuantumCircuit, QuantumRegister, ClassicalRegister\n",
    "from qiskit.quantum_info.operators import Operator\n",
    "from qiskit import(QuantumCircuit, execute, Aer)\n",
    "from qiskit.visualization import plot_histogram\n",
    "from qiskit.extensions import Initialize # Import the Inititialize function\n",
    "from qiskit.aqua.circuits.gates import multi_control_toffoli_gate\n",
    "from qiskit.aqua.circuits.gates import multi_control_multi_target_gate\n",
    "\n",
    "import torch\n",
    "from torch.autograd import Function\n",
    "import torch.optim as optim\n",
    "import torch.nn as nn\n",
    "import torch.nn.functional as F\n",
    "\n",
    "from torchvision import datasets, transforms\n",
    "\n",
    "import timeit\n",
    "import matplotlib.pyplot as plt\n",
    "%matplotlib inline   \n",
    "plt.rcParams['image.cmap'] = 'gray'\n",
    "\n",
    "import pandas as pd\n",
    "\n",
    "from skimage import data, color\n",
    "from skimage.transform import rescale, resize, downscale_local_mean\n",
    "from skimage import img_as_bool\n",
    "\n",
    "import cv2 as cv"
   ]
  },
  {
   "cell_type": "code",
   "execution_count": 4,
   "metadata": {},
   "outputs": [],
   "source": [
    "def exctract_single_qubit_measurment(dict_of_counts, qubit_range):\n",
    "#     print(dict_of_counts)\n",
    "#     print(len(list(dict_of_counts.keys())[0]))\n",
    "    num_qubits = len(list(dict_of_counts.keys())[0])\n",
    "#     result = np.zeros(len(qubit_range))\n",
    "    result = np.zeros(num_qubits)\n",
    "#     print(result)\n",
    "    for el in dict_of_counts:\n",
    "        for i in range(num_qubits):\n",
    "#             print(\"i\", i)\n",
    "#             print(\"el[i]\", el[i])\n",
    "            if i in qubit_range and el[i] == '1':\n",
    "                result[i] += dict_of_counts[el]\n",
    "#     print(result)\n",
    "#     print(result[qubit_range])\n",
    "    return result[qubit_range]"
   ]
  },
  {
   "cell_type": "code",
   "execution_count": 5,
   "metadata": {},
   "outputs": [],
   "source": []
  },
  {
   "cell_type": "code",
   "execution_count": 6,
   "metadata": {},
   "outputs": [
    {
     "name": "stdout",
     "output_type": "stream",
     "text": [
      "[Qubit(QuantumRegister(4, 'q'), 0), Qubit(QuantumRegister(4, 'q'), 1)]\n",
      "Qubit(QuantumRegister(4, 'q'), 2)\n",
      "[Qubit(QuantumRegister(4, 'q'), 3)]\n",
      "[0.011]\n"
     ]
    },
    {
     "data": {
      "text/html": [
       "<pre style=\"word-wrap: normal;white-space: pre;background: #fff0;line-height: 1.1;font-family: &quot;Courier New&quot;,Courier,monospace\">        ┌─────────────────────────────┐┌───┐ ┌────────────┐        \n",
       "q_0: |0>┤ Initialize(0.97018,0.24237) ├┤ H ├─┤ Ry(1.2575) ├──■─────\n",
       "        ├─────────────────────────────┤├───┤┌┴────────────┤  │     \n",
       "q_1: |0>┤ Initialize(0.64482,0.76434) ├┤ H ├┤ Ry(0.45973) ├──■─────\n",
       "        └─────────────────────────────┘└───┘└─────────────┘┌─┴─┐┌─┐\n",
       "q_2: |0>───────────────────────────────────────────────────┤ X ├┤M├\n",
       "                                                           └───┘└╥┘\n",
       "q_3: |0>─────────────────────────────────────────────────────────╫─\n",
       "                                                                 ║ \n",
       " c_0: 0 ═════════════════════════════════════════════════════════╩═\n",
       "                                                                   </pre>"
      ],
      "text/plain": [
       "        ┌─────────────────────────────┐┌───┐ ┌────────────┐        \n",
       "q_0: |0>┤ Initialize(0.97018,0.24237) ├┤ H ├─┤ Ry(1.2575) ├──■─────\n",
       "        ├─────────────────────────────┤├───┤┌┴────────────┤  │     \n",
       "q_1: |0>┤ Initialize(0.64482,0.76434) ├┤ H ├┤ Ry(0.45973) ├──■─────\n",
       "        └─────────────────────────────┘└───┘└─────────────┘┌─┴─┐┌─┐\n",
       "q_2: |0>───────────────────────────────────────────────────┤ X ├┤M├\n",
       "                                                           └───┘└╥┘\n",
       "q_3: |0>─────────────────────────────────────────────────────────╫─\n",
       "                                                                 ║ \n",
       " c_0: 0 ═════════════════════════════════════════════════════════╩═\n",
       "                                                                   "
      ]
     },
     "execution_count": 6,
     "metadata": {},
     "output_type": "execute_result"
    }
   ],
   "source": []
  },
  {
   "cell_type": "code",
   "execution_count": 8,
   "metadata": {},
   "outputs": [],
   "source": [
    "# Wczytywanie danych inną metodą\n",
    "# Concentrating on the first 100 samples\n",
    "n_samples = 100\n",
    "\n",
    "X_train = datasets.MNIST(root='./data', train=True, download=True,\n",
    "                         transform=transforms.Compose([transforms.ToTensor()]))\n",
    "\n",
    "# Leaving only labels 0 and 1 \n",
    "idx = np.append(np.where(X_train.targets == 0)[0][:n_samples], \n",
    "                np.where(X_train.targets == 1)[0][:n_samples])\n",
    "\n",
    "X_train.data = X_train.data[idx]\n",
    "X_train.targets = X_train.targets[idx]\n",
    "\n",
    "train_loader = torch.utils.data.DataLoader(X_train, batch_size=1, shuffle=True)"
   ]
  },
  {
   "cell_type": "code",
   "execution_count": 9,
   "metadata": {},
   "outputs": [
    {
     "data": {
      "image/png": "[encoded data removed]",
      "text/plain": [
       "<Figure size 720x216 with 6 Axes>"
      ]
     },
     "metadata": {},
     "output_type": "display_data"
    }
   ],
   "source": [
    "n_samples_show = 6\n",
    "\n",
    "data_iter = iter(train_loader)\n",
    "fig, axes = plt.subplots(nrows=1, ncols=n_samples_show, figsize=(10, 3))\n",
    "\n",
    "while n_samples_show > 0:\n",
    "    images, targets = data_iter.__next__()\n",
    "\n",
    "    axes[n_samples_show - 1].imshow(images[0].numpy().squeeze(), cmap='gray')\n",
    "    axes[n_samples_show - 1].set_xticks([])\n",
    "    axes[n_samples_show - 1].set_yticks([])\n",
    "    axes[n_samples_show - 1].set_title(\"Labeled: {}\".format(targets.item()))\n",
    "    \n",
    "    n_samples_show -= 1"
   ]
  },
  {
   "cell_type": "code",
   "execution_count": 10,
   "metadata": {},
   "outputs": [],
   "source": [
    "n_samples = 50\n",
    "\n",
    "X_test = datasets.MNIST(root='./data', train=False, download=True,\n",
    "                        transform=transforms.Compose([transforms.ToTensor()]))\n",
    "\n",
    "idx = np.append(np.where(X_test.targets == 0)[0][:n_samples], \n",
    "                np.where(X_test.targets == 1)[0][:n_samples])\n",
    "\n",
    "X_test.data = X_test.data[idx]\n",
    "X_test.targets = X_test.targets[idx]\n",
    "\n",
    "test_loader = torch.utils.data.DataLoader(X_test, batch_size=1, shuffle=True)"
   ]
  },
  {
   "cell_type": "code",
   "execution_count": 58,
   "metadata": {},
   "outputs": [],
   "source": [
    "class QMLCircuit():\n",
    "    def __init__(self, visible, hidden, num_shots=1000):\n",
    "        self.visible = visible\n",
    "        self.hidden = hidden\n",
    "        self.ancilla = visible-1\n",
    "        self.qr = QuantumRegister((self.visible + self.hidden + self.ancilla), 'q')\n",
    "        self.cr = ClassicalRegister(self.hidden, 'c')\n",
    "        self.qc = QuantumCircuit(self.qr, self.cr)\n",
    "\n",
    "        self.num_shots = num_shots\n",
    "    \n",
    "#     def run(self, thetas):\n",
    "    def circuit_function(self, x, weight_matrix):\n",
    "        self.qc.data = []\n",
    "        print(\"x: \",x)\n",
    "        print(\"x[0]: \", x[0])\n",
    "\n",
    "        # inicjalizacja wartości qubitów wejściowych (x)\n",
    "        initial_state = [[np.sqrt(1-x[i]*x[i]), x[i]] for i in range(len(x))]\n",
    "\n",
    "        # inicjalizacja wartości qubitów wejściowych i bramka Hadamarda\n",
    "        for i in range(visible):\n",
    "            initialize_qubit = Initialize(initial_state[i])\n",
    "            self.qc.append(initialize_qubit, [i])\n",
    "            self.qc.h(i)\n",
    "\n",
    "        # ciąg bramek CNOT i bramek rotacji R (zależnych od parametrów)\n",
    "        for i in range(self.hidden):\n",
    "            for j in range(self.visible):\n",
    "                self.qc.ry(weight_matrix[j][i], j)\n",
    "            print([self.qr[k] for k in range(self.visible)])\n",
    "            print(self.qr[self.visible + i])\n",
    "            print([self.qr[i] for i in range(self.visible + self.hidden, self.visible + self.hidden + self.ancilla)])\n",
    "            multi_control_toffoli_gate.mct(self.qc, [self.qr[k] for k in range(self.visible)], self.qr[self.visible + i], [self.qr[i] for i in range(self.visible + self.hidden, self.visible + self.hidden + self.ancilla)], mode='basic')\n",
    "\n",
    "        # pomiar linii visible\n",
    "        self.qc.measure(list(range(self.visible, self.visible+self.hidden)), list(range(self.hidden)))\n",
    "\n",
    "        #eksperyment:\n",
    "        simulator = Aer.get_backend('qasm_simulator')\n",
    "        job = execute(self.qc, simulator, shots=self.num_shots)\n",
    "        result = job.result()\n",
    "        counts = result.get_counts(self.qc)\n",
    "        ph = exctract_single_qubit_measurment(counts, list(range(self.hidden))) / self.num_shots\n",
    "    #     print(\"\\nProbabilities are:\",ph)\n",
    "        return ph"
   ]
  },
  {
   "cell_type": "code",
   "execution_count": 59,
   "metadata": {},
   "outputs": [
    {
     "name": "stdout",
     "output_type": "stream",
     "text": [
      "x:  [0.7530885  0.46868829]\n",
      "x[0]:  0.7530885023020115\n",
      "[Qubit(QuantumRegister(4, 'q'), 0), Qubit(QuantumRegister(4, 'q'), 1)]\n",
      "Qubit(QuantumRegister(4, 'q'), 2)\n",
      "[Qubit(QuantumRegister(4, 'q'), 3)]\n",
      "[0.555]\n"
     ]
    },
    {
     "data": {
      "text/html": [
       "<pre style=\"word-wrap: normal;white-space: pre;background: #fff0;line-height: 1.1;font-family: &quot;Courier New&quot;,Courier,monospace\">        ┌─────────────────────────────┐┌───┐┌────────────┐        \n",
       "q_0: |0>┤ Initialize(0.65792,0.75309) ├┤ H ├┤ Ry(2.2312) ├──■─────\n",
       "        ├─────────────────────────────┤├───┤├────────────┤  │     \n",
       "q_1: |0>┤ Initialize(0.88336,0.46869) ├┤ H ├┤ Ry(1.5183) ├──■─────\n",
       "        └─────────────────────────────┘└───┘└────────────┘┌─┴─┐┌─┐\n",
       "q_2: |0>──────────────────────────────────────────────────┤ X ├┤M├\n",
       "                                                          └───┘└╥┘\n",
       "q_3: |0>────────────────────────────────────────────────────────╫─\n",
       "                                                                ║ \n",
       " c_0: 0 ════════════════════════════════════════════════════════╩═\n",
       "                                                                  </pre>"
      ],
      "text/plain": [
       "        ┌─────────────────────────────┐┌───┐┌────────────┐        \n",
       "q_0: |0>┤ Initialize(0.65792,0.75309) ├┤ H ├┤ Ry(2.2312) ├──■─────\n",
       "        ├─────────────────────────────┤├───┤├────────────┤  │     \n",
       "q_1: |0>┤ Initialize(0.88336,0.46869) ├┤ H ├┤ Ry(1.5183) ├──■─────\n",
       "        └─────────────────────────────┘└───┘└────────────┘┌─┴─┐┌─┐\n",
       "q_2: |0>──────────────────────────────────────────────────┤ X ├┤M├\n",
       "                                                          └───┘└╥┘\n",
       "q_3: |0>────────────────────────────────────────────────────────╫─\n",
       "                                                                ║ \n",
       " c_0: 0 ════════════════════════════════════════════════════════╩═\n",
       "                                                                  "
      ]
     },
     "execution_count": 59,
     "metadata": {},
     "output_type": "execute_result"
    }
   ],
   "source": [
    "visible = 2\n",
    "hidden = 1\n",
    "    \n",
    "QMLC = QMLCircuit(visible, hidden, 1000)\n",
    "#definicja wejścia (x)oraz inicjalizacja macierzy wag\n",
    "x = np.array([random.uniform(0, 1) for n in range(visible)])\n",
    "weight_matrix = np.random.rand(visible, hidden) * np.pi\n",
    "print(QMLC.circuit_function(x, weight_matrix))\n",
    "QMLC.qc.draw()"
   ]
  },
  {
   "cell_type": "code",
   "execution_count": 78,
   "metadata": {},
   "outputs": [],
   "source": [
    "##Na razie zostawiam na później\n",
    "\n",
    "class QFunction(Function):\n",
    "    \"\"\" Hybrid quantum - classical function definition \"\"\"\n",
    "    \n",
    "    @staticmethod\n",
    "    def forward(ctx, input, QMLC, epsilon, weight_matrix):\n",
    "        \"\"\" Forward pass computation \"\"\"\n",
    "        ctx.epsilon = epsilon\n",
    "        ctx.QMLC = QMLC\n",
    "        ctx.weight_matrix = weight_matrix\n",
    "        print(\"input from forward: \", input)\n",
    "        ph = ctx.QMLC.circuit_function(input.tolist()[0], ctx.weight_matrix)\n",
    "        result = torch.tensor([ph])\n",
    "        print(\"result: \", result)\n",
    "        ctx.save_for_backward(input, result)\n",
    "        return result\n",
    "        \n",
    "    @staticmethod\n",
    "    def backward(ctx, grad_output):\n",
    "#     def update(ph, expected_ph, weight_matrix, lr):\n",
    "\n",
    "        input, ph = ctx.saved_tensors\n",
    "        input_list = np.array(input.tolist())\n",
    "\n",
    "        gradient = []\n",
    "        for i in range(len(input_list)):\n",
    "            input_list[i] += ctx.epsilon\n",
    "            result_plus = ctx.QMLC.circuit_function(input_list.tolist()[0], ctx.weight_matrix)\n",
    "\n",
    "            input_list[i] -= 2*ctx.epsilon\n",
    "            result_minus = ctx.QMLC.circuit_function(input_list.tolist()[0], ctx.weight_matrix)\n",
    "\n",
    "            weight_matrix[i] += ctx.epsilon\n",
    "#             print(\"exp_ph\", expected_ph)\n",
    "#             print(result_plus - result_minus)\n",
    "            result = (result_plus - result_minus)/(2*ctx.epsilon) * lr\n",
    "            gradient.append(result)\n",
    "\n",
    "        return gradient\n",
    "        \n",
    "        \n",
    "#         \"\"\" Backward pass computation \"\"\"\n",
    "#         input, ph = ctx.saved_tensors\n",
    "#         input_list = np.array(input.tolist())\n",
    "        \n",
    "#         shift_right = input_list + np.ones(input_list.shape) * ctx.epsilon\n",
    "#         shift_left = input_list - np.ones(input_list.shape) * ctx.epsilon\n",
    "        \n",
    "#         gradients = []\n",
    "#         for i in range(len(input_list)):\n",
    "#             expectation_right = ctx.quantum_circuit.run(shift_right[i])\n",
    "#             expectation_left  = ctx.quantum_circuit.run(shift_left[i])\n",
    "            \n",
    "#             gradient = torch.tensor([expectation_right]) - torch.tensor([expectation_left])\n",
    "#             gradients.append(gradient)\n",
    "#         gradients = np.array([gradients]).T\n",
    "#         return torch.tensor([gradients]).float() * grad_output.float(), None, None\n",
    "\n",
    "class QuantumLayer(nn.Module):\n",
    "    \"\"\" Hybrid quantum - classical layer definition \"\"\"\n",
    "    \n",
    "    def __init__(self, backend, shots, epsilon):\n",
    "        super(QuantumLayer, self).__init__()\n",
    "        self.QMLC = QMLCircuit(1, 1, 1000)\n",
    "        self.epsilon = epsilon\n",
    "        self.weight_matrix = nn.Parameter(torch.randn(visible, hidden))\n",
    "        print(\"self.weight_matrix: \", self.weight_matrix)\n",
    "        \n",
    "    def forward(self, input):\n",
    "        return QFunction.apply(input, self.QMLC, self.epsilon, self.weight_matrix)"
   ]
  },
  {
   "cell_type": "code",
   "execution_count": 79,
   "metadata": {},
   "outputs": [],
   "source": [
    "class Net(nn.Module):\n",
    "    def __init__(self):\n",
    "        super(Net, self).__init__()\n",
    "        self.conv1 = nn.Conv2d(1, 32, kernel_size=5)\n",
    "        self.conv2 = nn.Conv2d(32, 64, kernel_size=5)\n",
    "        self.dropout = nn.Dropout2d()\n",
    "        self.fc1 = nn.Linear(6400, 64)\n",
    "        self.fc2 = nn.Linear(64, 2)\n",
    "        self.quantum = QuantumLayer(qiskit.Aer.get_backend('qasm_simulator'), 1000, 0.01)\n",
    "\n",
    "    def forward(self, x):\n",
    "        x = F.relu(self.conv1(x))\n",
    "        x = F.relu(self.conv2(x))\n",
    "        x = F.max_pool2d(x, 2)\n",
    "        x = self.dropout(x)\n",
    "        x = x.view(-1, 6400)\n",
    "        x = F.relu(self.fc1(x))\n",
    "        x = self.fc2(x)\n",
    "        x = self.quantum(x)\n",
    "        return torch.cat((x, 1 - x), -1)"
   ]
  },
  {
   "cell_type": "code",
   "execution_count": 80,
   "metadata": {
    "scrolled": false
   },
   "outputs": [
    {
     "name": "stdout",
     "output_type": "stream",
     "text": [
      "self.weight_matrix:  Parameter containing:\n",
      "tensor([[-1.3567],\n",
      "        [ 0.4288]], requires_grad=True)\n",
      "input from forward:  tensor([[ 0.0702, -0.0317]], grad_fn=<AddmmBackward>)\n",
      "x:  [0.07016479969024658, -0.031678810715675354]\n",
      "x[0]:  0.07016479969024658\n"
     ]
    },
    {
     "ename": "CircuitError",
     "evalue": "\"invalid param type <class 'torch.Tensor'> in instruction ry\"",
     "output_type": "error",
     "traceback": [
      "\u001b[1;31m---------------------------------------------------------------------------\u001b[0m",
      "\u001b[1;31mCircuitError\u001b[0m                              Traceback (most recent call last)",
      "\u001b[1;32m<ipython-input-80-1e26186df8ce>\u001b[0m in \u001b[0;36m<module>\u001b[1;34m\u001b[0m\n\u001b[0;32m     15\u001b[0m         \u001b[0moptimizer\u001b[0m\u001b[1;33m.\u001b[0m\u001b[0mzero_grad\u001b[0m\u001b[1;33m(\u001b[0m\u001b[1;33m)\u001b[0m\u001b[1;33m\u001b[0m\u001b[1;33m\u001b[0m\u001b[0m\n\u001b[0;32m     16\u001b[0m         \u001b[1;31m# Forward pass\u001b[0m\u001b[1;33m\u001b[0m\u001b[1;33m\u001b[0m\u001b[1;33m\u001b[0m\u001b[0m\n\u001b[1;32m---> 17\u001b[1;33m         \u001b[0moutput\u001b[0m \u001b[1;33m=\u001b[0m \u001b[0mmodel\u001b[0m\u001b[1;33m(\u001b[0m\u001b[0mdata\u001b[0m\u001b[1;33m)\u001b[0m\u001b[1;33m\u001b[0m\u001b[1;33m\u001b[0m\u001b[0m\n\u001b[0m\u001b[0;32m     18\u001b[0m         \u001b[1;31m# Calculating loss\u001b[0m\u001b[1;33m\u001b[0m\u001b[1;33m\u001b[0m\u001b[1;33m\u001b[0m\u001b[0m\n\u001b[0;32m     19\u001b[0m         \u001b[0mloss\u001b[0m \u001b[1;33m=\u001b[0m \u001b[0mloss_func\u001b[0m\u001b[1;33m(\u001b[0m\u001b[0moutput\u001b[0m\u001b[1;33m,\u001b[0m \u001b[0mtarget\u001b[0m\u001b[1;33m)\u001b[0m\u001b[1;33m\u001b[0m\u001b[1;33m\u001b[0m\u001b[0m\n",
      "\u001b[1;32mc:\\users\\mateusz\\appdata\\local\\programs\\python\\python37\\lib\\site-packages\\torch\\nn\\modules\\module.py\u001b[0m in \u001b[0;36m__call__\u001b[1;34m(self, *input, **kwargs)\u001b[0m\n\u001b[0;32m    548\u001b[0m             \u001b[0mresult\u001b[0m \u001b[1;33m=\u001b[0m \u001b[0mself\u001b[0m\u001b[1;33m.\u001b[0m\u001b[0m_slow_forward\u001b[0m\u001b[1;33m(\u001b[0m\u001b[1;33m*\u001b[0m\u001b[0minput\u001b[0m\u001b[1;33m,\u001b[0m \u001b[1;33m**\u001b[0m\u001b[0mkwargs\u001b[0m\u001b[1;33m)\u001b[0m\u001b[1;33m\u001b[0m\u001b[1;33m\u001b[0m\u001b[0m\n\u001b[0;32m    549\u001b[0m         \u001b[1;32melse\u001b[0m\u001b[1;33m:\u001b[0m\u001b[1;33m\u001b[0m\u001b[1;33m\u001b[0m\u001b[0m\n\u001b[1;32m--> 550\u001b[1;33m             \u001b[0mresult\u001b[0m \u001b[1;33m=\u001b[0m \u001b[0mself\u001b[0m\u001b[1;33m.\u001b[0m\u001b[0mforward\u001b[0m\u001b[1;33m(\u001b[0m\u001b[1;33m*\u001b[0m\u001b[0minput\u001b[0m\u001b[1;33m,\u001b[0m \u001b[1;33m**\u001b[0m\u001b[0mkwargs\u001b[0m\u001b[1;33m)\u001b[0m\u001b[1;33m\u001b[0m\u001b[1;33m\u001b[0m\u001b[0m\n\u001b[0m\u001b[0;32m    551\u001b[0m         \u001b[1;32mfor\u001b[0m \u001b[0mhook\u001b[0m \u001b[1;32min\u001b[0m \u001b[0mself\u001b[0m\u001b[1;33m.\u001b[0m\u001b[0m_forward_hooks\u001b[0m\u001b[1;33m.\u001b[0m\u001b[0mvalues\u001b[0m\u001b[1;33m(\u001b[0m\u001b[1;33m)\u001b[0m\u001b[1;33m:\u001b[0m\u001b[1;33m\u001b[0m\u001b[1;33m\u001b[0m\u001b[0m\n\u001b[0;32m    552\u001b[0m             \u001b[0mhook_result\u001b[0m \u001b[1;33m=\u001b[0m \u001b[0mhook\u001b[0m\u001b[1;33m(\u001b[0m\u001b[0mself\u001b[0m\u001b[1;33m,\u001b[0m \u001b[0minput\u001b[0m\u001b[1;33m,\u001b[0m \u001b[0mresult\u001b[0m\u001b[1;33m)\u001b[0m\u001b[1;33m\u001b[0m\u001b[1;33m\u001b[0m\u001b[0m\n",
      "\u001b[1;32m<ipython-input-79-b06d96113533>\u001b[0m in \u001b[0;36mforward\u001b[1;34m(self, x)\u001b[0m\n\u001b[0;32m     17\u001b[0m         \u001b[0mx\u001b[0m \u001b[1;33m=\u001b[0m \u001b[0mF\u001b[0m\u001b[1;33m.\u001b[0m\u001b[0mrelu\u001b[0m\u001b[1;33m(\u001b[0m\u001b[0mself\u001b[0m\u001b[1;33m.\u001b[0m\u001b[0mfc1\u001b[0m\u001b[1;33m(\u001b[0m\u001b[0mx\u001b[0m\u001b[1;33m)\u001b[0m\u001b[1;33m)\u001b[0m\u001b[1;33m\u001b[0m\u001b[1;33m\u001b[0m\u001b[0m\n\u001b[0;32m     18\u001b[0m         \u001b[0mx\u001b[0m \u001b[1;33m=\u001b[0m \u001b[0mself\u001b[0m\u001b[1;33m.\u001b[0m\u001b[0mfc2\u001b[0m\u001b[1;33m(\u001b[0m\u001b[0mx\u001b[0m\u001b[1;33m)\u001b[0m\u001b[1;33m\u001b[0m\u001b[1;33m\u001b[0m\u001b[0m\n\u001b[1;32m---> 19\u001b[1;33m         \u001b[0mx\u001b[0m \u001b[1;33m=\u001b[0m \u001b[0mself\u001b[0m\u001b[1;33m.\u001b[0m\u001b[0mquantum\u001b[0m\u001b[1;33m(\u001b[0m\u001b[0mx\u001b[0m\u001b[1;33m)\u001b[0m\u001b[1;33m\u001b[0m\u001b[1;33m\u001b[0m\u001b[0m\n\u001b[0m\u001b[0;32m     20\u001b[0m         \u001b[1;32mreturn\u001b[0m \u001b[0mtorch\u001b[0m\u001b[1;33m.\u001b[0m\u001b[0mcat\u001b[0m\u001b[1;33m(\u001b[0m\u001b[1;33m(\u001b[0m\u001b[0mx\u001b[0m\u001b[1;33m,\u001b[0m \u001b[1;36m1\u001b[0m \u001b[1;33m-\u001b[0m \u001b[0mx\u001b[0m\u001b[1;33m)\u001b[0m\u001b[1;33m,\u001b[0m \u001b[1;33m-\u001b[0m\u001b[1;36m1\u001b[0m\u001b[1;33m)\u001b[0m\u001b[1;33m\u001b[0m\u001b[1;33m\u001b[0m\u001b[0m\n",
      "\u001b[1;32mc:\\users\\mateusz\\appdata\\local\\programs\\python\\python37\\lib\\site-packages\\torch\\nn\\modules\\module.py\u001b[0m in \u001b[0;36m__call__\u001b[1;34m(self, *input, **kwargs)\u001b[0m\n\u001b[0;32m    548\u001b[0m             \u001b[0mresult\u001b[0m \u001b[1;33m=\u001b[0m \u001b[0mself\u001b[0m\u001b[1;33m.\u001b[0m\u001b[0m_slow_forward\u001b[0m\u001b[1;33m(\u001b[0m\u001b[1;33m*\u001b[0m\u001b[0minput\u001b[0m\u001b[1;33m,\u001b[0m \u001b[1;33m**\u001b[0m\u001b[0mkwargs\u001b[0m\u001b[1;33m)\u001b[0m\u001b[1;33m\u001b[0m\u001b[1;33m\u001b[0m\u001b[0m\n\u001b[0;32m    549\u001b[0m         \u001b[1;32melse\u001b[0m\u001b[1;33m:\u001b[0m\u001b[1;33m\u001b[0m\u001b[1;33m\u001b[0m\u001b[0m\n\u001b[1;32m--> 550\u001b[1;33m             \u001b[0mresult\u001b[0m \u001b[1;33m=\u001b[0m \u001b[0mself\u001b[0m\u001b[1;33m.\u001b[0m\u001b[0mforward\u001b[0m\u001b[1;33m(\u001b[0m\u001b[1;33m*\u001b[0m\u001b[0minput\u001b[0m\u001b[1;33m,\u001b[0m \u001b[1;33m**\u001b[0m\u001b[0mkwargs\u001b[0m\u001b[1;33m)\u001b[0m\u001b[1;33m\u001b[0m\u001b[1;33m\u001b[0m\u001b[0m\n\u001b[0m\u001b[0;32m    551\u001b[0m         \u001b[1;32mfor\u001b[0m \u001b[0mhook\u001b[0m \u001b[1;32min\u001b[0m \u001b[0mself\u001b[0m\u001b[1;33m.\u001b[0m\u001b[0m_forward_hooks\u001b[0m\u001b[1;33m.\u001b[0m\u001b[0mvalues\u001b[0m\u001b[1;33m(\u001b[0m\u001b[1;33m)\u001b[0m\u001b[1;33m:\u001b[0m\u001b[1;33m\u001b[0m\u001b[1;33m\u001b[0m\u001b[0m\n\u001b[0;32m    552\u001b[0m             \u001b[0mhook_result\u001b[0m \u001b[1;33m=\u001b[0m \u001b[0mhook\u001b[0m\u001b[1;33m(\u001b[0m\u001b[0mself\u001b[0m\u001b[1;33m,\u001b[0m \u001b[0minput\u001b[0m\u001b[1;33m,\u001b[0m \u001b[0mresult\u001b[0m\u001b[1;33m)\u001b[0m\u001b[1;33m\u001b[0m\u001b[1;33m\u001b[0m\u001b[0m\n",
      "\u001b[1;32m<ipython-input-78-4d5e5b44be00>\u001b[0m in \u001b[0;36mforward\u001b[1;34m(self, input)\u001b[0m\n\u001b[0;32m     69\u001b[0m \u001b[1;33m\u001b[0m\u001b[0m\n\u001b[0;32m     70\u001b[0m     \u001b[1;32mdef\u001b[0m \u001b[0mforward\u001b[0m\u001b[1;33m(\u001b[0m\u001b[0mself\u001b[0m\u001b[1;33m,\u001b[0m \u001b[0minput\u001b[0m\u001b[1;33m)\u001b[0m\u001b[1;33m:\u001b[0m\u001b[1;33m\u001b[0m\u001b[1;33m\u001b[0m\u001b[0m\n\u001b[1;32m---> 71\u001b[1;33m         \u001b[1;32mreturn\u001b[0m \u001b[0mQFunction\u001b[0m\u001b[1;33m.\u001b[0m\u001b[0mapply\u001b[0m\u001b[1;33m(\u001b[0m\u001b[0minput\u001b[0m\u001b[1;33m,\u001b[0m \u001b[0mself\u001b[0m\u001b[1;33m.\u001b[0m\u001b[0mQMLC\u001b[0m\u001b[1;33m,\u001b[0m \u001b[0mself\u001b[0m\u001b[1;33m.\u001b[0m\u001b[0mepsilon\u001b[0m\u001b[1;33m,\u001b[0m \u001b[0mself\u001b[0m\u001b[1;33m.\u001b[0m\u001b[0mweight_matrix\u001b[0m\u001b[1;33m)\u001b[0m\u001b[1;33m\u001b[0m\u001b[1;33m\u001b[0m\u001b[0m\n\u001b[0m",
      "\u001b[1;32m<ipython-input-78-4d5e5b44be00>\u001b[0m in \u001b[0;36mforward\u001b[1;34m(ctx, input, QMLC, epsilon, weight_matrix)\u001b[0m\n\u001b[0;32m     11\u001b[0m         \u001b[0mctx\u001b[0m\u001b[1;33m.\u001b[0m\u001b[0mweight_matrix\u001b[0m \u001b[1;33m=\u001b[0m \u001b[0mweight_matrix\u001b[0m\u001b[1;33m\u001b[0m\u001b[1;33m\u001b[0m\u001b[0m\n\u001b[0;32m     12\u001b[0m         \u001b[0mprint\u001b[0m\u001b[1;33m(\u001b[0m\u001b[1;34m\"input from forward: \"\u001b[0m\u001b[1;33m,\u001b[0m \u001b[0minput\u001b[0m\u001b[1;33m)\u001b[0m\u001b[1;33m\u001b[0m\u001b[1;33m\u001b[0m\u001b[0m\n\u001b[1;32m---> 13\u001b[1;33m         \u001b[0mph\u001b[0m \u001b[1;33m=\u001b[0m \u001b[0mctx\u001b[0m\u001b[1;33m.\u001b[0m\u001b[0mQMLC\u001b[0m\u001b[1;33m.\u001b[0m\u001b[0mcircuit_function\u001b[0m\u001b[1;33m(\u001b[0m\u001b[0minput\u001b[0m\u001b[1;33m.\u001b[0m\u001b[0mtolist\u001b[0m\u001b[1;33m(\u001b[0m\u001b[1;33m)\u001b[0m\u001b[1;33m[\u001b[0m\u001b[1;36m0\u001b[0m\u001b[1;33m]\u001b[0m\u001b[1;33m,\u001b[0m \u001b[0mctx\u001b[0m\u001b[1;33m.\u001b[0m\u001b[0mweight_matrix\u001b[0m\u001b[1;33m)\u001b[0m\u001b[1;33m\u001b[0m\u001b[1;33m\u001b[0m\u001b[0m\n\u001b[0m\u001b[0;32m     14\u001b[0m         \u001b[0mresult\u001b[0m \u001b[1;33m=\u001b[0m \u001b[0mtorch\u001b[0m\u001b[1;33m.\u001b[0m\u001b[0mtensor\u001b[0m\u001b[1;33m(\u001b[0m\u001b[1;33m[\u001b[0m\u001b[0mph\u001b[0m\u001b[1;33m]\u001b[0m\u001b[1;33m)\u001b[0m\u001b[1;33m\u001b[0m\u001b[1;33m\u001b[0m\u001b[0m\n\u001b[0;32m     15\u001b[0m         \u001b[0mprint\u001b[0m\u001b[1;33m(\u001b[0m\u001b[1;34m\"result: \"\u001b[0m\u001b[1;33m,\u001b[0m \u001b[0mresult\u001b[0m\u001b[1;33m)\u001b[0m\u001b[1;33m\u001b[0m\u001b[1;33m\u001b[0m\u001b[0m\n",
      "\u001b[1;32m<ipython-input-58-11dac93286fc>\u001b[0m in \u001b[0;36mcircuit_function\u001b[1;34m(self, x, weight_matrix)\u001b[0m\n\u001b[0;32m     28\u001b[0m         \u001b[1;32mfor\u001b[0m \u001b[0mi\u001b[0m \u001b[1;32min\u001b[0m \u001b[0mrange\u001b[0m\u001b[1;33m(\u001b[0m\u001b[0mself\u001b[0m\u001b[1;33m.\u001b[0m\u001b[0mhidden\u001b[0m\u001b[1;33m)\u001b[0m\u001b[1;33m:\u001b[0m\u001b[1;33m\u001b[0m\u001b[1;33m\u001b[0m\u001b[0m\n\u001b[0;32m     29\u001b[0m             \u001b[1;32mfor\u001b[0m \u001b[0mj\u001b[0m \u001b[1;32min\u001b[0m \u001b[0mrange\u001b[0m\u001b[1;33m(\u001b[0m\u001b[0mself\u001b[0m\u001b[1;33m.\u001b[0m\u001b[0mvisible\u001b[0m\u001b[1;33m)\u001b[0m\u001b[1;33m:\u001b[0m\u001b[1;33m\u001b[0m\u001b[1;33m\u001b[0m\u001b[0m\n\u001b[1;32m---> 30\u001b[1;33m                 \u001b[0mself\u001b[0m\u001b[1;33m.\u001b[0m\u001b[0mqc\u001b[0m\u001b[1;33m.\u001b[0m\u001b[0mry\u001b[0m\u001b[1;33m(\u001b[0m\u001b[0mweight_matrix\u001b[0m\u001b[1;33m[\u001b[0m\u001b[0mj\u001b[0m\u001b[1;33m]\u001b[0m\u001b[1;33m[\u001b[0m\u001b[0mi\u001b[0m\u001b[1;33m]\u001b[0m\u001b[1;33m,\u001b[0m \u001b[0mj\u001b[0m\u001b[1;33m)\u001b[0m\u001b[1;33m\u001b[0m\u001b[1;33m\u001b[0m\u001b[0m\n\u001b[0m\u001b[0;32m     31\u001b[0m             \u001b[0mprint\u001b[0m\u001b[1;33m(\u001b[0m\u001b[1;33m[\u001b[0m\u001b[0mself\u001b[0m\u001b[1;33m.\u001b[0m\u001b[0mqr\u001b[0m\u001b[1;33m[\u001b[0m\u001b[0mk\u001b[0m\u001b[1;33m]\u001b[0m \u001b[1;32mfor\u001b[0m \u001b[0mk\u001b[0m \u001b[1;32min\u001b[0m \u001b[0mrange\u001b[0m\u001b[1;33m(\u001b[0m\u001b[0mself\u001b[0m\u001b[1;33m.\u001b[0m\u001b[0mvisible\u001b[0m\u001b[1;33m)\u001b[0m\u001b[1;33m]\u001b[0m\u001b[1;33m)\u001b[0m\u001b[1;33m\u001b[0m\u001b[1;33m\u001b[0m\u001b[0m\n\u001b[0;32m     32\u001b[0m             \u001b[0mprint\u001b[0m\u001b[1;33m(\u001b[0m\u001b[0mself\u001b[0m\u001b[1;33m.\u001b[0m\u001b[0mqr\u001b[0m\u001b[1;33m[\u001b[0m\u001b[0mself\u001b[0m\u001b[1;33m.\u001b[0m\u001b[0mvisible\u001b[0m \u001b[1;33m+\u001b[0m \u001b[0mi\u001b[0m\u001b[1;33m]\u001b[0m\u001b[1;33m)\u001b[0m\u001b[1;33m\u001b[0m\u001b[1;33m\u001b[0m\u001b[0m\n",
      "\u001b[1;32mc:\\users\\mateusz\\appdata\\local\\programs\\python\\python37\\lib\\site-packages\\qiskit\\util.py\u001b[0m in \u001b[0;36mwrapper\u001b[1;34m(*args, **kwargs)\u001b[0m\n\u001b[0;32m    106\u001b[0m             \u001b[1;32mif\u001b[0m \u001b[0mkwargs\u001b[0m\u001b[1;33m:\u001b[0m\u001b[1;33m\u001b[0m\u001b[1;33m\u001b[0m\u001b[0m\n\u001b[0;32m    107\u001b[0m                 \u001b[0m_rename_kwargs\u001b[0m\u001b[1;33m(\u001b[0m\u001b[0mfunc\u001b[0m\u001b[1;33m.\u001b[0m\u001b[0m__name__\u001b[0m\u001b[1;33m,\u001b[0m \u001b[0mkwargs\u001b[0m\u001b[1;33m,\u001b[0m \u001b[0mkwarg_map\u001b[0m\u001b[1;33m)\u001b[0m\u001b[1;33m\u001b[0m\u001b[1;33m\u001b[0m\u001b[0m\n\u001b[1;32m--> 108\u001b[1;33m             \u001b[1;32mreturn\u001b[0m \u001b[0mfunc\u001b[0m\u001b[1;33m(\u001b[0m\u001b[1;33m*\u001b[0m\u001b[0margs\u001b[0m\u001b[1;33m,\u001b[0m \u001b[1;33m**\u001b[0m\u001b[0mkwargs\u001b[0m\u001b[1;33m)\u001b[0m\u001b[1;33m\u001b[0m\u001b[1;33m\u001b[0m\u001b[0m\n\u001b[0m\u001b[0;32m    109\u001b[0m         \u001b[1;32mreturn\u001b[0m \u001b[0mwrapper\u001b[0m\u001b[1;33m\u001b[0m\u001b[1;33m\u001b[0m\u001b[0m\n\u001b[0;32m    110\u001b[0m     \u001b[1;32mreturn\u001b[0m \u001b[0mdecorator\u001b[0m\u001b[1;33m\u001b[0m\u001b[1;33m\u001b[0m\u001b[0m\n",
      "\u001b[1;32mc:\\users\\mateusz\\appdata\\local\\programs\\python\\python37\\lib\\site-packages\\qiskit\\extensions\\standard\\ry.py\u001b[0m in \u001b[0;36mry\u001b[1;34m(self, theta, qubit, q)\u001b[0m\n\u001b[0;32m    103\u001b[0m             \u001b[0mRYGate\u001b[0m\u001b[1;33m(\u001b[0m\u001b[0mnumpy\u001b[0m\u001b[1;33m.\u001b[0m\u001b[0mpi\u001b[0m\u001b[1;33m/\u001b[0m\u001b[1;36m2\u001b[0m\u001b[1;33m)\u001b[0m\u001b[1;33m.\u001b[0m\u001b[0mto_matrix\u001b[0m\u001b[1;33m(\u001b[0m\u001b[1;33m)\u001b[0m\u001b[1;33m\u001b[0m\u001b[1;33m\u001b[0m\u001b[0m\n\u001b[0;32m    104\u001b[0m     \"\"\"\n\u001b[1;32m--> 105\u001b[1;33m     \u001b[1;32mreturn\u001b[0m \u001b[0mself\u001b[0m\u001b[1;33m.\u001b[0m\u001b[0mappend\u001b[0m\u001b[1;33m(\u001b[0m\u001b[0mRYGate\u001b[0m\u001b[1;33m(\u001b[0m\u001b[0mtheta\u001b[0m\u001b[1;33m)\u001b[0m\u001b[1;33m,\u001b[0m \u001b[1;33m[\u001b[0m\u001b[0mqubit\u001b[0m\u001b[1;33m]\u001b[0m\u001b[1;33m,\u001b[0m \u001b[1;33m[\u001b[0m\u001b[1;33m]\u001b[0m\u001b[1;33m)\u001b[0m\u001b[1;33m\u001b[0m\u001b[1;33m\u001b[0m\u001b[0m\n\u001b[0m\u001b[0;32m    106\u001b[0m \u001b[1;33m\u001b[0m\u001b[0m\n\u001b[0;32m    107\u001b[0m \u001b[1;33m\u001b[0m\u001b[0m\n",
      "\u001b[1;32mc:\\users\\mateusz\\appdata\\local\\programs\\python\\python37\\lib\\site-packages\\qiskit\\extensions\\standard\\ry.py\u001b[0m in \u001b[0;36m__init__\u001b[1;34m(self, theta)\u001b[0m\n\u001b[0;32m     31\u001b[0m     \u001b[1;32mdef\u001b[0m \u001b[0m__init__\u001b[0m\u001b[1;33m(\u001b[0m\u001b[0mself\u001b[0m\u001b[1;33m,\u001b[0m \u001b[0mtheta\u001b[0m\u001b[1;33m)\u001b[0m\u001b[1;33m:\u001b[0m\u001b[1;33m\u001b[0m\u001b[1;33m\u001b[0m\u001b[0m\n\u001b[0;32m     32\u001b[0m         \u001b[1;34m\"\"\"Create new ry single qubit gate.\"\"\"\u001b[0m\u001b[1;33m\u001b[0m\u001b[1;33m\u001b[0m\u001b[0m\n\u001b[1;32m---> 33\u001b[1;33m         \u001b[0msuper\u001b[0m\u001b[1;33m(\u001b[0m\u001b[1;33m)\u001b[0m\u001b[1;33m.\u001b[0m\u001b[0m__init__\u001b[0m\u001b[1;33m(\u001b[0m\u001b[1;34m\"ry\"\u001b[0m\u001b[1;33m,\u001b[0m \u001b[1;36m1\u001b[0m\u001b[1;33m,\u001b[0m \u001b[1;33m[\u001b[0m\u001b[0mtheta\u001b[0m\u001b[1;33m]\u001b[0m\u001b[1;33m)\u001b[0m\u001b[1;33m\u001b[0m\u001b[1;33m\u001b[0m\u001b[0m\n\u001b[0m\u001b[0;32m     34\u001b[0m \u001b[1;33m\u001b[0m\u001b[0m\n\u001b[0;32m     35\u001b[0m     \u001b[1;32mdef\u001b[0m \u001b[0m_define\u001b[0m\u001b[1;33m(\u001b[0m\u001b[0mself\u001b[0m\u001b[1;33m)\u001b[0m\u001b[1;33m:\u001b[0m\u001b[1;33m\u001b[0m\u001b[1;33m\u001b[0m\u001b[0m\n",
      "\u001b[1;32mc:\\users\\mateusz\\appdata\\local\\programs\\python\\python37\\lib\\site-packages\\qiskit\\circuit\\gate.py\u001b[0m in \u001b[0;36m__init__\u001b[1;34m(self, name, num_qubits, params, label)\u001b[0m\n\u001b[0;32m     36\u001b[0m         \u001b[0mself\u001b[0m\u001b[1;33m.\u001b[0m\u001b[0m_label\u001b[0m \u001b[1;33m=\u001b[0m \u001b[0mlabel\u001b[0m\u001b[1;33m\u001b[0m\u001b[1;33m\u001b[0m\u001b[0m\n\u001b[0;32m     37\u001b[0m         \u001b[0mself\u001b[0m\u001b[1;33m.\u001b[0m\u001b[0mdefinition\u001b[0m \u001b[1;33m=\u001b[0m \u001b[1;32mNone\u001b[0m\u001b[1;33m\u001b[0m\u001b[1;33m\u001b[0m\u001b[0m\n\u001b[1;32m---> 38\u001b[1;33m         \u001b[0msuper\u001b[0m\u001b[1;33m(\u001b[0m\u001b[1;33m)\u001b[0m\u001b[1;33m.\u001b[0m\u001b[0m__init__\u001b[0m\u001b[1;33m(\u001b[0m\u001b[0mname\u001b[0m\u001b[1;33m,\u001b[0m \u001b[0mnum_qubits\u001b[0m\u001b[1;33m,\u001b[0m \u001b[1;36m0\u001b[0m\u001b[1;33m,\u001b[0m \u001b[0mparams\u001b[0m\u001b[1;33m)\u001b[0m\u001b[1;33m\u001b[0m\u001b[1;33m\u001b[0m\u001b[0m\n\u001b[0m\u001b[0;32m     39\u001b[0m \u001b[1;33m\u001b[0m\u001b[0m\n\u001b[0;32m     40\u001b[0m     \u001b[1;32mdef\u001b[0m \u001b[0mto_matrix\u001b[0m\u001b[1;33m(\u001b[0m\u001b[0mself\u001b[0m\u001b[1;33m)\u001b[0m\u001b[1;33m:\u001b[0m\u001b[1;33m\u001b[0m\u001b[1;33m\u001b[0m\u001b[0m\n",
      "\u001b[1;32mc:\\users\\mateusz\\appdata\\local\\programs\\python\\python37\\lib\\site-packages\\qiskit\\circuit\\instruction.py\u001b[0m in \u001b[0;36m__init__\u001b[1;34m(self, name, num_qubits, num_clbits, params)\u001b[0m\n\u001b[0;32m     81\u001b[0m         \u001b[1;31m# empty definition means opaque or fundamental instruction\u001b[0m\u001b[1;33m\u001b[0m\u001b[1;33m\u001b[0m\u001b[1;33m\u001b[0m\u001b[0m\n\u001b[0;32m     82\u001b[0m         \u001b[0mself\u001b[0m\u001b[1;33m.\u001b[0m\u001b[0m_definition\u001b[0m \u001b[1;33m=\u001b[0m \u001b[1;32mNone\u001b[0m\u001b[1;33m\u001b[0m\u001b[1;33m\u001b[0m\u001b[0m\n\u001b[1;32m---> 83\u001b[1;33m         \u001b[0mself\u001b[0m\u001b[1;33m.\u001b[0m\u001b[0mparams\u001b[0m \u001b[1;33m=\u001b[0m \u001b[0mparams\u001b[0m\u001b[1;33m\u001b[0m\u001b[1;33m\u001b[0m\u001b[0m\n\u001b[0m\u001b[0;32m     84\u001b[0m \u001b[1;33m\u001b[0m\u001b[0m\n\u001b[0;32m     85\u001b[0m     \u001b[1;32mdef\u001b[0m \u001b[0m__eq__\u001b[0m\u001b[1;33m(\u001b[0m\u001b[0mself\u001b[0m\u001b[1;33m,\u001b[0m \u001b[0mother\u001b[0m\u001b[1;33m)\u001b[0m\u001b[1;33m:\u001b[0m\u001b[1;33m\u001b[0m\u001b[1;33m\u001b[0m\u001b[0m\n",
      "\u001b[1;32mc:\\users\\mateusz\\appdata\\local\\programs\\python\\python37\\lib\\site-packages\\qiskit\\circuit\\instruction.py\u001b[0m in \u001b[0;36mparams\u001b[1;34m(self, parameters)\u001b[0m\n\u001b[0;32m    203\u001b[0m             \u001b[1;32melse\u001b[0m\u001b[1;33m:\u001b[0m\u001b[1;33m\u001b[0m\u001b[1;33m\u001b[0m\u001b[0m\n\u001b[0;32m    204\u001b[0m                 raise CircuitError(\"invalid param type {0} in instruction \"\n\u001b[1;32m--> 205\u001b[1;33m                                    \"{1}\".format(type(single_param), self.name))\n\u001b[0m\u001b[0;32m    206\u001b[0m \u001b[1;33m\u001b[0m\u001b[0m\n\u001b[0;32m    207\u001b[0m     \u001b[1;32mdef\u001b[0m \u001b[0mis_parameterized\u001b[0m\u001b[1;33m(\u001b[0m\u001b[0mself\u001b[0m\u001b[1;33m)\u001b[0m\u001b[1;33m:\u001b[0m\u001b[1;33m\u001b[0m\u001b[1;33m\u001b[0m\u001b[0m\n",
      "\u001b[1;31mCircuitError\u001b[0m: \"invalid param type <class 'torch.Tensor'> in instruction ry\""
     ]
    }
   ],
   "source": [
    "# trenowanie modelu\n",
    "\n",
    "model = Net()\n",
    "optimizer = optim.Adam(model.parameters(), lr=0.001)\n",
    "loss_func = nn.NLLLoss()\n",
    "\n",
    "epochs = 20\n",
    "loss_list = []\n",
    "\n",
    "model.train()\n",
    "for epoch in range(epochs):\n",
    "    total_loss = []\n",
    "    for batch_idx, (data, target) in enumerate(train_loader):\n",
    "#         target = target.float() # for MSELoss() function\n",
    "        optimizer.zero_grad()\n",
    "        # Forward pass\n",
    "        output = model(data)\n",
    "        # Calculating loss\n",
    "        loss = loss_func(output, target)\n",
    "        # Backward pass\n",
    "        loss.backward()\n",
    "        # Optimize the weights\n",
    "        optimizer.step()\n",
    "        \n",
    "        total_loss.append(loss.item())\n",
    "    loss_list.append(sum(total_loss)/len(total_loss))\n",
    "    print('Training [{:.0f}%]\\tLoss: {:.4f}'.format(\n",
    "        100. * (epoch + 1) / epochs, loss_list[-1]))"
   ]
  },
  {
   "cell_type": "code",
   "execution_count": 77,
   "metadata": {},
   "outputs": [
    {
     "data": {
      "text/plain": [
       "Text(0, 0.5, 'Neg Log Likelihood Loss')"
      ]
     },
     "execution_count": 77,
     "metadata": {},
     "output_type": "execute_result"
    },
    {
     "data": {
      "image/png": "[encoded data removed]",
      "text/plain": [
       "<Figure size 432x288 with 1 Axes>"
      ]
     },
     "metadata": {
      "needs_background": "light"
     },
     "output_type": "display_data"
    }
   ],
   "source": [
    "plt.plot(loss_list)\n",
    "plt.title('Hybrid NN Training Convergence')\n",
    "plt.xlabel('Training Iterations')\n",
    "plt.ylabel('Neg Log Likelihood Loss')"
   ]
  },
  {
   "cell_type": "code",
   "execution_count": 29,
   "metadata": {},
   "outputs": [
    {
     "name": "stdout",
     "output_type": "stream",
     "text": [
      "Performance on test data:\n",
      "\tLoss: -47457742664.0000\n",
      "\tAccuracy: 98.0%\n"
     ]
    }
   ],
   "source": [
    "model.eval()\n",
    "with torch.no_grad():\n",
    "    \n",
    "    correct = 0\n",
    "    for batch_idx, (data, target) in enumerate(test_loader):\n",
    "        output = model(data)\n",
    "        \n",
    "        pred = output.argmax(dim=1, keepdim=True) \n",
    "        correct += pred.eq(target.view_as(pred)).sum().item()\n",
    "        \n",
    "        loss = loss_func(output, target)\n",
    "        total_loss.append(loss.item())\n",
    "        \n",
    "    print('Performance on test data:\\n\\tLoss: {:.4f}\\n\\tAccuracy: {:.1f}%'.format(\n",
    "        sum(total_loss) / len(total_loss),\n",
    "        correct / len(test_loader) * 100)\n",
    "        )"
   ]
  },
  {
   "cell_type": "code",
   "execution_count": 30,
   "metadata": {},
   "outputs": [
    {
     "data": {
      "image/png": "[encoded data removed]",
      "text/plain": [
       "<Figure size 720x216 with 6 Axes>"
      ]
     },
     "metadata": {},
     "output_type": "display_data"
    }
   ],
   "source": [
    "n_samples_show = 6\n",
    "count = 0\n",
    "fig, axes = plt.subplots(nrows=1, ncols=n_samples_show, figsize=(10, 3))\n",
    "\n",
    "model.eval()\n",
    "with torch.no_grad():\n",
    "    for batch_idx, (data, target) in enumerate(test_loader):\n",
    "        if count == n_samples_show:\n",
    "            break\n",
    "        output = model(data)\n",
    "        \n",
    "        pred = output.argmax(dim=1, keepdim=True) \n",
    "\n",
    "        axes[count].imshow(data[0].numpy().squeeze(), cmap='gray')\n",
    "\n",
    "        axes[count].set_xticks([])\n",
    "        axes[count].set_yticks([])\n",
    "        axes[count].set_title('Predicted {}'.format(pred.item()))\n",
    "        \n",
    "        count += 1"
   ]
  },
  {
   "cell_type": "code",
   "execution_count": null,
   "metadata": {},
   "outputs": [],
   "source": [
    "# nie trzeba odpalać STARE FUNKCJE\n",
    "epsilon = 0.01\n",
    "def update(ph, expected_ph, weight_matrix, lr):\n",
    "    gradient = []\n",
    "    for i, row in enumerate(weight_matrix):\n",
    "        gradient_row = []\n",
    "        for j, el in enumerate(row):\n",
    "            weight_matrix[i][j] += epsilon\n",
    "            result_plus = circuit_function(qc, weight_matrix)\n",
    "\n",
    "            weight_matrix[i][j] -= 2*epsilon\n",
    "            result_minus = circuit_function(qc, weight_matrix)\n",
    "\n",
    "            weight_matrix[i][j] += epsilon\n",
    "#             result_zero = circuit_function(qc, weight_matrix)\n",
    "#             print(\"ph\", result_zero)\n",
    "#             print(\"exp_ph\", expected_ph)\n",
    "#             print(\"el final:\", el)\n",
    "#             print(result_plus - result_minus)\n",
    "            result = (result_plus - result_minus)/(2*epsilon) * lr * (ph - expected_ph)\n",
    "            gradient_row.append(result)\n",
    "        gradient.append(gradient_row)\n",
    "#     print(\"gradient\", gradient)\n",
    "\n",
    "    weight_matrix = weight_matrix - gradient\n",
    "    return weight_matrix"
   ]
  },
  {
   "cell_type": "code",
   "execution_count": 8,
   "metadata": {},
   "outputs": [
    {
     "name": "stdout",
     "output_type": "stream",
     "text": [
      "[{'x': array([1, 1]), 'y': 0}, {'x': array([0, 0]), 'y': 0}, {'x': array([0, 1]), 'y': 1}, {'x': array([1, 1]), 'y': 0}]\n"
     ]
    }
   ],
   "source": [
    "def create_dataset(dataset_size):\n",
    "    dataset = []\n",
    "    for i in range(dataset_size):\n",
    "        x = np.array([random.choice([0,1]), random.choice([0,1])])\n",
    "        y = 1\n",
    "        if np.array_equal(x, np.array([0,0])) or np.array_equal(x, np.array([1,1])):\n",
    "            y = 0\n",
    "        dataset.append({\"x\": x, \"y\": y})\n",
    "    return dataset\n",
    "\n",
    "dataset = create_dataset(4)\n",
    "print(dataset)"
   ]
  },
  {
   "cell_type": "code",
   "execution_count": 51,
   "metadata": {
    "scrolled": true
   },
   "outputs": [
    {
     "ename": "NameError",
     "evalue": "name 'create_dataset' is not defined",
     "output_type": "error",
     "traceback": [
      "\u001b[1;31m---------------------------------------------------------------------------\u001b[0m",
      "\u001b[1;31mNameError\u001b[0m                                 Traceback (most recent call last)",
      "\u001b[1;32m<ipython-input-51-5b755048f991>\u001b[0m in \u001b[0;36m<module>\u001b[1;34m\u001b[0m\n\u001b[0;32m     12\u001b[0m \u001b[1;31m# x = np.array([random.uniform(0, 1) for n in range(visible)])\u001b[0m\u001b[1;33m\u001b[0m\u001b[1;33m\u001b[0m\u001b[1;33m\u001b[0m\u001b[0m\n\u001b[0;32m     13\u001b[0m \u001b[1;33m\u001b[0m\u001b[0m\n\u001b[1;32m---> 14\u001b[1;33m \u001b[0mdataset\u001b[0m \u001b[1;33m=\u001b[0m \u001b[0mcreate_dataset\u001b[0m\u001b[1;33m(\u001b[0m\u001b[1;36m10\u001b[0m\u001b[1;33m)\u001b[0m\u001b[1;33m\u001b[0m\u001b[1;33m\u001b[0m\u001b[0m\n\u001b[0m\u001b[0;32m     15\u001b[0m \u001b[0mprint\u001b[0m\u001b[1;33m(\u001b[0m\u001b[0mdataset\u001b[0m\u001b[1;33m[\u001b[0m\u001b[1;36m0\u001b[0m\u001b[1;33m]\u001b[0m\u001b[1;33m[\u001b[0m\u001b[1;34m\"x\"\u001b[0m\u001b[1;33m]\u001b[0m\u001b[1;33m[\u001b[0m\u001b[1;36m0\u001b[0m\u001b[1;33m]\u001b[0m\u001b[1;33m)\u001b[0m\u001b[1;33m\u001b[0m\u001b[1;33m\u001b[0m\u001b[0m\n\u001b[0;32m     16\u001b[0m \u001b[0mprint\u001b[0m\u001b[1;33m(\u001b[0m\u001b[0mdataset\u001b[0m\u001b[1;33m[\u001b[0m\u001b[1;36m0\u001b[0m\u001b[1;33m]\u001b[0m\u001b[1;33m[\u001b[0m\u001b[1;34m\"x\"\u001b[0m\u001b[1;33m]\u001b[0m\u001b[1;33m[\u001b[0m\u001b[1;36m1\u001b[0m\u001b[1;33m]\u001b[0m\u001b[1;33m)\u001b[0m\u001b[1;33m\u001b[0m\u001b[1;33m\u001b[0m\u001b[0m\n",
      "\u001b[1;31mNameError\u001b[0m: name 'create_dataset' is not defined"
     ]
    }
   ],
   "source": [
    "# template do uczenia\n",
    "import matplotlib.pyplot as plt\n",
    "%matplotlib inline\n",
    "\n",
    "\n",
    "#definicja rozmiaru sieci\n",
    "visible = 2\n",
    "hidden = 1\n",
    "ancilla = visible-1\n",
    "\n",
    "#definicja wejścia (x)oraz inicjalizacja macierzy wag\n",
    "# x = np.array([random.uniform(0, 1) for n in range(visible)])\n",
    "\n",
    "dataset = create_dataset(10)\n",
    "print(dataset[0][\"x\"][0])\n",
    "print(dataset[0][\"x\"][1])\n",
    "print([n for n in range(visible)])\n",
    "\n",
    "\n",
    "weight_matrix = np.random.rand(visible, hidden) * np.pi\n",
    "\n",
    "#definicja parametrów uczenia\n",
    "num_shots = 1000\n",
    "num_epochs = 100\n",
    "qr = QuantumRegister(visible + hidden + ancilla, 'q')\n",
    "cr = ClassicalRegister(hidden, 'c')\n",
    "qc = QuantumCircuit(qr, cr)\n",
    "\n",
    "cost_function_data = []\n",
    "lr = 0.05\n",
    "\n",
    "for epoch in range(num_epochs):\n",
    "    print(\"epoch: \", epoch)\n",
    "    for i, element in enumerate(dataset):\n",
    "#         print(element)\n",
    "        x = np.array([dataset[i][\"x\"][n] for n in range(visible)])\n",
    "        exp_ph = dataset[i][\"y\"]\n",
    "        ph = circuit_function(qc, weight_matrix)\n",
    "        weight_matrix = update(ph, exp_ph, weight_matrix, lr)\n",
    "#         print(\"exp_ph\", exp_ph, \"ph\", ph, \"weight_matrix\", weight_matrix, \"cost_function\", 0.5 * (ph - exp_ph)**2)   \n",
    "    cost_function_data.append(0.5 * (ph - exp_ph)**2)\n",
    "qc.draw()\n",
    "plt.xlabel('number of epochs')\n",
    "plt.ylabel('cost')\n",
    "plt.plot(cost_function_data)\n"
   ]
  },
  {
   "cell_type": "code",
   "execution_count": 11,
   "metadata": {},
   "outputs": [
    {
     "name": "stdout",
     "output_type": "stream",
     "text": [
      "0.03\n",
      "0 \n",
      "\n",
      "0.917\n",
      "1 \n",
      "\n",
      "0.045\n",
      "0 \n",
      "\n",
      "0.912\n",
      "1 \n",
      "\n",
      "0.909\n",
      "1 \n",
      "\n",
      "0.029\n",
      "0 \n",
      "\n",
      "0.053\n",
      "0 \n",
      "\n",
      "0.041\n",
      "0 \n",
      "\n",
      "0.034\n",
      "0 \n",
      "\n",
      "0.038\n",
      "0 \n",
      "\n"
     ]
    }
   ],
   "source": [
    "for i in range(len(dataset)):\n",
    "    x = np.array([dataset[i][\"x\"][n] for n in range(visible)])\n",
    "    exp_ph = dataset[i][\"y\"]\n",
    "    ph = circuit_function(qc, weight_matrix)\n",
    "    print(ph)\n",
    "    print(exp_ph, \"\\n\")"
   ]
  },
  {
   "cell_type": "code",
   "execution_count": 12,
   "metadata": {},
   "outputs": [
    {
     "data": {
      "text/html": [
       "<pre style=\"word-wrap: normal;white-space: pre;background: #fff0;line-height: 1.1;font-family: &quot;Courier New&quot;,Courier,monospace\">        ┌─────────────────┐┌───┐┌────────────┐        \n",
       "q_0: |0>┤ Initialize(0,1) ├┤ H ├┤ Ry(1.1361) ├──■─────\n",
       "        ├─────────────────┤├───┤├────────────┤  │     \n",
       "q_1: |0>┤ Initialize(0,1) ├┤ H ├┤ Ry(4.3279) ├──■─────\n",
       "        └─────────────────┘└───┘└────────────┘┌─┴─┐┌─┐\n",
       "q_2: |0>──────────────────────────────────────┤ X ├┤M├\n",
       "                                              └───┘└╥┘\n",
       "q_3: |0>────────────────────────────────────────────╫─\n",
       "                                                    ║ \n",
       " c_0: 0 ════════════════════════════════════════════╩═\n",
       "                                                      </pre>"
      ],
      "text/plain": [
       "<qiskit.visualization.text.TextDrawing at 0x7fbb1f4d74a8>"
      ]
     },
     "execution_count": 12,
     "metadata": {},
     "output_type": "execute_result"
    }
   ],
   "source": [
    "qc.draw()"
   ]
  },
  {
   "cell_type": "code",
   "execution_count": 13,
   "metadata": {},
   "outputs": [
    {
     "name": "stdout",
     "output_type": "stream",
     "text": [
      "0.031\n"
     ]
    }
   ],
   "source": [
    "ph = circuit_function(qc, weight_matrix)\n",
    "print(ph)"
   ]
  },
  {
   "cell_type": "code",
   "execution_count": 0,
   "metadata": {},
   "outputs": [],
   "source": []
  }
 ],
 "metadata": {
  "kernelspec": {
   "display_name": "Python 3",
   "language": "python",
   "name": "python3"
  },
  "language_info": {
   "codemirror_mode": {
    "name": "ipython",
    "version": 3
   },
   "file_extension": ".py",
   "mimetype": "text/x-python",
   "name": "python",
   "nbconvert_exporter": "python",
   "pygments_lexer": "ipython3",
   "version": "3.7.3"
  }
 },
 "nbformat": 4,
 "nbformat_minor": 4
}
