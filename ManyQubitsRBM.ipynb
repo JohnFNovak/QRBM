{
 "cells": [
  {
   "cell_type": "code",
   "execution_count": 1,
   "metadata": {},
   "outputs": [],
   "source": [
    "from qiskit import IBMQ\n",
    "# IBMQ.save_account(MY_API_TOKEN)\n",
    "import qiskit \n",
    "qiskit.__version__\n",
    "\n",
    "import numpy as np\n",
    "import random\n",
    "from qiskit import QuantumCircuit, QuantumRegister\n",
    "from qiskit.quantum_info.operators import Operator\n",
    "from qiskit import(QuantumCircuit, execute, Aer)\n",
    "from qiskit.visualization import plot_histogram\n",
    "from qiskit.extensions import Initialize # Import the Inititialize function\n",
    "from qiskit.aqua.circuits.gates import multi_control_toffoli_gate"
   ]
  },
  {
   "cell_type": "code",
   "execution_count": 2,
   "metadata": {},
   "outputs": [],
   "source": [
    "visible = 2\n",
    "hidden = 2\n",
    "\n",
    "x = np.array([random.uniform(0, 1) for n in range(visible)])\n",
    "weight_matrix = np.random.rand(visible, hidden) * np.pi\n",
    "# [[np.pi/6, np.pi/4], [np.pi / 2, np.pi]]\n"
   ]
  },
  {
   "cell_type": "code",
   "execution_count": 3,
   "metadata": {},
   "outputs": [
    {
     "data": {
      "text/plain": [
       "<qiskit.circuit.instructionset.InstructionSet at 0x2b0280e08d0>"
      ]
     },
     "execution_count": 3,
     "metadata": {},
     "output_type": "execute_result"
    }
   ],
   "source": [
    "qc = QuantumCircuit(visible + hidden, visible)\n",
    "initial_state = [[np.sqrt(x[i]), np.sqrt(1-x[i])] for i in range(len(x))]\n",
    "for i in range(visible):\n",
    "    initialize_qubit = Initialize(initial_state[i])\n",
    "    qc.append(initialize_qubit, [i])\n",
    "    qc.h(i)\n",
    "for i in range(hidden):\n",
    "    for j in range(visible):\n",
    "        qc.rz(weight_matrix[j][i], j)\n",
    "#     print(list(range(visible)) + [visible + i])\n",
    "    multi_control_toffoli_gate._multicx(qc, list(range(visible)) + [visible + i])\n",
    "for i in range(hidden):\n",
    "    qc.h(visible + i)\n",
    "# Map the quantum measurement to the classical bits\n",
    "qc.measure(list(range(visible)), list(range(visible)))"
   ]
  },
  {
   "cell_type": "code",
   "execution_count": 4,
   "metadata": {},
   "outputs": [
    {
     "name": "stdout",
     "output_type": "stream",
     "text": [
      "\n",
      "Total count for 0 and 1 are: {'01': 4, '10': 65, '00': 931}\n"
     ]
    },
    {
     "data": {
      "text/html": [
       "<pre style=\"word-wrap: normal;white-space: pre;background: #fff0;line-height: 1.1;font-family: &quot;Courier New&quot;,Courier,monospace\">         ┌────────────────────────────┐┌───┐ ┌────────────┐     ┌────────────┐»\n",
       "q_0: |0>─┤ Initialize(0.72995,0.6835) ├┤ H ├─┤ Rz(2.8161) ├──■──┤ Rz(2.4315) ├»\n",
       "        ┌┴────────────────────────────┤├───┤┌┴────────────┤  │  ├────────────┤»\n",
       "q_1: |0>┤ Initialize(0.86164,0.50753) ├┤ H ├┤ Rz(0.32826) ├──■──┤ Rz(1.3743) ├»\n",
       "        └─────────────────────────────┘└───┘└─────────────┘┌─┴─┐└───┬───┬────┘»\n",
       "q_2: |0>───────────────────────────────────────────────────┤ X ├────┤ H ├─────»\n",
       "                                                           └───┘    └───┘     »\n",
       "q_3: |0>──────────────────────────────────────────────────────────────────────»\n",
       "                                                                              »\n",
       " c_0: 0 ══════════════════════════════════════════════════════════════════════»\n",
       "                                                                              »\n",
       " c_1: 0 ══════════════════════════════════════════════════════════════════════»\n",
       "                                                                              »\n",
       "«               ┌─┐   \n",
       "«q_0: ──■───────┤M├───\n",
       "«       │       └╥┘┌─┐\n",
       "«q_1: ──■────────╫─┤M├\n",
       "«       │        ║ └╥┘\n",
       "«q_2: ──┼────────╫──╫─\n",
       "«     ┌─┴─┐┌───┐ ║  ║ \n",
       "«q_3: ┤ X ├┤ H ├─╫──╫─\n",
       "«     └───┘└───┘ ║  ║ \n",
       "«c_0: ═══════════╩══╬═\n",
       "«                   ║ \n",
       "«c_1: ══════════════╩═\n",
       "«                     </pre>"
      ],
      "text/plain": [
       "         ┌────────────────────────────┐┌───┐ ┌────────────┐     ┌────────────┐»\n",
       "q_0: |0>─┤ Initialize(0.72995,0.6835) ├┤ H ├─┤ Rz(2.8161) ├──■──┤ Rz(2.4315) ├»\n",
       "        ┌┴────────────────────────────┤├───┤┌┴────────────┤  │  ├────────────┤»\n",
       "q_1: |0>┤ Initialize(0.86164,0.50753) ├┤ H ├┤ Rz(0.32826) ├──■──┤ Rz(1.3743) ├»\n",
       "        └─────────────────────────────┘└───┘└─────────────┘┌─┴─┐└───┬───┬────┘»\n",
       "q_2: |0>───────────────────────────────────────────────────┤ X ├────┤ H ├─────»\n",
       "                                                           └───┘    └───┘     »\n",
       "q_3: |0>──────────────────────────────────────────────────────────────────────»\n",
       "                                                                              »\n",
       " c_0: 0 ══════════════════════════════════════════════════════════════════════»\n",
       "                                                                              »\n",
       " c_1: 0 ══════════════════════════════════════════════════════════════════════»\n",
       "                                                                              »\n",
       "«               ┌─┐   \n",
       "«q_0: ──■───────┤M├───\n",
       "«       │       └╥┘┌─┐\n",
       "«q_1: ──■────────╫─┤M├\n",
       "«       │        ║ └╥┘\n",
       "«q_2: ──┼────────╫──╫─\n",
       "«     ┌─┴─┐┌───┐ ║  ║ \n",
       "«q_3: ┤ X ├┤ H ├─╫──╫─\n",
       "«     └───┘└───┘ ║  ║ \n",
       "«c_0: ═══════════╩══╬═\n",
       "«                   ║ \n",
       "«c_1: ══════════════╩═\n",
       "«                     "
      ]
     },
     "execution_count": 4,
     "metadata": {},
     "output_type": "execute_result"
    }
   ],
   "source": [
    "# Use Aer's qasm_simulator\n",
    "simulator = Aer.get_backend('qasm_simulator')\n",
    "\n",
    "# Execute the circuit on the qasm simulator\n",
    "job = execute(qc, simulator, shots=1000)\n",
    "\n",
    "# Grab results from the job\n",
    "result = job.result()\n",
    "\n",
    "# Returns counts\n",
    "counts = result.get_counts(qc)\n",
    "print(\"\\nTotal count for 0 and 1 are:\",counts)\n",
    "qc.draw()"
   ]
  },
  {
   "cell_type": "code",
   "execution_count": 5,
   "metadata": {},
   "outputs": [],
   "source": [
    "# visible = 2\n",
    "# hidden = 2\n",
    "# qc = QuantumCircuit(visible+hidden+ancilla, visible+hidden)\n",
    "# for i in range(visible+ hidden):\n",
    "#     initialize_qubit = Initialize([0, 1])\n",
    "#     qc.append(initialize_qubit, [i])\n",
    "# # initialize_qubit = Initialize([1, 0])\n",
    "# # qc.append(initialize_qubit, [2])\n",
    "# # for i in range(hidden):\n",
    "# #     for j in range(visible):\n",
    "# #         qc.rz(weight_matrix[j][i], j)\n",
    "# print(list(range(visible)) + [visible + 0])\n",
    "# multi_control_toffoli_gate._multicx(qc, list(range(visible)) + [visible + 0])\n",
    "# qc.measure(list(range(visible+hidden)), list(range(visible + hidden)))\n",
    "\n",
    "\n",
    "\n",
    "# # Use Aer's qasm_simulator\n",
    "# simulator = Aer.get_backend('qasm_simulator')\n",
    "\n",
    "# # Execute the circuit on the qasm simulator\n",
    "# job = execute(qc, simulator, shots=1000)\n",
    "\n",
    "# # Grab results from the job\n",
    "# result = job.result()\n",
    "\n",
    "# # Returns counts\n",
    "# counts = result.get_counts(qc)\n",
    "# print(\"\\nTotal count for 0 and 1 are:\",counts)\n",
    "# qc.draw()\n",
    "# qc.draw()"
   ]
  },
  {
   "cell_type": "code",
   "execution_count": 6,
   "metadata": {},
   "outputs": [
    {
     "name": "stdout",
     "output_type": "stream",
     "text": [
      "[[2.8161375  2.43150441]\n",
      " [0.32825671 1.37429235]]\n",
      "[[-0.44389704 -0.07523876]\n",
      " [ 0.89731788  0.8315554 ]]\n",
      "[-0.39831675 -0.06256519]\n",
      "[-0.40968101 -0.06260608]\n",
      "[0.37571716 0.72279208]\n",
      "[0.13464478 0.43755738]\n"
     ]
    }
   ],
   "source": [
    "print(weight_matrix)\n",
    "sinus_matrix = np.sin(weight_matrix + np.pi/4)\n",
    "print(sinus_matrix)\n",
    "print(sinus_matrix.prod(axis = 0))\n",
    "phi = np.arcsin(sinus_matrix.prod(axis = 0))\n",
    "print(phi)\n",
    "psi = phi + np.pi/4\n",
    "print(psi)\n",
    "ph = np.sin(psi)**2\n",
    "print(ph)"
   ]
  },
  {
   "cell_type": "code",
   "execution_count": null,
   "metadata": {},
   "outputs": [],
   "source": [
    "# template do uczenia\n",
    "\n",
    "def update(weight_matrix, h_probabilities, exp_h_probabilities):\n",
    "    ...\n",
    "\n",
    "num_epochs = 7\n",
    "weight_matrix = np.random.rand(visible, hidden) * np.pi\n",
    "\n",
    "for i in range(num_epochs):\n",
    "    qc = QuantumCircuit(visible + hidden, visible)\n",
    "    initial_state = [[np.sqrt(x[i]), np.sqrt(1-x[i])] for i in range(len(x))]\n",
    "    for i in range(visible):\n",
    "        initialize_qubit = Initialize(initial_state[i])\n",
    "        qc.append(initialize_qubit, [i])\n",
    "        qc.h(i)\n",
    "    for i in range(hidden):\n",
    "        for j in range(visible):\n",
    "            qc.rz(weight_matrix[j][i], j)\n",
    "    #     print(list(range(visible)) + [visible + i])\n",
    "        multi_control_toffoli_gate._multicx(qc, list(range(visible)) + [visible + i])\n",
    "    for i in range(hidden):\n",
    "        qc.h(visible + i)\n",
    "    # Map the quantum measurement to the classical bits\n",
    "    qc.measure(list(range(visible)), list(range(visible)))\n",
    "    \n",
    "    simulator = Aer.get_backend('qasm_simulator')\n",
    "\n",
    "    # Execute the circuit on the qasm simulator\n",
    "    job = execute(qc, simulator, shots=1000)\n",
    "\n",
    "    # Grab results from the job\n",
    "    result = job.result()\n",
    "\n",
    "    # Returns counts\n",
    "    counts = result.get_counts(qc)\n",
    "    print(\"\\nTotal count for 0 and 1 are:\",counts)\n",
    "    qc.draw()\n",
    "    \n",
    "    h_probabilities = []\n",
    "    exp_h_probabilities = []\n",
    "    \n",
    "    update(weight_matrix, h_probabilities, exp_h_probabilities)\n",
    "    "
   ]
  },
  {
   "cell_type": "code",
   "execution_count": null,
   "metadata": {},
   "outputs": [],
   "source": []
  }
 ],
 "metadata": {
  "kernelspec": {
   "display_name": "Python 3",
   "language": "python",
   "name": "python3"
  },
  "language_info": {
   "codemirror_mode": {
    "name": "ipython",
    "version": 3
   },
   "file_extension": ".py",
   "mimetype": "text/x-python",
   "name": "python",
   "nbconvert_exporter": "python",
   "pygments_lexer": "ipython3",
   "version": "3.7.4"
  }
 },
 "nbformat": 4,
 "nbformat_minor": 2
}
