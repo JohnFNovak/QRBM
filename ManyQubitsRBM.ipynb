{
 "cells": [
  {
   "cell_type": "code",
   "execution_count": 7,
   "metadata": {},
   "outputs": [],
   "source": [
    "from qiskit import IBMQ\n",
    "# IBMQ.save_account(MY_API_TOKEN)\n",
    "import qiskit \n",
    "qiskit.__version__\n",
    "\n",
    "import numpy as np\n",
    "import random\n",
    "from qiskit import QuantumCircuit, QuantumRegister, ClassicalRegister\n",
    "from qiskit.quantum_info.operators import Operator\n",
    "from qiskit import(QuantumCircuit, execute, Aer)\n",
    "from qiskit.visualization import plot_histogram\n",
    "from qiskit.extensions import Initialize # Import the Inititialize function\n",
    "from qiskit.aqua.circuits.gates import multi_control_toffoli_gate\n",
    "from qiskit.aqua.circuits.gates import multi_control_multi_target_gate"
   ]
  },
  {
   "cell_type": "code",
   "execution_count": 8,
   "metadata": {},
   "outputs": [],
   "source": [
    "visible = 2\n",
    "hidden = 2\n",
    "\n",
    "x = np.array([random.uniform(0, 1) for n in range(visible)])\n",
    "weight_matrix = np.random.rand(visible, hidden) * np.pi\n",
    "# [[np.pi/6, np.pi/4], [np.pi / 2, np.pi]]\n"
   ]
  },
  {
   "cell_type": "code",
   "execution_count": 9,
   "metadata": {},
   "outputs": [
    {
     "data": {
      "text/plain": [
       "<qiskit.circuit.instructionset.InstructionSet at 0x13469aa90>"
      ]
     },
     "execution_count": 9,
     "metadata": {},
     "output_type": "execute_result"
    }
   ],
   "source": [
    "qc = QuantumCircuit(visible + hidden, visible)\n",
    "initial_state = [[np.sqrt(x[i]), np.sqrt(1-x[i])] for i in range(len(x))]\n",
    "for i in range(visible):\n",
    "    initialize_qubit = Initialize(initial_state[i])\n",
    "    qc.append(initialize_qubit, [i])\n",
    "    qc.h(i)\n",
    "for i in range(hidden):\n",
    "    for j in range(visible):\n",
    "        qc.rz(weight_matrix[j][i], j)\n",
    "#     print(list(range(visible)) + [visible + i])\n",
    "    multi_control_toffoli_gate._multicx(qc, list(range(visible)) + [visible + i])\n",
    "for i in range(hidden):\n",
    "    qc.h(visible + i)\n",
    "# Map the quantum measurement to the classical bits\n",
    "qc.measure(list(range(visible)), list(range(visible)))"
   ]
  },
  {
   "cell_type": "code",
   "execution_count": 10,
   "metadata": {},
   "outputs": [
    {
     "name": "stdout",
     "output_type": "stream",
     "text": [
      "\n",
      "Total count for 0 and 1 are: {'01': 7, '00': 642, '11': 8, '10': 343}\n"
     ]
    },
    {
     "data": {
      "image/png": "[encoded data removed]",
      "text/plain": [
       "<Figure size 780.192x325.08 with 1 Axes>"
      ]
     },
     "execution_count": 10,
     "metadata": {},
     "output_type": "execute_result"
    }
   ],
   "source": [
    "# Use Aer's qasm_simulator\n",
    "simulator = Aer.get_backend('qasm_simulator')\n",
    "\n",
    "# Execute the circuit on the qasm simulator\n",
    "job = execute(qc, simulator, shots=1000)\n",
    "\n",
    "# Grab results from the job\n",
    "result = job.result()\n",
    "\n",
    "# Returns counts\n",
    "counts = result.get_counts(qc)\n",
    "print(\"\\nTotal count for 0 and 1 are:\",counts)\n",
    "qc.draw(output='mpl')"
   ]
  },
  {
   "cell_type": "code",
   "execution_count": 14,
   "metadata": {},
   "outputs": [
    {
     "name": "stderr",
     "output_type": "stream",
     "text": [
      "No measurements in circuit \"circuit8\": count data will return all zeros.\n"
     ]
    },
    {
     "name": "stdout",
     "output_type": "stream",
     "text": [
      "[0, 1, 2, 3]\n",
      "[6, 7]\n",
      "\n",
      "Total count for 0 and 1 are: {'000': 1000}\n"
     ]
    },
    {
     "data": {
      "text/html": [
       "<pre style=\"word-wrap: normal;white-space: pre;background: #fff0;line-height: 1.1;font-family: &quot;Courier New&quot;,Courier,monospace\">        ┌─────────────────┐                                                  »\n",
       "q_0: |0>┤ Initialize(0,1) ├──■───────────────────■────■───────────────────■──»\n",
       "        ├─────────────────┤  │                   │    │                   │  »\n",
       "q_1: |0>┤ Initialize(0,1) ├──■───────────────────■────■───────────────────■──»\n",
       "        ├─────────────────┤  │                   │    │                   │  »\n",
       "q_2: |0>┤ Initialize(0,1) ├──┼────■─────────■────┼────┼────■─────────■────┼──»\n",
       "        ├─────────────────┤  │    │  ┌───┐  │    │    │    │         │    │  »\n",
       "q_3: |0>┤ Initialize(0,1) ├──┼────┼──┤ X ├──┼────┼────┼────┼─────────┼────┼──»\n",
       "        ├─────────────────┤  │    │  └─┬─┘  │    │    │    │  ┌───┐  │    │  »\n",
       "q_4: |0>┤ Initialize(0,1) ├──┼────┼────┼────┼────┼────┼────┼──┤ X ├──┼────┼──»\n",
       "        ├─────────────────┤  │    │    │    │    │    │    │  └─┬─┘  │    │  »\n",
       "q_5: |0>┤ Initialize(0,1) ├──┼────┼────┼────┼────┼────┼────┼────┼────┼────┼──»\n",
       "        └─────────────────┘┌─┴─┐  │    │    │  ┌─┴─┐┌─┴─┐  │    │    │  ┌─┴─┐»\n",
       "q_6: |0>───────────────────┤ X ├──■────┼────■──┤ X ├┤ X ├──■────┼────■──┤ X ├»\n",
       "                           └───┘┌─┴─┐  │  ┌─┴─┐└───┘└───┘┌─┴─┐  │  ┌─┴─┐└───┘»\n",
       "q_7: |0>────────────────────────┤ X ├──■──┤ X ├──────────┤ X ├──■──┤ X ├─────»\n",
       "                                └───┘     └───┘          └───┘     └───┘     »\n",
       " c_0: 0 ═════════════════════════════════════════════════════════════════════»\n",
       "                                                                             »\n",
       " c_1: 0 ═════════════════════════════════════════════════════════════════════»\n",
       "                                                                             »\n",
       " c_2: 0 ═════════════════════════════════════════════════════════════════════»\n",
       "                                                                             »\n",
       "«                              \n",
       "«q_0: ──■───────────────────■──\n",
       "«       │                   │  \n",
       "«q_1: ──■───────────────────■──\n",
       "«       │                   │  \n",
       "«q_2: ──┼────■─────────■────┼──\n",
       "«       │    │         │    │  \n",
       "«q_3: ──┼────┼─────────┼────┼──\n",
       "«       │    │         │    │  \n",
       "«q_4: ──┼────┼─────────┼────┼──\n",
       "«       │    │  ┌───┐  │    │  \n",
       "«q_5: ──┼────┼──┤ X ├──┼────┼──\n",
       "«     ┌─┴─┐  │  └─┬─┘  │  ┌─┴─┐\n",
       "«q_6: ┤ X ├──■────┼────■──┤ X ├\n",
       "«     └───┘┌─┴─┐  │  ┌─┴─┐└───┘\n",
       "«q_7: ─────┤ X ├──■──┤ X ├─────\n",
       "«          └───┘     └───┘     \n",
       "«c_0: ═════════════════════════\n",
       "«                              \n",
       "«c_1: ═════════════════════════\n",
       "«                              \n",
       "«c_2: ═════════════════════════\n",
       "«                              </pre>"
      ],
      "text/plain": [
       "        ┌─────────────────┐                                                  »\n",
       "q_0: |0>┤ Initialize(0,1) ├──■───────────────────■────■───────────────────■──»\n",
       "        ├─────────────────┤  │                   │    │                   │  »\n",
       "q_1: |0>┤ Initialize(0,1) ├──■───────────────────■────■───────────────────■──»\n",
       "        ├─────────────────┤  │                   │    │                   │  »\n",
       "q_2: |0>┤ Initialize(0,1) ├──┼────■─────────■────┼────┼────■─────────■────┼──»\n",
       "        ├─────────────────┤  │    │  ┌───┐  │    │    │    │         │    │  »\n",
       "q_3: |0>┤ Initialize(0,1) ├──┼────┼──┤ X ├──┼────┼────┼────┼─────────┼────┼──»\n",
       "        ├─────────────────┤  │    │  └─┬─┘  │    │    │    │  ┌───┐  │    │  »\n",
       "q_4: |0>┤ Initialize(0,1) ├──┼────┼────┼────┼────┼────┼────┼──┤ X ├──┼────┼──»\n",
       "        ├─────────────────┤  │    │    │    │    │    │    │  └─┬─┘  │    │  »\n",
       "q_5: |0>┤ Initialize(0,1) ├──┼────┼────┼────┼────┼────┼────┼────┼────┼────┼──»\n",
       "        └─────────────────┘┌─┴─┐  │    │    │  ┌─┴─┐┌─┴─┐  │    │    │  ┌─┴─┐»\n",
       "q_6: |0>───────────────────┤ X ├──■────┼────■──┤ X ├┤ X ├──■────┼────■──┤ X ├»\n",
       "                           └───┘┌─┴─┐  │  ┌─┴─┐└───┘└───┘┌─┴─┐  │  ┌─┴─┐└───┘»\n",
       "q_7: |0>────────────────────────┤ X ├──■──┤ X ├──────────┤ X ├──■──┤ X ├─────»\n",
       "                                └───┘     └───┘          └───┘     └───┘     »\n",
       " c_0: 0 ═════════════════════════════════════════════════════════════════════»\n",
       "                                                                             »\n",
       " c_1: 0 ═════════════════════════════════════════════════════════════════════»\n",
       "                                                                             »\n",
       " c_2: 0 ═════════════════════════════════════════════════════════════════════»\n",
       "                                                                             »\n",
       "«                              \n",
       "«q_0: ──■───────────────────■──\n",
       "«       │                   │  \n",
       "«q_1: ──■───────────────────■──\n",
       "«       │                   │  \n",
       "«q_2: ──┼────■─────────■────┼──\n",
       "«       │    │         │    │  \n",
       "«q_3: ──┼────┼─────────┼────┼──\n",
       "«       │    │         │    │  \n",
       "«q_4: ──┼────┼─────────┼────┼──\n",
       "«       │    │  ┌───┐  │    │  \n",
       "«q_5: ──┼────┼──┤ X ├──┼────┼──\n",
       "«     ┌─┴─┐  │  └─┬─┘  │  ┌─┴─┐\n",
       "«q_6: ┤ X ├──■────┼────■──┤ X ├\n",
       "«     └───┘┌─┴─┐  │  ┌─┴─┐└───┘\n",
       "«q_7: ─────┤ X ├──■──┤ X ├─────\n",
       "«          └───┘     └───┘     \n",
       "«c_0: ═════════════════════════\n",
       "«                              \n",
       "«c_1: ═════════════════════════\n",
       "«                              \n",
       "«c_2: ═════════════════════════\n",
       "«                              "
      ]
     },
     "execution_count": 14,
     "metadata": {},
     "output_type": "execute_result"
    }
   ],
   "source": [
    "# komórka do testowania wieloqubitowej bramki CNOT\n",
    "# NIE ZALEŻNA OD WŁAŚCIWEJ SIECI\n",
    "\n",
    "# work = ancilla\n",
    "def n_control_gate(qc, target, control: list, work: list, gate_type):\n",
    "    if len(control) - len(work) != 1:\n",
    "        raise Exception(\"Wrong number of control or work qubits!\")\n",
    "\n",
    "    qc.toffoli(control[0], control[1], work[0])\n",
    "    control_left = control[2:]\n",
    "    \n",
    "    for i, c_bit in enumerate(control_left):\n",
    "        qc.toffoli(c_bit, work[i], work[i+1])\n",
    "    \n",
    "    qc.gate_type(work[-1], target)\n",
    "    \n",
    "    for i, c_bit in reversed(list(enumerate(control_left))):\n",
    "        qc.toffoli(c_bit, work[i], work[i+1])\n",
    "    \n",
    "    qc.toffoli(control[0], control[1], work[0])\n",
    "    \n",
    "    \n",
    "\n",
    "        \n",
    "\n",
    "visible = 3\n",
    "hidden = 3\n",
    "ancilla = visible - 1\n",
    "\n",
    "# qr_visible = QuantumRegister(visible, 'visible')\n",
    "# qr_hidden = QuantumRegister(hidden, 'hidden')\n",
    "# cr = ClassicalRegister(3, 'c')\n",
    "# if visible > 2:\n",
    "#     anc = QuantumRegister(visible - 2, 'ancilla')\n",
    "#     qc = QuantumCircuit(qr_visible, qr_hidden, anc, cr)\n",
    "# else:\n",
    "#     qc = QuantumCircuit(qr_visible, qr_hidden, cr)\n",
    "\n",
    "\n",
    "# qr_visible = QuantumRegister(visible, 'visible')\n",
    "qr = QuantumRegister(visible + hidden + ancilla, 'q')\n",
    "cr = ClassicalRegister(3, 'c')\n",
    "qc = QuantumCircuit(qr, cr)\n",
    "\n",
    "\n",
    "for i in range(visible + hidden):\n",
    "    initialize_qubit = Initialize([0, 1])\n",
    "    qc.append(initialize_qubit, [i])\n",
    "# initialize_qubit = Initialize([1, 0])\n",
    "# qc.append(initialize_qubit, [2])\n",
    "# for i in range(hidden):\n",
    "#     for j in range(visible):\n",
    "#         qc.rz(weight_matrix[j][i], j)\n",
    "print(list(range(visible)) + [visible + 0])\n",
    "print(list(range(visible+hidden, visible+hidden+ancilla)))\n",
    "# multi_control_multi_target_gate.mcmt(qc, list(range(visible)), [], QuantumCircuit.cx, [visible])\n",
    "\n",
    "# print([qr_visible[i] for i in range(visible)])\n",
    "# print([anc[i] for i in range(ancilla)])\n",
    "# print([qr_hidden[i] for i in range(hidden)])\n",
    "for j in range(hidden):\n",
    "    multi_control_multi_target_gate.mcmt(qc, [qr[i] for i in range(visible)], [qr[i] for i in range(visible + hidden, visible + hidden + ancilla)], QuantumCircuit.cx, [qr[visible + j]])\n",
    "\n",
    "# multi_control_multi_target_gate.mcmt(qc, [qr_visible[i] for i in range(visible)], [anc[i] for i in range(ancilla)], QuantumCircuit.cx, [qr_hidden[0]])\n",
    "# qc.measure(list(range(visible+hidden)), list(range(visible + hidden)))\n",
    "# (qc, list(range(visible)) + [visible + 0], qancilla = 6)\n",
    "\n",
    "\n",
    "# Use Aer's qasm_simulator\n",
    "simulator = Aer.get_backend('qasm_simulator')\n",
    "\n",
    "# Execute the circuit on the qasm simulator\n",
    "job = execute(qc, simulator, shots=1000)\n",
    "\n",
    "# Grab results from the job\n",
    "result = job.result()\n",
    "\n",
    "# Returns counts\n",
    "counts = result.get_counts(qc)\n",
    "print(\"\\nTotal count for 0 and 1 are:\",counts)\n",
    "qc.draw()"
   ]
  },
  {
   "cell_type": "code",
   "execution_count": 7,
   "metadata": {},
   "outputs": [
    {
     "name": "stdout",
     "output_type": "stream",
     "text": [
      "[[0.54031268 1.26260071]\n",
      " [2.29787886 3.10340355]]\n",
      "[[ 0.97011659  0.88828326]\n",
      " [ 0.05828258 -0.67959401]]\n",
      "[ 0.0565409  -0.60367198]\n",
      "[ 0.05657107 -0.64809902]\n",
      "[0.84196923 0.13729914]\n",
      "[0.55645045 0.0187329 ]\n"
     ]
    }
   ],
   "source": [
    "print(weight_matrix)\n",
    "sinus_matrix = np.sin(weight_matrix + np.pi/4)\n",
    "print(sinus_matrix)\n",
    "print(sinus_matrix.prod(axis = 0))\n",
    "phi = np.arcsin(sinus_matrix.prod(axis = 0))\n",
    "print(phi)\n",
    "psi = phi + np.pi/4\n",
    "print(psi)\n",
    "ph = np.sin(psi)**2\n",
    "print(ph)"
   ]
  },
  {
   "cell_type": "code",
   "execution_count": 13,
   "metadata": {},
   "outputs": [
    {
     "name": "stdout",
     "output_type": "stream",
     "text": [
      "\n",
      "Total count for 0 and 1 are: {'10': 276, '00': 591, '11': 53, '01': 80}\n",
      "[[1.40253494 0.82552989]\n",
      " [0.32263556 0.97087651]]\n",
      "\n",
      "Total count for 0 and 1 are: {'10': 288, '00': 596, '11': 45, '01': 71}\n",
      "[[1.40253494 0.82552989]\n",
      " [0.32263556 0.97087651]]\n",
      "\n",
      "Total count for 0 and 1 are: {'10': 278, '00': 588, '11': 46, '01': 88}\n",
      "[[1.40253494 0.82552989]\n",
      " [0.32263556 0.97087651]]\n"
     ]
    }
   ],
   "source": [
    "# template do uczenia\n",
    "\n",
    "def update():\n",
    "    global weight_matrix\n",
    "    \n",
    "    sinus_matrix = np.sin(weight_matrix + np.pi/4)\n",
    "    phi = np.arcsin(sinus_matrix.prod(axis = 0))\n",
    "    psi = phi + np.pi/4\n",
    "    ph = np.sin(psi)**2\n",
    "    \n",
    "    exp_ph = []\n",
    "    ...\n",
    "\n",
    "num_epochs = 3\n",
    "weight_matrix = np.random.rand(visible, hidden) * np.pi\n",
    "\n",
    "for i in range(num_epochs):\n",
    "    qc = QuantumCircuit(visible + hidden, visible)\n",
    "    initial_state = [[np.sqrt(x[i]), np.sqrt(1-x[i])] for i in range(len(x))]\n",
    "    for i in range(visible):\n",
    "        initialize_qubit = Initialize(initial_state[i])\n",
    "        qc.append(initialize_qubit, [i])\n",
    "        qc.h(i)\n",
    "    for i in range(hidden):\n",
    "        for j in range(visible):\n",
    "            qc.rz(weight_matrix[j][i], j)\n",
    "    #     print(list(range(visible)) + [visible + i])\n",
    "        multi_control_toffoli_gate._multicx(qc, list(range(visible)) + [visible + i])\n",
    "    for i in range(hidden):\n",
    "        qc.h(visible + i)\n",
    "    # Map the quantum measurement to the classical bits\n",
    "    qc.measure(list(range(visible)), list(range(visible)))\n",
    "    \n",
    "    simulator = Aer.get_backend('qasm_simulator')\n",
    "\n",
    "    # Execute the circuit on the qasm simulator\n",
    "    job = execute(qc, simulator, shots=1000)\n",
    "\n",
    "    # Grab results from the job\n",
    "    result = job.result()\n",
    "\n",
    "    # Returns counts\n",
    "    counts = result.get_counts(qc)\n",
    "    print(\"\\nTotal count for 0 and 1 are:\",counts)\n",
    "    print(weight_matrix)\n",
    "#     qc.draw()    \n",
    "    \n",
    "    update()\n",
    "    "
   ]
  },
  {
   "cell_type": "code",
   "execution_count": null,
   "metadata": {},
   "outputs": [],
   "source": []
  }
 ],
 "metadata": {
  "kernelspec": {
   "display_name": "Python 3",
   "language": "python",
   "name": "python3"
  },
  "language_info": {
   "codemirror_mode": {
    "name": "ipython",
    "version": 3
   },
   "file_extension": ".py",
   "mimetype": "text/x-python",
   "name": "python",
   "nbconvert_exporter": "python",
   "pygments_lexer": "ipython3",
   "version": "3.7.4"
  }
 },
 "nbformat": 4,
 "nbformat_minor": 2
}
