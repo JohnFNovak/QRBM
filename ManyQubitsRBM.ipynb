{
 "cells": [
  {
   "cell_type": "code",
   "execution_count": 2,
   "metadata": {},
   "outputs": [],
   "source": [
    "from qiskit import IBMQ\n",
    "# IBMQ.save_account(MY_API_TOKEN)\n",
    "import qiskit \n",
    "qiskit.__version__\n",
    "\n",
    "import numpy as np\n",
    "import random\n",
    "from qiskit import QuantumCircuit, QuantumRegister\n",
    "from qiskit.quantum_info.operators import Operator\n",
    "from qiskit import(QuantumCircuit, execute, Aer)\n",
    "from qiskit.visualization import plot_histogram\n",
    "from qiskit.extensions import Initialize # Import the Inititialize function\n",
    "from qiskit.aqua.circuits.gates import multi_control_toffoli_gate"
   ]
  },
  {
   "cell_type": "code",
   "execution_count": 3,
   "metadata": {},
   "outputs": [],
   "source": [
    "visible = 2\n",
    "hidden = 2\n",
    "\n",
    "x = np.array([random.uniform(0, 1) for n in range(visible)])\n",
    "weight_matrix = np.random.rand(visible, hidden) * np.pi\n",
    "# [[np.pi/6, np.pi/4], [np.pi / 2, np.pi]]\n"
   ]
  },
  {
   "cell_type": "code",
   "execution_count": 4,
   "metadata": {},
   "outputs": [
    {
     "data": {
      "text/plain": [
       "<qiskit.circuit.instructionset.InstructionSet at 0x13582ecd0>"
      ]
     },
     "execution_count": 4,
     "metadata": {},
     "output_type": "execute_result"
    }
   ],
   "source": [
    "qc = QuantumCircuit(visible + hidden, visible)\n",
    "initial_state = [[np.sqrt(x[i]), np.sqrt(1-x[i])] for i in range(len(x))]\n",
    "for i in range(visible):\n",
    "    initialize_qubit = Initialize(initial_state[i])\n",
    "    qc.append(initialize_qubit, [i])\n",
    "    qc.h(i)\n",
    "for i in range(hidden):\n",
    "    for j in range(visible):\n",
    "        qc.rz(weight_matrix[j][i], j)\n",
    "#     print(list(range(visible)) + [visible + i])\n",
    "    multi_control_toffoli_gate._multicx(qc, list(range(visible)) + [visible + i])\n",
    "for i in range(hidden):\n",
    "    qc.h(visible + i)\n",
    "# Map the quantum measurement to the classical bits\n",
    "qc.measure(list(range(visible)), list(range(visible)))"
   ]
  },
  {
   "cell_type": "code",
   "execution_count": 5,
   "metadata": {},
   "outputs": [
    {
     "name": "stdout",
     "output_type": "stream",
     "text": [
      "\n",
      "Total count for 0 and 1 are: {'10': 266, '00': 597, '11': 44, '01': 93}\n"
     ]
    },
    {
     "data": {
      "text/html": [
       "<pre style=\"word-wrap: normal;white-space: pre;background: #fff0;line-height: 1.1;font-family: &quot;Courier New&quot;,Courier,monospace\">        ┌─────────────────────────────┐┌───┐┌─────────────┐     ┌────────────┐»\n",
       "q_0: |0>┤ Initialize(0.41234,0.91103) ├┤ H ├┤ Rz(0.54031) ├──■──┤ Rz(1.2626) ├»\n",
       "        ├─────────────────────────────┤├───┤└┬────────────┤  │  ├────────────┤»\n",
       "q_1: |0>┤ Initialize(0.98218,0.18794) ├┤ H ├─┤ Rz(2.2979) ├──■──┤ Rz(3.1034) ├»\n",
       "        └─────────────────────────────┘└───┘ └────────────┘┌─┴─┐└───┬───┬────┘»\n",
       "q_2: |0>───────────────────────────────────────────────────┤ X ├────┤ H ├─────»\n",
       "                                                           └───┘    └───┘     »\n",
       "q_3: |0>──────────────────────────────────────────────────────────────────────»\n",
       "                                                                              »\n",
       " c_0: 0 ══════════════════════════════════════════════════════════════════════»\n",
       "                                                                              »\n",
       " c_1: 0 ══════════════════════════════════════════════════════════════════════»\n",
       "                                                                              »\n",
       "«               ┌─┐   \n",
       "«q_0: ──■───────┤M├───\n",
       "«       │       └╥┘┌─┐\n",
       "«q_1: ──■────────╫─┤M├\n",
       "«       │        ║ └╥┘\n",
       "«q_2: ──┼────────╫──╫─\n",
       "«     ┌─┴─┐┌───┐ ║  ║ \n",
       "«q_3: ┤ X ├┤ H ├─╫──╫─\n",
       "«     └───┘└───┘ ║  ║ \n",
       "«c_0: ═══════════╩══╬═\n",
       "«                   ║ \n",
       "«c_1: ══════════════╩═\n",
       "«                     </pre>"
      ],
      "text/plain": [
       "        ┌─────────────────────────────┐┌───┐┌─────────────┐     ┌────────────┐»\n",
       "q_0: |0>┤ Initialize(0.41234,0.91103) ├┤ H ├┤ Rz(0.54031) ├──■──┤ Rz(1.2626) ├»\n",
       "        ├─────────────────────────────┤├───┤└┬────────────┤  │  ├────────────┤»\n",
       "q_1: |0>┤ Initialize(0.98218,0.18794) ├┤ H ├─┤ Rz(2.2979) ├──■──┤ Rz(3.1034) ├»\n",
       "        └─────────────────────────────┘└───┘ └────────────┘┌─┴─┐└───┬───┬────┘»\n",
       "q_2: |0>───────────────────────────────────────────────────┤ X ├────┤ H ├─────»\n",
       "                                                           └───┘    └───┘     »\n",
       "q_3: |0>──────────────────────────────────────────────────────────────────────»\n",
       "                                                                              »\n",
       " c_0: 0 ══════════════════════════════════════════════════════════════════════»\n",
       "                                                                              »\n",
       " c_1: 0 ══════════════════════════════════════════════════════════════════════»\n",
       "                                                                              »\n",
       "«               ┌─┐   \n",
       "«q_0: ──■───────┤M├───\n",
       "«       │       └╥┘┌─┐\n",
       "«q_1: ──■────────╫─┤M├\n",
       "«       │        ║ └╥┘\n",
       "«q_2: ──┼────────╫──╫─\n",
       "«     ┌─┴─┐┌───┐ ║  ║ \n",
       "«q_3: ┤ X ├┤ H ├─╫──╫─\n",
       "«     └───┘└───┘ ║  ║ \n",
       "«c_0: ═══════════╩══╬═\n",
       "«                   ║ \n",
       "«c_1: ══════════════╩═\n",
       "«                     "
      ]
     },
     "execution_count": 5,
     "metadata": {},
     "output_type": "execute_result"
    }
   ],
   "source": [
    "# Use Aer's qasm_simulator\n",
    "simulator = Aer.get_backend('qasm_simulator')\n",
    "\n",
    "# Execute the circuit on the qasm simulator\n",
    "job = execute(qc, simulator, shots=1000)\n",
    "\n",
    "# Grab results from the job\n",
    "result = job.result()\n",
    "\n",
    "# Returns counts\n",
    "counts = result.get_counts(qc)\n",
    "print(\"\\nTotal count for 0 and 1 are:\",counts)\n",
    "qc.draw()"
   ]
  },
  {
   "cell_type": "code",
   "execution_count": 6,
   "metadata": {},
   "outputs": [],
   "source": [
    "# visible = 2\n",
    "# hidden = 2\n",
    "# qc = QuantumCircuit(visible+hidden+ancilla, visible+hidden)\n",
    "# for i in range(visible+ hidden):\n",
    "#     initialize_qubit = Initialize([0, 1])\n",
    "#     qc.append(initialize_qubit, [i])\n",
    "# # initialize_qubit = Initialize([1, 0])\n",
    "# # qc.append(initialize_qubit, [2])\n",
    "# # for i in range(hidden):\n",
    "# #     for j in range(visible):\n",
    "# #         qc.rz(weight_matrix[j][i], j)\n",
    "# print(list(range(visible)) + [visible + 0])\n",
    "# multi_control_toffoli_gate._multicx(qc, list(range(visible)) + [visible + 0])\n",
    "# qc.measure(list(range(visible+hidden)), list(range(visible + hidden)))\n",
    "\n",
    "\n",
    "\n",
    "# # Use Aer's qasm_simulator\n",
    "# simulator = Aer.get_backend('qasm_simulator')\n",
    "\n",
    "# # Execute the circuit on the qasm simulator\n",
    "# job = execute(qc, simulator, shots=1000)\n",
    "\n",
    "# # Grab results from the job\n",
    "# result = job.result()\n",
    "\n",
    "# # Returns counts\n",
    "# counts = result.get_counts(qc)\n",
    "# print(\"\\nTotal count for 0 and 1 are:\",counts)\n",
    "# qc.draw()\n",
    "# qc.draw()"
   ]
  },
  {
   "cell_type": "code",
   "execution_count": 7,
   "metadata": {},
   "outputs": [
    {
     "name": "stdout",
     "output_type": "stream",
     "text": [
      "[[0.54031268 1.26260071]\n",
      " [2.29787886 3.10340355]]\n",
      "[[ 0.97011659  0.88828326]\n",
      " [ 0.05828258 -0.67959401]]\n",
      "[ 0.0565409  -0.60367198]\n",
      "[ 0.05657107 -0.64809902]\n",
      "[0.84196923 0.13729914]\n",
      "[0.55645045 0.0187329 ]\n"
     ]
    }
   ],
   "source": [
    "print(weight_matrix)\n",
    "sinus_matrix = np.sin(weight_matrix + np.pi/4)\n",
    "print(sinus_matrix)\n",
    "print(sinus_matrix.prod(axis = 0))\n",
    "phi = np.arcsin(sinus_matrix.prod(axis = 0))\n",
    "print(phi)\n",
    "psi = phi + np.pi/4\n",
    "print(psi)\n",
    "ph = np.sin(psi)**2\n",
    "print(ph)"
   ]
  },
  {
   "cell_type": "code",
   "execution_count": 9,
   "metadata": {},
   "outputs": [
    {
     "name": "stdout",
     "output_type": "stream",
     "text": [
      "\n",
      "Total count for 0 and 1 are: {'10': 293, '00': 583, '11': 41, '01': 83}\n",
      "weight_matrix\n",
      "\n",
      "Total count for 0 and 1 are: {'10': 259, '00': 616, '11': 38, '01': 87}\n",
      "weight_matrix\n",
      "\n",
      "Total count for 0 and 1 are: {'10': 260, '00': 604, '11': 40, '01': 96}\n",
      "weight_matrix\n"
     ]
    }
   ],
   "source": [
    "# template do uczenia\n",
    "\n",
    "def update(weight_matrix, h_probabilities, exp_h_probabilities):\n",
    "    ...\n",
    "\n",
    "num_epochs = 3\n",
    "weight_matrix = np.random.rand(visible, hidden) * np.pi\n",
    "\n",
    "for i in range(num_epochs):\n",
    "    qc = QuantumCircuit(visible + hidden, visible)\n",
    "    initial_state = [[np.sqrt(x[i]), np.sqrt(1-x[i])] for i in range(len(x))]\n",
    "    for i in range(visible):\n",
    "        initialize_qubit = Initialize(initial_state[i])\n",
    "        qc.append(initialize_qubit, [i])\n",
    "        qc.h(i)\n",
    "    for i in range(hidden):\n",
    "        for j in range(visible):\n",
    "            qc.rz(weight_matrix[j][i], j)\n",
    "    #     print(list(range(visible)) + [visible + i])\n",
    "        multi_control_toffoli_gate._multicx(qc, list(range(visible)) + [visible + i])\n",
    "    for i in range(hidden):\n",
    "        qc.h(visible + i)\n",
    "    # Map the quantum measurement to the classical bits\n",
    "    qc.measure(list(range(visible)), list(range(visible)))\n",
    "    \n",
    "    simulator = Aer.get_backend('qasm_simulator')\n",
    "\n",
    "    # Execute the circuit on the qasm simulator\n",
    "    job = execute(qc, simulator, shots=1000)\n",
    "\n",
    "    # Grab results from the job\n",
    "    result = job.result()\n",
    "\n",
    "    # Returns counts\n",
    "    counts = result.get_counts(qc)\n",
    "    print(\"\\nTotal count for 0 and 1 are:\",counts)\n",
    "    print(weight_matrix)\n",
    "#     qc.draw()\n",
    "    \n",
    "    h_probabilities = []\n",
    "    exp_h_probabilities = []\n",
    "    \n",
    "    update(weight_matrix, h_probabilities, exp_h_probabilities)\n",
    "    "
   ]
  },
  {
   "cell_type": "code",
   "execution_count": null,
   "metadata": {},
   "outputs": [],
   "source": []
  }
 ],
 "metadata": {
  "kernelspec": {
   "display_name": "Python 3",
   "language": "python",
   "name": "python3"
  },
  "language_info": {
   "codemirror_mode": {
    "name": "ipython",
    "version": 3
   },
   "file_extension": ".py",
   "mimetype": "text/x-python",
   "name": "python",
   "nbconvert_exporter": "python",
   "pygments_lexer": "ipython3",
   "version": "3.7.4"
  }
 },
 "nbformat": 4,
 "nbformat_minor": 2
}
